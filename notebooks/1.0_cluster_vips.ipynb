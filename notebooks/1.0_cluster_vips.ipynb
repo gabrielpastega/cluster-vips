{
 "cells": [
  {
   "cell_type": "markdown",
   "metadata": {},
   "source": [
    "# IMPORTS"
   ]
  },
  {
   "cell_type": "code",
   "execution_count": 4,
   "metadata": {
    "ExecuteTime": {
     "end_time": "2023-08-11T00:31:00.774205Z",
     "start_time": "2023-08-11T00:31:00.771949Z"
    }
   },
   "outputs": [],
   "source": [
    "import warnings\n",
    "warnings.simplefilter(\"ignore\")"
   ]
  },
  {
   "cell_type": "code",
   "execution_count": 208,
   "metadata": {
    "ExecuteTime": {
     "end_time": "2023-08-11T02:37:07.553780Z",
     "start_time": "2023-08-11T02:37:07.550769Z"
    }
   },
   "outputs": [],
   "source": [
    "import re\n",
    "import sqlite3\n",
    "import pickle\n",
    "import s3fs\n",
    "import os\n",
    "\n",
    "import numpy                 as np\n",
    "import pandas                as pd\n",
    "import seaborn               as sns\n",
    "import umap.umap_            as umap\n",
    "\n",
    "import matplotlib.pyplot       as plt\n",
    "\n",
    "from pandas_profiling        import ProfileReport\n",
    "from sklearn.cluster         import DBSCAN, KMeans\n",
    "from sklearn.metrics         import silhouette_score, silhouette_samples      \n",
    "from sklearn.ensemble        import RandomForestRegressor\n",
    "from sklearn.preprocessing   import MinMaxScaler, RobustScaler, StandardScaler\n",
    "from sklearn.decomposition   import PCA\n",
    "from sklearn.manifold        import TSNE      \n",
    "from sklearn.mixture         import GaussianMixture\n",
    "from sklearn.neighbors       import NearestNeighbors\n",
    "\n",
    "from scipy.cluster.hierarchy import linkage, fcluster\n",
    "from sqlalchemy              import create_engine\n",
    "from IPython.display         import display,HTML"
   ]
  },
  {
   "cell_type": "markdown",
   "metadata": {},
   "source": [
    "## HELPER FUNCTIONS"
   ]
  },
  {
   "cell_type": "code",
   "execution_count": 94,
   "metadata": {
    "ExecuteTime": {
     "end_time": "2023-08-11T00:34:28.048622Z",
     "start_time": "2023-08-11T00:34:28.045485Z"
    }
   },
   "outputs": [
    {
     "data": {
      "text/html": [
       "<style>.container { width:75% !important; }</style>"
      ],
      "text/plain": [
       "<IPython.core.display.HTML object>"
      ]
     },
     "metadata": {},
     "output_type": "display_data"
    }
   ],
   "source": [
    "display(HTML(\"<style>.container { width:75% !important; }</style>\"))"
   ]
  },
  {
   "cell_type": "markdown",
   "metadata": {},
   "source": [
    "## LOADING DATA"
   ]
  },
  {
   "cell_type": "code",
   "execution_count": 6,
   "metadata": {
    "ExecuteTime": {
     "end_time": "2023-08-11T00:31:02.228490Z",
     "start_time": "2023-08-11T00:31:01.925728Z"
    }
   },
   "outputs": [],
   "source": [
    "# loading data\n",
    "df = pd.read_csv('../data/Ecommerce.csv', encoding='cp437' )\n",
    "\n",
    "# drop empty column\n",
    "df = df.drop( columns=['Unnamed: 8'], axis=1 )"
   ]
  },
  {
   "cell_type": "markdown",
   "metadata": {},
   "source": [
    "# DESCRIÇÃO DOS DADOS"
   ]
  },
  {
   "cell_type": "code",
   "execution_count": 7,
   "metadata": {
    "ExecuteTime": {
     "end_time": "2023-08-11T00:31:03.263154Z",
     "start_time": "2023-08-11T00:31:03.255653Z"
    }
   },
   "outputs": [
    {
     "data": {
      "text/html": [
       "<div>\n",
       "<style scoped>\n",
       "    .dataframe tbody tr th:only-of-type {\n",
       "        vertical-align: middle;\n",
       "    }\n",
       "\n",
       "    .dataframe tbody tr th {\n",
       "        vertical-align: top;\n",
       "    }\n",
       "\n",
       "    .dataframe thead th {\n",
       "        text-align: right;\n",
       "    }\n",
       "</style>\n",
       "<table border=\"1\" class=\"dataframe\">\n",
       "  <thead>\n",
       "    <tr style=\"text-align: right;\">\n",
       "      <th></th>\n",
       "      <th>InvoiceNo</th>\n",
       "      <th>StockCode</th>\n",
       "      <th>Description</th>\n",
       "      <th>Quantity</th>\n",
       "      <th>InvoiceDate</th>\n",
       "      <th>UnitPrice</th>\n",
       "      <th>CustomerID</th>\n",
       "      <th>Country</th>\n",
       "    </tr>\n",
       "  </thead>\n",
       "  <tbody>\n",
       "    <tr>\n",
       "      <th>0</th>\n",
       "      <td>536365</td>\n",
       "      <td>85123A</td>\n",
       "      <td>WHITE HANGING HEART T-LIGHT HOLDER</td>\n",
       "      <td>6</td>\n",
       "      <td>29-Nov-16</td>\n",
       "      <td>2.55</td>\n",
       "      <td>17850.0</td>\n",
       "      <td>United Kingdom</td>\n",
       "    </tr>\n",
       "    <tr>\n",
       "      <th>1</th>\n",
       "      <td>536365</td>\n",
       "      <td>71053</td>\n",
       "      <td>WHITE METAL LANTERN</td>\n",
       "      <td>6</td>\n",
       "      <td>29-Nov-16</td>\n",
       "      <td>3.39</td>\n",
       "      <td>17850.0</td>\n",
       "      <td>United Kingdom</td>\n",
       "    </tr>\n",
       "    <tr>\n",
       "      <th>2</th>\n",
       "      <td>536365</td>\n",
       "      <td>84406B</td>\n",
       "      <td>CREAM CUPID HEARTS COAT HANGER</td>\n",
       "      <td>8</td>\n",
       "      <td>29-Nov-16</td>\n",
       "      <td>2.75</td>\n",
       "      <td>17850.0</td>\n",
       "      <td>United Kingdom</td>\n",
       "    </tr>\n",
       "    <tr>\n",
       "      <th>3</th>\n",
       "      <td>536365</td>\n",
       "      <td>84029G</td>\n",
       "      <td>KNITTED UNION FLAG HOT WATER BOTTLE</td>\n",
       "      <td>6</td>\n",
       "      <td>29-Nov-16</td>\n",
       "      <td>3.39</td>\n",
       "      <td>17850.0</td>\n",
       "      <td>United Kingdom</td>\n",
       "    </tr>\n",
       "    <tr>\n",
       "      <th>4</th>\n",
       "      <td>536365</td>\n",
       "      <td>84029E</td>\n",
       "      <td>RED WOOLLY HOTTIE WHITE HEART.</td>\n",
       "      <td>6</td>\n",
       "      <td>29-Nov-16</td>\n",
       "      <td>3.39</td>\n",
       "      <td>17850.0</td>\n",
       "      <td>United Kingdom</td>\n",
       "    </tr>\n",
       "  </tbody>\n",
       "</table>\n",
       "</div>"
      ],
      "text/plain": [
       "  InvoiceNo StockCode                          Description  Quantity  \\\n",
       "0    536365    85123A   WHITE HANGING HEART T-LIGHT HOLDER         6   \n",
       "1    536365     71053                  WHITE METAL LANTERN         6   \n",
       "2    536365    84406B       CREAM CUPID HEARTS COAT HANGER         8   \n",
       "3    536365    84029G  KNITTED UNION FLAG HOT WATER BOTTLE         6   \n",
       "4    536365    84029E       RED WOOLLY HOTTIE WHITE HEART.         6   \n",
       "\n",
       "  InvoiceDate  UnitPrice  CustomerID         Country  \n",
       "0   29-Nov-16       2.55     17850.0  United Kingdom  \n",
       "1   29-Nov-16       3.39     17850.0  United Kingdom  \n",
       "2   29-Nov-16       2.75     17850.0  United Kingdom  \n",
       "3   29-Nov-16       3.39     17850.0  United Kingdom  \n",
       "4   29-Nov-16       3.39     17850.0  United Kingdom  "
      ]
     },
     "execution_count": 7,
     "metadata": {},
     "output_type": "execute_result"
    }
   ],
   "source": [
    "df.head()"
   ]
  },
  {
   "cell_type": "markdown",
   "metadata": {},
   "source": [
    "## RENOMEAR AS COLUNAS"
   ]
  },
  {
   "cell_type": "code",
   "execution_count": 8,
   "metadata": {
    "ExecuteTime": {
     "end_time": "2023-08-11T00:31:03.316300Z",
     "start_time": "2023-08-11T00:31:03.313607Z"
    }
   },
   "outputs": [
    {
     "data": {
      "text/plain": [
       "Index(['InvoiceNo', 'StockCode', 'Description', 'Quantity', 'InvoiceDate',\n",
       "       'UnitPrice', 'CustomerID', 'Country'],\n",
       "      dtype='object')"
      ]
     },
     "execution_count": 8,
     "metadata": {},
     "output_type": "execute_result"
    }
   ],
   "source": [
    "df.columns"
   ]
  },
  {
   "cell_type": "code",
   "execution_count": 9,
   "metadata": {
    "ExecuteTime": {
     "end_time": "2023-08-11T00:31:03.353855Z",
     "start_time": "2023-08-11T00:31:03.351454Z"
    }
   },
   "outputs": [],
   "source": [
    "colunas_renomeadas = ['invoice_no', 'stock_code', 'description', 'quantity', 'invoice_date',\n",
    "       'unit_price', 'customer_id', 'country']\n",
    "df.columns = colunas_renomeadas"
   ]
  },
  {
   "cell_type": "markdown",
   "metadata": {},
   "source": [
    "## DIMENSÃO DO DATASET"
   ]
  },
  {
   "cell_type": "code",
   "execution_count": 10,
   "metadata": {
    "ExecuteTime": {
     "end_time": "2023-08-11T00:31:03.415227Z",
     "start_time": "2023-08-11T00:31:03.413055Z"
    }
   },
   "outputs": [
    {
     "name": "stdout",
     "output_type": "stream",
     "text": [
      "O dataset possui 541909 linhas e 8 colunas\n"
     ]
    }
   ],
   "source": [
    "print(f'O dataset possui {df.shape[0]} linhas e {df.shape[1]} colunas')"
   ]
  },
  {
   "cell_type": "markdown",
   "metadata": {},
   "source": [
    "## RESUMO DOS DADOS"
   ]
  },
  {
   "cell_type": "code",
   "execution_count": 11,
   "metadata": {
    "ExecuteTime": {
     "end_time": "2023-08-11T00:31:03.550246Z",
     "start_time": "2023-08-11T00:31:03.474833Z"
    }
   },
   "outputs": [
    {
     "name": "stdout",
     "output_type": "stream",
     "text": [
      "<class 'pandas.core.frame.DataFrame'>\n",
      "RangeIndex: 541909 entries, 0 to 541908\n",
      "Data columns (total 8 columns):\n",
      " #   Column        Non-Null Count   Dtype  \n",
      "---  ------        --------------   -----  \n",
      " 0   invoice_no    541909 non-null  object \n",
      " 1   stock_code    541909 non-null  object \n",
      " 2   description   540455 non-null  object \n",
      " 3   quantity      541909 non-null  int64  \n",
      " 4   invoice_date  541909 non-null  object \n",
      " 5   unit_price    541909 non-null  float64\n",
      " 6   customer_id   406829 non-null  float64\n",
      " 7   country       541909 non-null  object \n",
      "dtypes: float64(2), int64(1), object(5)\n",
      "memory usage: 33.1+ MB\n"
     ]
    }
   ],
   "source": [
    "df.info()"
   ]
  },
  {
   "cell_type": "markdown",
   "metadata": {},
   "source": [
    "## VERIFICAR DADOS NA"
   ]
  },
  {
   "cell_type": "code",
   "execution_count": 12,
   "metadata": {
    "ExecuteTime": {
     "end_time": "2023-08-11T00:31:03.683710Z",
     "start_time": "2023-08-11T00:31:03.551385Z"
    }
   },
   "outputs": [
    {
     "data": {
      "text/plain": [
       "invoice_no           0\n",
       "stock_code           0\n",
       "description       1454\n",
       "quantity             0\n",
       "invoice_date         0\n",
       "unit_price           0\n",
       "customer_id     135080\n",
       "country              0\n",
       "dtype: int64"
      ]
     },
     "execution_count": 12,
     "metadata": {},
     "output_type": "execute_result"
    }
   ],
   "source": [
    "# soma dos dados faltantes\n",
    "df.isnull().sum()"
   ]
  },
  {
   "cell_type": "code",
   "execution_count": 13,
   "metadata": {
    "ExecuteTime": {
     "end_time": "2023-08-11T00:31:03.758759Z",
     "start_time": "2023-08-11T00:31:03.685530Z"
    }
   },
   "outputs": [
    {
     "data": {
      "text/plain": [
       "customer_id     24.93%\n",
       "description      0.27%\n",
       "invoice_no       0.00%\n",
       "stock_code       0.00%\n",
       "quantity         0.00%\n",
       "invoice_date     0.00%\n",
       "unit_price       0.00%\n",
       "country          0.00%\n",
       "dtype: object"
      ]
     },
     "execution_count": 13,
     "metadata": {},
     "output_type": "execute_result"
    }
   ],
   "source": [
    "# porcentagem dos dados faltantes\n",
    "porcentagem_faltantes = (df.isnull().sum().sort_values(ascending=False) / len(df)) * 100\n",
    "\n",
    "# inserir o sinal de % nos resultados\n",
    "porcentagem_faltantes_com_percentual = porcentagem_faltantes.map('{:.2f}%'.format)\n",
    "\n",
    "# exibir os resultados\n",
    "porcentagem_faltantes_com_percentual"
   ]
  },
  {
   "cell_type": "markdown",
   "metadata": {},
   "source": [
    "## ANÁLISE DADOS NA"
   ]
  },
  {
   "cell_type": "code",
   "execution_count": 14,
   "metadata": {
    "ExecuteTime": {
     "end_time": "2023-08-11T00:31:03.782982Z",
     "start_time": "2023-08-11T00:31:03.759497Z"
    }
   },
   "outputs": [],
   "source": [
    "# criando dataframes para comparação de customer_id\n",
    "df_faltantes = df.loc[df['customer_id'].isna(), :]\n",
    "df_nao_faltantes = df.loc[~df['customer_id'].isna(), :]"
   ]
  },
  {
   "cell_type": "code",
   "execution_count": 15,
   "metadata": {
    "ExecuteTime": {
     "end_time": "2023-08-11T00:31:03.786325Z",
     "start_time": "2023-08-11T00:31:03.784293Z"
    }
   },
   "outputs": [
    {
     "name": "stdout",
     "output_type": "stream",
     "text": [
      "Quantidade de customer_id faltantes: 135080\n",
      "Quantidade de customer_id não faltantes: 406829\n"
     ]
    }
   ],
   "source": [
    "print(f'Quantidade de customer_id faltantes: {df_faltantes.shape[0]}')\n",
    "print(f'Quantidade de customer_id não faltantes: {df_nao_faltantes.shape[0]}')"
   ]
  },
  {
   "cell_type": "code",
   "execution_count": 16,
   "metadata": {
    "ExecuteTime": {
     "end_time": "2023-08-11T00:31:03.799969Z",
     "start_time": "2023-08-11T00:31:03.787495Z"
    }
   },
   "outputs": [
    {
     "data": {
      "text/plain": [
       "invoice_no\n",
       "False    406829\n",
       "Name: count, dtype: int64"
      ]
     },
     "execution_count": 16,
     "metadata": {},
     "output_type": "execute_result"
    }
   ],
   "source": [
    "# criando lista com o invoice_no dos dados faltantes\n",
    "invoice_no_faltantes = df_faltantes['invoice_no'].drop_duplicates().tolist()\n",
    "\n",
    "# verificando se há invoice_no correspondentes aos dados sem customer_id\n",
    "df_nao_faltantes['invoice_no'].isin(invoice_no_faltantes).value_counts()"
   ]
  },
  {
   "cell_type": "code",
   "execution_count": 17,
   "metadata": {
    "ExecuteTime": {
     "end_time": "2023-08-11T00:31:03.937612Z",
     "start_time": "2023-08-11T00:31:03.800814Z"
    }
   },
   "outputs": [
    {
     "data": {
      "text/plain": [
       "invoice_no      0\n",
       "stock_code      0\n",
       "description     0\n",
       "quantity        0\n",
       "invoice_date    0\n",
       "unit_price      0\n",
       "customer_id     0\n",
       "country         0\n",
       "dtype: int64"
      ]
     },
     "execution_count": 17,
     "metadata": {},
     "output_type": "execute_result"
    }
   ],
   "source": [
    "df = df.dropna()\n",
    "df.isna().sum()"
   ]
  },
  {
   "cell_type": "markdown",
   "metadata": {},
   "source": [
    "## MODIFICAR O TIPO DOS DADOS"
   ]
  },
  {
   "cell_type": "code",
   "execution_count": 18,
   "metadata": {
    "ExecuteTime": {
     "end_time": "2023-08-11T00:31:03.962265Z",
     "start_time": "2023-08-11T00:31:03.938837Z"
    }
   },
   "outputs": [],
   "source": [
    "# invoice_date de object para datetime\n",
    "df['invoice_date'] = pd.to_datetime(df['invoice_date'], format='%d-%b-%y')\n",
    "\n",
    "# customer_id de float64 para int64\n",
    "df['customer_id'] = df['customer_id'].astype(int)"
   ]
  },
  {
   "cell_type": "code",
   "execution_count": 19,
   "metadata": {
    "ExecuteTime": {
     "end_time": "2023-08-11T00:31:03.966905Z",
     "start_time": "2023-08-11T00:31:03.963239Z"
    }
   },
   "outputs": [
    {
     "data": {
      "text/plain": [
       "invoice_no              object\n",
       "stock_code              object\n",
       "description             object\n",
       "quantity                 int64\n",
       "invoice_date    datetime64[ns]\n",
       "unit_price             float64\n",
       "customer_id              int64\n",
       "country                 object\n",
       "dtype: object"
      ]
     },
     "execution_count": 19,
     "metadata": {},
     "output_type": "execute_result"
    }
   ],
   "source": [
    "df.dtypes"
   ]
  },
  {
   "cell_type": "markdown",
   "metadata": {},
   "source": [
    "## ANÁLISE DAS FEATURES"
   ]
  },
  {
   "cell_type": "code",
   "execution_count": 20,
   "metadata": {
    "ExecuteTime": {
     "end_time": "2023-08-11T00:31:03.999172Z",
     "start_time": "2023-08-11T00:31:03.968189Z"
    }
   },
   "outputs": [],
   "source": [
    "num_attributes = df.select_dtypes( include=['int64', 'float64'] )\n",
    "cat_attributes = df.select_dtypes( exclude=['int64', 'float64', 'datetime64[ns]'] )"
   ]
  },
  {
   "cell_type": "markdown",
   "metadata": {},
   "source": [
    "### FEATURES NUMÉRICAS"
   ]
  },
  {
   "cell_type": "code",
   "execution_count": 21,
   "metadata": {
    "ExecuteTime": {
     "end_time": "2023-08-11T00:31:04.035011Z",
     "start_time": "2023-08-11T00:31:04.000254Z"
    }
   },
   "outputs": [
    {
     "data": {
      "text/html": [
       "<div>\n",
       "<style scoped>\n",
       "    .dataframe tbody tr th:only-of-type {\n",
       "        vertical-align: middle;\n",
       "    }\n",
       "\n",
       "    .dataframe tbody tr th {\n",
       "        vertical-align: top;\n",
       "    }\n",
       "\n",
       "    .dataframe thead th {\n",
       "        text-align: right;\n",
       "    }\n",
       "</style>\n",
       "<table border=\"1\" class=\"dataframe\">\n",
       "  <thead>\n",
       "    <tr style=\"text-align: right;\">\n",
       "      <th></th>\n",
       "      <th>count</th>\n",
       "      <th>mean</th>\n",
       "      <th>min</th>\n",
       "      <th>25%</th>\n",
       "      <th>50%</th>\n",
       "      <th>75%</th>\n",
       "      <th>max</th>\n",
       "      <th>std</th>\n",
       "    </tr>\n",
       "  </thead>\n",
       "  <tbody>\n",
       "    <tr>\n",
       "      <th>quantity</th>\n",
       "      <td>406829.0</td>\n",
       "      <td>12.061303</td>\n",
       "      <td>-80995.0</td>\n",
       "      <td>2.0</td>\n",
       "      <td>5.0</td>\n",
       "      <td>12.0</td>\n",
       "      <td>80995.0</td>\n",
       "      <td>248.69337</td>\n",
       "    </tr>\n",
       "    <tr>\n",
       "      <th>invoice_date</th>\n",
       "      <td>406829</td>\n",
       "      <td>2017-07-08 03:16:19.124890624</td>\n",
       "      <td>2016-11-29 00:00:00</td>\n",
       "      <td>2017-04-04 00:00:00</td>\n",
       "      <td>2017-07-29 00:00:00</td>\n",
       "      <td>2017-10-18 00:00:00</td>\n",
       "      <td>2017-12-07 00:00:00</td>\n",
       "      <td>NaN</td>\n",
       "    </tr>\n",
       "    <tr>\n",
       "      <th>unit_price</th>\n",
       "      <td>406829.0</td>\n",
       "      <td>3.460471</td>\n",
       "      <td>0.0</td>\n",
       "      <td>1.25</td>\n",
       "      <td>1.95</td>\n",
       "      <td>3.75</td>\n",
       "      <td>38970.0</td>\n",
       "      <td>69.315162</td>\n",
       "    </tr>\n",
       "    <tr>\n",
       "      <th>customer_id</th>\n",
       "      <td>406829.0</td>\n",
       "      <td>15287.69057</td>\n",
       "      <td>12346.0</td>\n",
       "      <td>13953.0</td>\n",
       "      <td>15152.0</td>\n",
       "      <td>16791.0</td>\n",
       "      <td>18287.0</td>\n",
       "      <td>1713.600303</td>\n",
       "    </tr>\n",
       "  </tbody>\n",
       "</table>\n",
       "</div>"
      ],
      "text/plain": [
       "                 count                           mean                  min  \\\n",
       "quantity      406829.0                      12.061303             -80995.0   \n",
       "invoice_date    406829  2017-07-08 03:16:19.124890624  2016-11-29 00:00:00   \n",
       "unit_price    406829.0                       3.460471                  0.0   \n",
       "customer_id   406829.0                    15287.69057              12346.0   \n",
       "\n",
       "                              25%                  50%                  75%  \\\n",
       "quantity                      2.0                  5.0                 12.0   \n",
       "invoice_date  2017-04-04 00:00:00  2017-07-29 00:00:00  2017-10-18 00:00:00   \n",
       "unit_price                   1.25                 1.95                 3.75   \n",
       "customer_id               13953.0              15152.0              16791.0   \n",
       "\n",
       "                              max          std  \n",
       "quantity                  80995.0    248.69337  \n",
       "invoice_date  2017-12-07 00:00:00          NaN  \n",
       "unit_price                38970.0    69.315162  \n",
       "customer_id               18287.0  1713.600303  "
      ]
     },
     "execution_count": 21,
     "metadata": {},
     "output_type": "execute_result"
    }
   ],
   "source": [
    "df.describe().T"
   ]
  },
  {
   "cell_type": "markdown",
   "metadata": {},
   "source": [
    "### FEATURE CATEGÓRICAS"
   ]
  },
  {
   "cell_type": "markdown",
   "metadata": {},
   "source": [
    "#### INVOICE_NO"
   ]
  },
  {
   "cell_type": "code",
   "execution_count": 22,
   "metadata": {
    "ExecuteTime": {
     "end_time": "2023-08-11T00:31:04.242430Z",
     "start_time": "2023-08-11T00:31:04.066364Z"
    }
   },
   "outputs": [],
   "source": [
    "# identificando invoice_no que possui letra em suas variáveis \n",
    "df_invoice_com_letra = df.loc[df['invoice_no'].apply( lambda x: bool( re.search( '[^0-9]+', x ) ) ), :]"
   ]
  },
  {
   "cell_type": "code",
   "execution_count": 23,
   "metadata": {
    "ExecuteTime": {
     "end_time": "2023-08-11T00:31:04.246293Z",
     "start_time": "2023-08-11T00:31:04.243493Z"
    }
   },
   "outputs": [],
   "source": [
    "# verificando quantos destes dados possuem quantidade negativa\n",
    "df_invoice_qtde_negativa = df_invoice_com_letra[ df_invoice_com_letra['quantity'] < 0 ]"
   ]
  },
  {
   "cell_type": "code",
   "execution_count": 24,
   "metadata": {
    "ExecuteTime": {
     "end_time": "2023-08-11T00:31:04.283759Z",
     "start_time": "2023-08-11T00:31:04.246996Z"
    }
   },
   "outputs": [
    {
     "name": "stdout",
     "output_type": "stream",
     "text": [
      "Total de dados que possuem letras: 8905\n",
      "Total de dados que possuem quantidade negativa: 8905\n"
     ]
    }
   ],
   "source": [
    "print(f'Total de dados que possuem letras: {df_invoice_com_letra.shape[0]}')\n",
    "print(f'Total de dados que possuem quantidade negativa: {df_invoice_qtde_negativa.shape[0]}')"
   ]
  },
  {
   "cell_type": "markdown",
   "metadata": {},
   "source": [
    "#### STOCK_CODE"
   ]
  },
  {
   "cell_type": "code",
   "execution_count": 25,
   "metadata": {
    "ExecuteTime": {
     "end_time": "2023-08-11T00:31:04.443854Z",
     "start_time": "2023-08-11T00:31:04.285690Z"
    }
   },
   "outputs": [
    {
     "data": {
      "text/plain": [
       "array(['POST', 'D', 'M', 'PADS', 'DOT', 'CRUK'], dtype=object)"
      ]
     },
     "execution_count": 25,
     "metadata": {},
     "output_type": "execute_result"
    }
   ],
   "source": [
    "# verificando quais dados possuem apenas letras e se conseguimos atribuir a vendas\n",
    "df_stock_code_letters = df.loc[df['stock_code'].apply( lambda x: bool( re.search( '^[a-zA-Z]+$', x ) ) ), 'stock_code'].unique()\n",
    "df_stock_code_letters"
   ]
  },
  {
   "cell_type": "code",
   "execution_count": 26,
   "metadata": {
    "ExecuteTime": {
     "end_time": "2023-08-11T00:31:04.461713Z",
     "start_time": "2023-08-11T00:31:04.444853Z"
    }
   },
   "outputs": [
    {
     "data": {
      "text/html": [
       "<div>\n",
       "<style scoped>\n",
       "    .dataframe tbody tr th:only-of-type {\n",
       "        vertical-align: middle;\n",
       "    }\n",
       "\n",
       "    .dataframe tbody tr th {\n",
       "        vertical-align: top;\n",
       "    }\n",
       "\n",
       "    .dataframe thead th {\n",
       "        text-align: right;\n",
       "    }\n",
       "</style>\n",
       "<table border=\"1\" class=\"dataframe\">\n",
       "  <thead>\n",
       "    <tr style=\"text-align: right;\">\n",
       "      <th></th>\n",
       "      <th>invoice_no</th>\n",
       "      <th>stock_code</th>\n",
       "      <th>description</th>\n",
       "      <th>quantity</th>\n",
       "      <th>invoice_date</th>\n",
       "      <th>unit_price</th>\n",
       "      <th>customer_id</th>\n",
       "      <th>country</th>\n",
       "    </tr>\n",
       "  </thead>\n",
       "  <tbody>\n",
       "    <tr>\n",
       "      <th>45</th>\n",
       "      <td>536370</td>\n",
       "      <td>POST</td>\n",
       "      <td>POSTAGE</td>\n",
       "      <td>3</td>\n",
       "      <td>2016-11-29</td>\n",
       "      <td>18.00</td>\n",
       "      <td>12583</td>\n",
       "      <td>France</td>\n",
       "    </tr>\n",
       "    <tr>\n",
       "      <th>141</th>\n",
       "      <td>C536379</td>\n",
       "      <td>D</td>\n",
       "      <td>Discount</td>\n",
       "      <td>-1</td>\n",
       "      <td>2016-11-29</td>\n",
       "      <td>27.50</td>\n",
       "      <td>14527</td>\n",
       "      <td>United Kingdom</td>\n",
       "    </tr>\n",
       "    <tr>\n",
       "      <th>386</th>\n",
       "      <td>536403</td>\n",
       "      <td>POST</td>\n",
       "      <td>POSTAGE</td>\n",
       "      <td>1</td>\n",
       "      <td>2016-11-29</td>\n",
       "      <td>15.00</td>\n",
       "      <td>12791</td>\n",
       "      <td>Netherlands</td>\n",
       "    </tr>\n",
       "    <tr>\n",
       "      <th>1123</th>\n",
       "      <td>536527</td>\n",
       "      <td>POST</td>\n",
       "      <td>POSTAGE</td>\n",
       "      <td>1</td>\n",
       "      <td>2016-11-29</td>\n",
       "      <td>18.00</td>\n",
       "      <td>12662</td>\n",
       "      <td>Germany</td>\n",
       "    </tr>\n",
       "    <tr>\n",
       "      <th>2239</th>\n",
       "      <td>536569</td>\n",
       "      <td>M</td>\n",
       "      <td>Manual</td>\n",
       "      <td>1</td>\n",
       "      <td>2016-11-29</td>\n",
       "      <td>1.25</td>\n",
       "      <td>16274</td>\n",
       "      <td>United Kingdom</td>\n",
       "    </tr>\n",
       "    <tr>\n",
       "      <th>...</th>\n",
       "      <td>...</td>\n",
       "      <td>...</td>\n",
       "      <td>...</td>\n",
       "      <td>...</td>\n",
       "      <td>...</td>\n",
       "      <td>...</td>\n",
       "      <td>...</td>\n",
       "      <td>...</td>\n",
       "    </tr>\n",
       "    <tr>\n",
       "      <th>541216</th>\n",
       "      <td>581494</td>\n",
       "      <td>POST</td>\n",
       "      <td>POSTAGE</td>\n",
       "      <td>2</td>\n",
       "      <td>2017-12-07</td>\n",
       "      <td>18.00</td>\n",
       "      <td>12518</td>\n",
       "      <td>Germany</td>\n",
       "    </tr>\n",
       "    <tr>\n",
       "      <th>541541</th>\n",
       "      <td>C581499</td>\n",
       "      <td>M</td>\n",
       "      <td>Manual</td>\n",
       "      <td>-1</td>\n",
       "      <td>2017-12-07</td>\n",
       "      <td>224.69</td>\n",
       "      <td>15498</td>\n",
       "      <td>United Kingdom</td>\n",
       "    </tr>\n",
       "    <tr>\n",
       "      <th>541730</th>\n",
       "      <td>581570</td>\n",
       "      <td>POST</td>\n",
       "      <td>POSTAGE</td>\n",
       "      <td>1</td>\n",
       "      <td>2017-12-07</td>\n",
       "      <td>18.00</td>\n",
       "      <td>12662</td>\n",
       "      <td>Germany</td>\n",
       "    </tr>\n",
       "    <tr>\n",
       "      <th>541767</th>\n",
       "      <td>581574</td>\n",
       "      <td>POST</td>\n",
       "      <td>POSTAGE</td>\n",
       "      <td>2</td>\n",
       "      <td>2017-12-07</td>\n",
       "      <td>18.00</td>\n",
       "      <td>12526</td>\n",
       "      <td>Germany</td>\n",
       "    </tr>\n",
       "    <tr>\n",
       "      <th>541768</th>\n",
       "      <td>581578</td>\n",
       "      <td>POST</td>\n",
       "      <td>POSTAGE</td>\n",
       "      <td>3</td>\n",
       "      <td>2017-12-07</td>\n",
       "      <td>18.00</td>\n",
       "      <td>12713</td>\n",
       "      <td>Germany</td>\n",
       "    </tr>\n",
       "  </tbody>\n",
       "</table>\n",
       "<p>1774 rows × 8 columns</p>\n",
       "</div>"
      ],
      "text/plain": [
       "       invoice_no stock_code description  quantity invoice_date  unit_price  \\\n",
       "45         536370       POST     POSTAGE         3   2016-11-29       18.00   \n",
       "141       C536379          D    Discount        -1   2016-11-29       27.50   \n",
       "386        536403       POST     POSTAGE         1   2016-11-29       15.00   \n",
       "1123       536527       POST     POSTAGE         1   2016-11-29       18.00   \n",
       "2239       536569          M      Manual         1   2016-11-29        1.25   \n",
       "...           ...        ...         ...       ...          ...         ...   \n",
       "541216     581494       POST     POSTAGE         2   2017-12-07       18.00   \n",
       "541541    C581499          M      Manual        -1   2017-12-07      224.69   \n",
       "541730     581570       POST     POSTAGE         1   2017-12-07       18.00   \n",
       "541767     581574       POST     POSTAGE         2   2017-12-07       18.00   \n",
       "541768     581578       POST     POSTAGE         3   2017-12-07       18.00   \n",
       "\n",
       "        customer_id         country  \n",
       "45            12583          France  \n",
       "141           14527  United Kingdom  \n",
       "386           12791     Netherlands  \n",
       "1123          12662         Germany  \n",
       "2239          16274  United Kingdom  \n",
       "...             ...             ...  \n",
       "541216        12518         Germany  \n",
       "541541        15498  United Kingdom  \n",
       "541730        12662         Germany  \n",
       "541767        12526         Germany  \n",
       "541768        12713         Germany  \n",
       "\n",
       "[1774 rows x 8 columns]"
      ]
     },
     "execution_count": 26,
     "metadata": {},
     "output_type": "execute_result"
    }
   ],
   "source": [
    "df_aux = df[df['stock_code'].isin(['POST', 'D', 'M', 'PADS', 'DOT', 'CRUK'])]\n",
    "df_aux"
   ]
  },
  {
   "cell_type": "markdown",
   "metadata": {},
   "source": [
    "#### DESCRIPTION"
   ]
  },
  {
   "cell_type": "code",
   "execution_count": 27,
   "metadata": {
    "ExecuteTime": {
     "end_time": "2023-08-11T00:31:04.497334Z",
     "start_time": "2023-08-11T00:31:04.462440Z"
    }
   },
   "outputs": [
    {
     "data": {
      "text/html": [
       "<div>\n",
       "<style scoped>\n",
       "    .dataframe tbody tr th:only-of-type {\n",
       "        vertical-align: middle;\n",
       "    }\n",
       "\n",
       "    .dataframe tbody tr th {\n",
       "        vertical-align: top;\n",
       "    }\n",
       "\n",
       "    .dataframe thead th {\n",
       "        text-align: right;\n",
       "    }\n",
       "</style>\n",
       "<table border=\"1\" class=\"dataframe\">\n",
       "  <thead>\n",
       "    <tr style=\"text-align: right;\">\n",
       "      <th></th>\n",
       "      <th>invoice_no</th>\n",
       "      <th>stock_code</th>\n",
       "      <th>description</th>\n",
       "      <th>quantity</th>\n",
       "      <th>invoice_date</th>\n",
       "      <th>unit_price</th>\n",
       "      <th>customer_id</th>\n",
       "      <th>country</th>\n",
       "    </tr>\n",
       "  </thead>\n",
       "  <tbody>\n",
       "    <tr>\n",
       "      <th>0</th>\n",
       "      <td>536365</td>\n",
       "      <td>85123A</td>\n",
       "      <td>WHITE HANGING HEART T-LIGHT HOLDER</td>\n",
       "      <td>6</td>\n",
       "      <td>2016-11-29</td>\n",
       "      <td>2.55</td>\n",
       "      <td>17850</td>\n",
       "      <td>United Kingdom</td>\n",
       "    </tr>\n",
       "    <tr>\n",
       "      <th>1</th>\n",
       "      <td>536365</td>\n",
       "      <td>71053</td>\n",
       "      <td>WHITE METAL LANTERN</td>\n",
       "      <td>6</td>\n",
       "      <td>2016-11-29</td>\n",
       "      <td>3.39</td>\n",
       "      <td>17850</td>\n",
       "      <td>United Kingdom</td>\n",
       "    </tr>\n",
       "    <tr>\n",
       "      <th>2</th>\n",
       "      <td>536365</td>\n",
       "      <td>84406B</td>\n",
       "      <td>CREAM CUPID HEARTS COAT HANGER</td>\n",
       "      <td>8</td>\n",
       "      <td>2016-11-29</td>\n",
       "      <td>2.75</td>\n",
       "      <td>17850</td>\n",
       "      <td>United Kingdom</td>\n",
       "    </tr>\n",
       "    <tr>\n",
       "      <th>3</th>\n",
       "      <td>536365</td>\n",
       "      <td>84029G</td>\n",
       "      <td>KNITTED UNION FLAG HOT WATER BOTTLE</td>\n",
       "      <td>6</td>\n",
       "      <td>2016-11-29</td>\n",
       "      <td>3.39</td>\n",
       "      <td>17850</td>\n",
       "      <td>United Kingdom</td>\n",
       "    </tr>\n",
       "    <tr>\n",
       "      <th>4</th>\n",
       "      <td>536365</td>\n",
       "      <td>84029E</td>\n",
       "      <td>RED WOOLLY HOTTIE WHITE HEART.</td>\n",
       "      <td>6</td>\n",
       "      <td>2016-11-29</td>\n",
       "      <td>3.39</td>\n",
       "      <td>17850</td>\n",
       "      <td>United Kingdom</td>\n",
       "    </tr>\n",
       "  </tbody>\n",
       "</table>\n",
       "</div>"
      ],
      "text/plain": [
       "  invoice_no stock_code                          description  quantity  \\\n",
       "0     536365     85123A   WHITE HANGING HEART T-LIGHT HOLDER         6   \n",
       "1     536365      71053                  WHITE METAL LANTERN         6   \n",
       "2     536365     84406B       CREAM CUPID HEARTS COAT HANGER         8   \n",
       "3     536365     84029G  KNITTED UNION FLAG HOT WATER BOTTLE         6   \n",
       "4     536365     84029E       RED WOOLLY HOTTIE WHITE HEART.         6   \n",
       "\n",
       "  invoice_date  unit_price  customer_id         country  \n",
       "0   2016-11-29        2.55        17850  United Kingdom  \n",
       "1   2016-11-29        3.39        17850  United Kingdom  \n",
       "2   2016-11-29        2.75        17850  United Kingdom  \n",
       "3   2016-11-29        3.39        17850  United Kingdom  \n",
       "4   2016-11-29        3.39        17850  United Kingdom  "
      ]
     },
     "execution_count": 27,
     "metadata": {},
     "output_type": "execute_result"
    }
   ],
   "source": [
    "# remover a variável description\n",
    "df.head()"
   ]
  },
  {
   "cell_type": "markdown",
   "metadata": {},
   "source": [
    "#### COUNTRY"
   ]
  },
  {
   "cell_type": "code",
   "execution_count": 28,
   "metadata": {
    "ExecuteTime": {
     "end_time": "2023-08-11T00:31:04.512122Z",
     "start_time": "2023-08-11T00:31:04.498797Z"
    }
   },
   "outputs": [
    {
     "data": {
      "text/plain": [
       "array(['United Kingdom', 'France', 'Australia', 'Netherlands', 'Germany',\n",
       "       'Norway', 'EIRE', 'Switzerland', 'Spain', 'Poland', 'Portugal',\n",
       "       'Italy', 'Belgium', 'Lithuania', 'Japan', 'Iceland',\n",
       "       'Channel Islands', 'Denmark', 'Cyprus', 'Sweden', 'Austria',\n",
       "       'Israel', 'Finland', 'Greece', 'Singapore', 'Lebanon',\n",
       "       'United Arab Emirates', 'Saudi Arabia', 'Czech Republic', 'Canada',\n",
       "       'Unspecified', 'Brazil', 'USA', 'European Community', 'Bahrain',\n",
       "       'Malta', 'RSA'], dtype=object)"
      ]
     },
     "execution_count": 28,
     "metadata": {},
     "output_type": "execute_result"
    }
   ],
   "source": [
    "# verificando os país únicos\n",
    "df['country'].unique()"
   ]
  },
  {
   "cell_type": "code",
   "execution_count": 29,
   "metadata": {
    "ExecuteTime": {
     "end_time": "2023-08-11T00:31:04.531349Z",
     "start_time": "2023-08-11T00:31:04.512949Z"
    }
   },
   "outputs": [
    {
     "data": {
      "text/plain": [
       "country\n",
       "United Kingdom          0.889509\n",
       "Germany                 0.023339\n",
       "France                  0.020871\n",
       "EIRE                    0.018398\n",
       "Spain                   0.006226\n",
       "Netherlands             0.005828\n",
       "Belgium                 0.005086\n",
       "Switzerland             0.004614\n",
       "Portugal                0.003638\n",
       "Australia               0.003095\n",
       "Norway                  0.002669\n",
       "Italy                   0.001974\n",
       "Channel Islands         0.001863\n",
       "Finland                 0.001708\n",
       "Cyprus                  0.001529\n",
       "Sweden                  0.001136\n",
       "Austria                 0.000986\n",
       "Denmark                 0.000956\n",
       "Japan                   0.000880\n",
       "Poland                  0.000838\n",
       "USA                     0.000715\n",
       "Israel                  0.000615\n",
       "Unspecified             0.000600\n",
       "Singapore               0.000563\n",
       "Iceland                 0.000447\n",
       "Canada                  0.000371\n",
       "Greece                  0.000359\n",
       "Malta                   0.000312\n",
       "United Arab Emirates    0.000167\n",
       "European Community      0.000150\n",
       "RSA                     0.000143\n",
       "Lebanon                 0.000111\n",
       "Lithuania               0.000086\n",
       "Brazil                  0.000079\n",
       "Czech Republic          0.000074\n",
       "Bahrain                 0.000042\n",
       "Saudi Arabia            0.000025\n",
       "Name: proportion, dtype: float64"
      ]
     },
     "execution_count": 29,
     "metadata": {},
     "output_type": "execute_result"
    }
   ],
   "source": [
    "# distribuição dos dados por país\n",
    "df['country'].value_counts(normalize=True)"
   ]
  },
  {
   "cell_type": "code",
   "execution_count": 30,
   "metadata": {
    "ExecuteTime": {
     "end_time": "2023-08-11T00:31:04.557395Z",
     "start_time": "2023-08-11T00:31:04.532288Z"
    }
   },
   "outputs": [
    {
     "data": {
      "text/html": [
       "<div>\n",
       "<style scoped>\n",
       "    .dataframe tbody tr th:only-of-type {\n",
       "        vertical-align: middle;\n",
       "    }\n",
       "\n",
       "    .dataframe tbody tr th {\n",
       "        vertical-align: top;\n",
       "    }\n",
       "\n",
       "    .dataframe thead th {\n",
       "        text-align: right;\n",
       "    }\n",
       "</style>\n",
       "<table border=\"1\" class=\"dataframe\">\n",
       "  <thead>\n",
       "    <tr style=\"text-align: right;\">\n",
       "      <th></th>\n",
       "      <th>country</th>\n",
       "      <th>customer_id</th>\n",
       "    </tr>\n",
       "  </thead>\n",
       "  <tbody>\n",
       "    <tr>\n",
       "      <th>35</th>\n",
       "      <td>United Kingdom</td>\n",
       "      <td>3950</td>\n",
       "    </tr>\n",
       "    <tr>\n",
       "      <th>14</th>\n",
       "      <td>Germany</td>\n",
       "      <td>95</td>\n",
       "    </tr>\n",
       "    <tr>\n",
       "      <th>13</th>\n",
       "      <td>France</td>\n",
       "      <td>87</td>\n",
       "    </tr>\n",
       "    <tr>\n",
       "      <th>30</th>\n",
       "      <td>Spain</td>\n",
       "      <td>31</td>\n",
       "    </tr>\n",
       "    <tr>\n",
       "      <th>3</th>\n",
       "      <td>Belgium</td>\n",
       "      <td>25</td>\n",
       "    </tr>\n",
       "    <tr>\n",
       "      <th>32</th>\n",
       "      <td>Switzerland</td>\n",
       "      <td>21</td>\n",
       "    </tr>\n",
       "    <tr>\n",
       "      <th>26</th>\n",
       "      <td>Portugal</td>\n",
       "      <td>19</td>\n",
       "    </tr>\n",
       "    <tr>\n",
       "      <th>18</th>\n",
       "      <td>Italy</td>\n",
       "      <td>15</td>\n",
       "    </tr>\n",
       "    <tr>\n",
       "      <th>12</th>\n",
       "      <td>Finland</td>\n",
       "      <td>12</td>\n",
       "    </tr>\n",
       "    <tr>\n",
       "      <th>1</th>\n",
       "      <td>Austria</td>\n",
       "      <td>11</td>\n",
       "    </tr>\n",
       "    <tr>\n",
       "      <th>24</th>\n",
       "      <td>Norway</td>\n",
       "      <td>10</td>\n",
       "    </tr>\n",
       "    <tr>\n",
       "      <th>23</th>\n",
       "      <td>Netherlands</td>\n",
       "      <td>9</td>\n",
       "    </tr>\n",
       "    <tr>\n",
       "      <th>0</th>\n",
       "      <td>Australia</td>\n",
       "      <td>9</td>\n",
       "    </tr>\n",
       "    <tr>\n",
       "      <th>9</th>\n",
       "      <td>Denmark</td>\n",
       "      <td>9</td>\n",
       "    </tr>\n",
       "    <tr>\n",
       "      <th>6</th>\n",
       "      <td>Channel Islands</td>\n",
       "      <td>9</td>\n",
       "    </tr>\n",
       "    <tr>\n",
       "      <th>7</th>\n",
       "      <td>Cyprus</td>\n",
       "      <td>8</td>\n",
       "    </tr>\n",
       "    <tr>\n",
       "      <th>31</th>\n",
       "      <td>Sweden</td>\n",
       "      <td>8</td>\n",
       "    </tr>\n",
       "    <tr>\n",
       "      <th>19</th>\n",
       "      <td>Japan</td>\n",
       "      <td>8</td>\n",
       "    </tr>\n",
       "    <tr>\n",
       "      <th>25</th>\n",
       "      <td>Poland</td>\n",
       "      <td>6</td>\n",
       "    </tr>\n",
       "    <tr>\n",
       "      <th>33</th>\n",
       "      <td>USA</td>\n",
       "      <td>4</td>\n",
       "    </tr>\n",
       "    <tr>\n",
       "      <th>5</th>\n",
       "      <td>Canada</td>\n",
       "      <td>4</td>\n",
       "    </tr>\n",
       "    <tr>\n",
       "      <th>36</th>\n",
       "      <td>Unspecified</td>\n",
       "      <td>4</td>\n",
       "    </tr>\n",
       "    <tr>\n",
       "      <th>17</th>\n",
       "      <td>Israel</td>\n",
       "      <td>4</td>\n",
       "    </tr>\n",
       "    <tr>\n",
       "      <th>15</th>\n",
       "      <td>Greece</td>\n",
       "      <td>4</td>\n",
       "    </tr>\n",
       "    <tr>\n",
       "      <th>10</th>\n",
       "      <td>EIRE</td>\n",
       "      <td>3</td>\n",
       "    </tr>\n",
       "    <tr>\n",
       "      <th>22</th>\n",
       "      <td>Malta</td>\n",
       "      <td>2</td>\n",
       "    </tr>\n",
       "    <tr>\n",
       "      <th>34</th>\n",
       "      <td>United Arab Emirates</td>\n",
       "      <td>2</td>\n",
       "    </tr>\n",
       "    <tr>\n",
       "      <th>2</th>\n",
       "      <td>Bahrain</td>\n",
       "      <td>2</td>\n",
       "    </tr>\n",
       "    <tr>\n",
       "      <th>8</th>\n",
       "      <td>Czech Republic</td>\n",
       "      <td>1</td>\n",
       "    </tr>\n",
       "    <tr>\n",
       "      <th>21</th>\n",
       "      <td>Lithuania</td>\n",
       "      <td>1</td>\n",
       "    </tr>\n",
       "    <tr>\n",
       "      <th>20</th>\n",
       "      <td>Lebanon</td>\n",
       "      <td>1</td>\n",
       "    </tr>\n",
       "    <tr>\n",
       "      <th>27</th>\n",
       "      <td>RSA</td>\n",
       "      <td>1</td>\n",
       "    </tr>\n",
       "    <tr>\n",
       "      <th>28</th>\n",
       "      <td>Saudi Arabia</td>\n",
       "      <td>1</td>\n",
       "    </tr>\n",
       "    <tr>\n",
       "      <th>29</th>\n",
       "      <td>Singapore</td>\n",
       "      <td>1</td>\n",
       "    </tr>\n",
       "    <tr>\n",
       "      <th>16</th>\n",
       "      <td>Iceland</td>\n",
       "      <td>1</td>\n",
       "    </tr>\n",
       "    <tr>\n",
       "      <th>4</th>\n",
       "      <td>Brazil</td>\n",
       "      <td>1</td>\n",
       "    </tr>\n",
       "    <tr>\n",
       "      <th>11</th>\n",
       "      <td>European Community</td>\n",
       "      <td>1</td>\n",
       "    </tr>\n",
       "  </tbody>\n",
       "</table>\n",
       "</div>"
      ],
      "text/plain": [
       "                 country  customer_id\n",
       "35        United Kingdom         3950\n",
       "14               Germany           95\n",
       "13                France           87\n",
       "30                 Spain           31\n",
       "3                Belgium           25\n",
       "32           Switzerland           21\n",
       "26              Portugal           19\n",
       "18                 Italy           15\n",
       "12               Finland           12\n",
       "1                Austria           11\n",
       "24                Norway           10\n",
       "23           Netherlands            9\n",
       "0              Australia            9\n",
       "9                Denmark            9\n",
       "6        Channel Islands            9\n",
       "7                 Cyprus            8\n",
       "31                Sweden            8\n",
       "19                 Japan            8\n",
       "25                Poland            6\n",
       "33                   USA            4\n",
       "5                 Canada            4\n",
       "36           Unspecified            4\n",
       "17                Israel            4\n",
       "15                Greece            4\n",
       "10                  EIRE            3\n",
       "22                 Malta            2\n",
       "34  United Arab Emirates            2\n",
       "2                Bahrain            2\n",
       "8         Czech Republic            1\n",
       "21             Lithuania            1\n",
       "20               Lebanon            1\n",
       "27                   RSA            1\n",
       "28          Saudi Arabia            1\n",
       "29             Singapore            1\n",
       "16               Iceland            1\n",
       "4                 Brazil            1\n",
       "11    European Community            1"
      ]
     },
     "execution_count": 30,
     "metadata": {},
     "output_type": "execute_result"
    }
   ],
   "source": [
    "# clientes únicos por país\n",
    "df[['customer_id', 'country']].drop_duplicates().groupby('country').count().reset_index().sort_values('customer_id', ascending=False)"
   ]
  },
  {
   "cell_type": "markdown",
   "metadata": {},
   "source": [
    "# FILTRO DE VARIÁVEIS"
   ]
  },
  {
   "cell_type": "code",
   "execution_count": 59,
   "metadata": {
    "ExecuteTime": {
     "end_time": "2023-08-11T00:31:53.935619Z",
     "start_time": "2023-08-11T00:31:53.912249Z"
    }
   },
   "outputs": [],
   "source": [
    "df1 = df.copy()"
   ]
  },
  {
   "cell_type": "code",
   "execution_count": 60,
   "metadata": {
    "ExecuteTime": {
     "end_time": "2023-08-11T00:31:54.428455Z",
     "start_time": "2023-08-11T00:31:54.344160Z"
    }
   },
   "outputs": [],
   "source": [
    "# feature numérica unit_price com valores acima de 0.04\n",
    "df1 = df1.loc[df1['unit_price'] >= 0.04, :]\n",
    "\n",
    "# feature categórica stock_code remover valores\n",
    "df1 = df1[~df1['stock_code'].isin(['POST', 'D', 'DOT', 'M', 'S', 'AMAZONFEE', 'm', \n",
    "                                   'DCGSSBOY', 'DCGSSGIRL', 'PADS', 'B', 'CRUK'])]\n",
    "\n",
    "# feature categórica description remover completamente\n",
    "df1 = df1.drop(columns='description', axis=1)\n",
    "\n",
    "# feature categórica country remover não especificados e não países\n",
    "df1 = df1[~df1['country'].isin(['European Community', 'Unspecified'])]\n",
    "\n",
    "# usuário com resultados muito divergentes\n",
    "df1 = df1[~df1['customer_id'].isin([16446])]\n",
    "\n",
    "# feature numérica quantity dividida em 2 novos dataframes\n",
    "df1_devolucoes = df1.loc[df1['quantity'] < 0, :]\n",
    "df1_vendas = df1.loc[df1['quantity'] > 0, :]"
   ]
  },
  {
   "cell_type": "markdown",
   "metadata": {},
   "source": [
    "# FEATURE ENGINEERING"
   ]
  },
  {
   "cell_type": "code",
   "execution_count": 61,
   "metadata": {
    "ExecuteTime": {
     "end_time": "2023-08-11T00:31:54.640764Z",
     "start_time": "2023-08-11T00:31:54.633008Z"
    }
   },
   "outputs": [],
   "source": [
    "df2 = df1.copy()"
   ]
  },
  {
   "cell_type": "code",
   "execution_count": 62,
   "metadata": {
    "ExecuteTime": {
     "end_time": "2023-08-11T00:31:54.791554Z",
     "start_time": "2023-08-11T00:31:54.784913Z"
    }
   },
   "outputs": [],
   "source": [
    "# tabela referência\n",
    "df_ref = df2.drop(['invoice_no', 'stock_code', 'quantity',  \n",
    "                   'invoice_date', 'unit_price', 'country'], axis=1).drop_duplicates(ignore_index=True)"
   ]
  },
  {
   "cell_type": "markdown",
   "metadata": {},
   "source": [
    "## GROSS_REVENUE"
   ]
  },
  {
   "cell_type": "code",
   "execution_count": 63,
   "metadata": {
    "ExecuteTime": {
     "end_time": "2023-08-11T00:31:55.104923Z",
     "start_time": "2023-08-11T00:31:55.091010Z"
    }
   },
   "outputs": [
    {
     "data": {
      "text/plain": [
       "customer_id       0\n",
       "gross_revenue    27\n",
       "dtype: int64"
      ]
     },
     "execution_count": 63,
     "metadata": {},
     "output_type": "execute_result"
    }
   ],
   "source": [
    "# gross_revenue -> quantity * unit_price = gross_revenue (faturamento, receita_bruta)\n",
    "df1_vendas.loc[:, 'gross_revenue'] = df1_vendas.loc[:, 'quantity'] * df1_vendas.loc[:, 'unit_price']\n",
    "\n",
    "# valor monetário\n",
    "df_vm = df1_vendas.loc[:, ['customer_id', 'gross_revenue']].groupby('customer_id').sum().reset_index()\n",
    "df_ref = pd.merge(df_ref, df_vm, on='customer_id', how='left')\n",
    "df_ref.isna().sum()"
   ]
  },
  {
   "cell_type": "markdown",
   "metadata": {},
   "source": [
    "## RECÊNCIA"
   ]
  },
  {
   "cell_type": "code",
   "execution_count": 64,
   "metadata": {
    "ExecuteTime": {
     "end_time": "2023-08-11T00:31:55.412984Z",
     "start_time": "2023-08-11T00:31:55.398967Z"
    }
   },
   "outputs": [
    {
     "data": {
      "text/plain": [
       "customer_id       0\n",
       "gross_revenue    27\n",
       "recency_days     27\n",
       "dtype: int64"
      ]
     },
     "execution_count": 64,
     "metadata": {},
     "output_type": "execute_result"
    }
   ],
   "source": [
    "# recência - diferença entre a data máxima do dataset e a data da última compra do cliente\n",
    "df_recencia = df1_vendas[['customer_id', 'invoice_date']].groupby('customer_id').max().reset_index()\n",
    "df_recencia['recency_days'] = (df2['invoice_date'].max() - df_recencia['invoice_date']).dt.days\n",
    "df_recencia = df_recencia[['customer_id', 'recency_days']].copy()\n",
    "df_ref = pd.merge(df_ref, df_recencia, on='customer_id', how='left')\n",
    "df_ref.isna().sum()"
   ]
  },
  {
   "cell_type": "markdown",
   "metadata": {},
   "source": [
    "## QUANTIDADE DE COMPRAS"
   ]
  },
  {
   "cell_type": "code",
   "execution_count": 65,
   "metadata": {
    "ExecuteTime": {
     "end_time": "2023-08-11T00:31:55.748561Z",
     "start_time": "2023-08-11T00:31:55.718540Z"
    }
   },
   "outputs": [
    {
     "data": {
      "text/plain": [
       "customer_id       0\n",
       "gross_revenue    27\n",
       "recency_days     27\n",
       "total_orders     27\n",
       "dtype: int64"
      ]
     },
     "execution_count": 65,
     "metadata": {},
     "output_type": "execute_result"
    }
   ],
   "source": [
    "# quantidade de compra - quantidade de vezes que o cliente realizou uma compra num período de tempo determinado\n",
    "df_qtde = df1_vendas.loc[:, ['customer_id', 'invoice_no']].drop_duplicates().groupby('customer_id').count().reset_index().rename(columns={'invoice_no':'total_orders'})\n",
    "df_ref = pd.merge(df_ref, df_qtde, on='customer_id', how='left')\n",
    "df_ref.isna().sum()"
   ]
  },
  {
   "cell_type": "markdown",
   "metadata": {},
   "source": [
    "## NÚMERO DE PRODUTOS ÚNICOS POR COMPRA"
   ]
  },
  {
   "cell_type": "code",
   "execution_count": 66,
   "metadata": {
    "ExecuteTime": {
     "end_time": "2023-08-11T00:31:56.056243Z",
     "start_time": "2023-08-11T00:31:56.032776Z"
    }
   },
   "outputs": [
    {
     "data": {
      "text/plain": [
       "customer_id                0\n",
       "gross_revenue             27\n",
       "recency_days              27\n",
       "total_orders              27\n",
       "total_products_ordered    27\n",
       "dtype: int64"
      ]
     },
     "execution_count": 66,
     "metadata": {},
     "output_type": "execute_result"
    }
   ],
   "source": [
    "# quantidade de produtos únicos \n",
    "df_prod_uniq = (df1_vendas.loc[:, ['customer_id', 'stock_code']].groupby( 'customer_id' ).count()\n",
    "                                                                .reset_index()\n",
    "                                                                .rename(columns={'stock_code': 'total_products_ordered'}))\n",
    "\n",
    "# junção dos dataframes\n",
    "df_ref = pd.merge(df_ref, df_prod_uniq, on='customer_id', how='left')\n",
    "df_ref.isna().sum()"
   ]
  },
  {
   "cell_type": "markdown",
   "metadata": {},
   "source": [
    "## QUANTIDADE DE PRODUTOS COMPRADOS"
   ]
  },
  {
   "cell_type": "code",
   "execution_count": 67,
   "metadata": {
    "ExecuteTime": {
     "end_time": "2023-08-11T00:31:56.378051Z",
     "start_time": "2023-08-11T00:31:56.366407Z"
    },
    "scrolled": true
   },
   "outputs": [
    {
     "data": {
      "text/plain": [
       "customer_id                0\n",
       "gross_revenue             27\n",
       "recency_days              27\n",
       "total_orders              27\n",
       "total_products_ordered    27\n",
       "total_quantity            27\n",
       "dtype: int64"
      ]
     },
     "execution_count": 67,
     "metadata": {},
     "output_type": "execute_result"
    }
   ],
   "source": [
    "# quantidade de produtos\n",
    "df_qty_prod = (df1_vendas.loc[:, ['customer_id', 'quantity']].groupby('customer_id').sum()\n",
    "                                                           .reset_index()\n",
    "                                                           .rename(columns={'quantity': 'total_quantity'}))\n",
    "df_ref = pd.merge(df_ref, df_qty_prod, on='customer_id', how='left')\n",
    "df_ref.isna().sum()"
   ]
  },
  {
   "cell_type": "markdown",
   "metadata": {},
   "source": [
    "## FREQUÊNCIA DE COMPRA"
   ]
  },
  {
   "cell_type": "code",
   "execution_count": 68,
   "metadata": {
    "ExecuteTime": {
     "end_time": "2023-08-11T00:31:57.370744Z",
     "start_time": "2023-08-11T00:31:57.099550Z"
    }
   },
   "outputs": [],
   "source": [
    "df_frequencia_aux = (df1_vendas[['customer_id', 'invoice_no', 'invoice_date']].drop_duplicates()\n",
    "                                                                       .groupby('customer_id')\n",
    "                                                                       .agg(max_ = ('invoice_date', 'max'),\n",
    "                                                                            min_ = ('invoice_date', 'min'),\n",
    "                                                                            days_= ('invoice_date', lambda x: ((x.max() - x.min()).days)+1),\n",
    "                                                                            buy_ = ('invoice_no', 'count'))).reset_index()"
   ]
  },
  {
   "cell_type": "code",
   "execution_count": 69,
   "metadata": {
    "ExecuteTime": {
     "end_time": "2023-08-11T00:31:57.734149Z",
     "start_time": "2023-08-11T00:31:57.440206Z"
    }
   },
   "outputs": [],
   "source": [
    "df_frequencia_aux = (df1_vendas[['customer_id', 'invoice_no', 'invoice_date']].drop_duplicates()\n",
    "                                                                       .groupby('customer_id')\n",
    "                                                                       .agg(max_ = ('invoice_date', 'max'),\n",
    "                                                                            min_ = ('invoice_date', 'min'),\n",
    "                                                                            days_= ('invoice_date', lambda x: ((x.max() - x.min()).days)+1),\n",
    "                                                                            buy_ = ('invoice_no', 'count'))).reset_index()\n",
    "\n",
    "# cálculo de frequência\n",
    "df_frequencia_aux['frequency'] = df_frequencia_aux[['buy_', 'days_']].apply(lambda x: x['buy_']/x['days_'] if x['days_'] != 0 else 0, axis=1)\n",
    "\n",
    "# junção dos dataframes \n",
    "df_ref = pd.merge(df_ref, df_frequencia_aux[['customer_id', 'frequency']], on='customer_id', how='left')"
   ]
  },
  {
   "cell_type": "code",
   "execution_count": 70,
   "metadata": {
    "ExecuteTime": {
     "end_time": "2023-08-11T00:31:57.766084Z",
     "start_time": "2023-08-11T00:31:57.762083Z"
    }
   },
   "outputs": [
    {
     "data": {
      "text/plain": [
       "customer_id                0\n",
       "gross_revenue             27\n",
       "recency_days              27\n",
       "total_orders              27\n",
       "total_products_ordered    27\n",
       "total_quantity            27\n",
       "frequency                 27\n",
       "dtype: int64"
      ]
     },
     "execution_count": 70,
     "metadata": {},
     "output_type": "execute_result"
    }
   ],
   "source": [
    "df_ref.isna().sum()"
   ]
  },
  {
   "cell_type": "markdown",
   "metadata": {},
   "source": [
    "## QUANTIDADE MÉDIA DE PRODUTOS POR COMPRA"
   ]
  },
  {
   "cell_type": "code",
   "execution_count": 71,
   "metadata": {
    "ExecuteTime": {
     "end_time": "2023-08-11T00:31:58.639121Z",
     "start_time": "2023-08-11T00:31:58.602354Z"
    }
   },
   "outputs": [
    {
     "data": {
      "text/plain": [
       "customer_id                  0\n",
       "gross_revenue               27\n",
       "recency_days                27\n",
       "total_orders                27\n",
       "total_products_ordered      27\n",
       "total_quantity              27\n",
       "frequency                   27\n",
       "avg_basket_size_quantity    27\n",
       "dtype: int64"
      ]
     },
     "execution_count": 71,
     "metadata": {},
     "output_type": "execute_result"
    }
   ],
   "source": [
    "df_aux = (df1_vendas.loc[:, ['customer_id', 'invoice_no', 'quantity']].groupby('customer_id')\n",
    "                                                                            .agg( n_purchase=('invoice_no', 'nunique'),\n",
    "                                                                                  n_products=('quantity', 'sum' ))\n",
    "                                                                            .reset_index())\n",
    "\n",
    "# cáculo da média\n",
    "df_aux['avg_basket_size_quantity'] = df_aux['n_products'] / df_aux['n_purchase']\n",
    "\n",
    "# junção dos dataframes\n",
    "df_ref = pd.merge(df_ref, df_aux[['customer_id', 'avg_basket_size_quantity']], how='left', on='customer_id')\n",
    "df_ref.isna().sum()"
   ]
  },
  {
   "cell_type": "markdown",
   "metadata": {},
   "source": [
    "## TICKET MÉDIO"
   ]
  },
  {
   "cell_type": "code",
   "execution_count": 72,
   "metadata": {
    "ExecuteTime": {
     "end_time": "2023-08-11T00:31:59.425113Z",
     "start_time": "2023-08-11T00:31:59.414235Z"
    }
   },
   "outputs": [
    {
     "data": {
      "text/plain": [
       "customer_id                  0\n",
       "gross_revenue               27\n",
       "recency_days                27\n",
       "total_orders                27\n",
       "total_products_ordered      27\n",
       "total_quantity              27\n",
       "frequency                   27\n",
       "avg_basket_size_quantity    27\n",
       "avg_ticket                  27\n",
       "dtype: int64"
      ]
     },
     "execution_count": 72,
     "metadata": {},
     "output_type": "execute_result"
    }
   ],
   "source": [
    "# ticket médio\n",
    "df_avg_ticket = df1_vendas.loc[:, ['customer_id', 'gross_revenue']].groupby( 'customer_id' ).mean().reset_index().rename( columns={'gross_revenue':'avg_ticket'})\n",
    "df_ref = pd.merge( df_ref, df_avg_ticket, on='customer_id', how='left')\n",
    "df_ref.isna().sum()"
   ]
  },
  {
   "cell_type": "markdown",
   "metadata": {},
   "source": [
    "## QUANTIDADE MÉDIA DE PRODUTOS ÚNICOS"
   ]
  },
  {
   "cell_type": "code",
   "execution_count": 73,
   "metadata": {
    "ExecuteTime": {
     "end_time": "2023-08-11T00:32:00.301705Z",
     "start_time": "2023-08-11T00:32:00.212488Z"
    }
   },
   "outputs": [
    {
     "data": {
      "text/plain": [
       "customer_id                  0\n",
       "gross_revenue               27\n",
       "recency_days                27\n",
       "total_orders                27\n",
       "total_products_ordered      27\n",
       "total_quantity              27\n",
       "frequency                   27\n",
       "avg_basket_size_quantity    27\n",
       "avg_ticket                  27\n",
       "avg_basket_size_products    27\n",
       "dtype: int64"
      ]
     },
     "execution_count": 73,
     "metadata": {},
     "output_type": "execute_result"
    }
   ],
   "source": [
    "df_aux = (df1_vendas.loc[:, ['customer_id', 'invoice_no', 'stock_code']].groupby('customer_id')\n",
    "                                                                            .agg(n_purchase=( 'invoice_no', 'nunique'),\n",
    "                                                                                   n_products=( 'stock_code', 'nunique' ))\n",
    "                                                                            .reset_index())\n",
    "\n",
    "# cálculo da média\n",
    "df_aux['avg_basket_size_products'] = df_aux['n_products'] / df_aux['n_purchase']\n",
    "\n",
    "# junção dos dataframes\n",
    "df_ref = pd.merge(df_ref, df_aux[['customer_id', 'avg_basket_size_products']], how='left', on='customer_id')\n",
    "df_ref.isna().sum()"
   ]
  },
  {
   "cell_type": "markdown",
   "metadata": {},
   "source": [
    "## QUANTIDADE MÉDIA DE RECÊNCIA"
   ]
  },
  {
   "cell_type": "code",
   "execution_count": 74,
   "metadata": {
    "ExecuteTime": {
     "end_time": "2023-08-11T00:32:00.889534Z",
     "start_time": "2023-08-11T00:32:00.874738Z"
    }
   },
   "outputs": [],
   "source": [
    "# quantidade média de dias entre compras\n",
    "df_aux = df1[['customer_id', 'invoice_date']].drop_duplicates().sort_values(['customer_id', 'invoice_date'], ascending=False)\n",
    "df_aux['next_customer_id'] = df_aux['customer_id'].shift()\n",
    "df_aux['previous_date'] = df_aux['invoice_date'].shift()"
   ]
  },
  {
   "cell_type": "code",
   "execution_count": 75,
   "metadata": {
    "ExecuteTime": {
     "end_time": "2023-08-11T00:32:01.285068Z",
     "start_time": "2023-08-11T00:32:01.148031Z"
    }
   },
   "outputs": [
    {
     "data": {
      "text/plain": [
       "customer_id                    0\n",
       "gross_revenue                 27\n",
       "recency_days                  27\n",
       "total_orders                  27\n",
       "total_products_ordered        27\n",
       "total_quantity                27\n",
       "frequency                     27\n",
       "avg_basket_size_quantity      27\n",
       "avg_ticket                    27\n",
       "avg_basket_size_products      27\n",
       "avg_recency_days            1386\n",
       "dtype: int64"
      ]
     },
     "execution_count": 75,
     "metadata": {},
     "output_type": "execute_result"
    }
   ],
   "source": [
    "df_aux['avg_recency_days'] = df_aux.apply( lambda x: (x['invoice_date'] - x['previous_date'] ).days if x['customer_id'] == x['next_customer_id'] else np.nan, axis=1)\n",
    "\n",
    "df_aux = df_aux.drop(['invoice_date', 'next_customer_id', 'previous_date'], axis=1).dropna()\n",
    "\n",
    "# average recency \n",
    "df_avg_recency_days = df_aux.groupby('customer_id').mean().reset_index()\n",
    "\n",
    "# merge\n",
    "df_ref = pd.merge(df_ref, df_avg_recency_days, on='customer_id', how='left')\n",
    "df_ref.isna().sum()"
   ]
  },
  {
   "cell_type": "markdown",
   "metadata": {},
   "source": [
    "## QUANTIDADE DE DEVOLUÇÕES"
   ]
  },
  {
   "cell_type": "code",
   "execution_count": 76,
   "metadata": {
    "ExecuteTime": {
     "end_time": "2023-08-11T00:32:01.687423Z",
     "start_time": "2023-08-11T00:32:01.682743Z"
    }
   },
   "outputs": [],
   "source": [
    "df_devolucoes = df1_devolucoes[['customer_id', 'quantity']].groupby('customer_id').sum().reset_index().rename(columns={'quantity':'qty_returns'})\n",
    "df_devolucoes['qty_returns'] = df_devolucoes['qty_returns'] * -1"
   ]
  },
  {
   "cell_type": "code",
   "execution_count": 77,
   "metadata": {
    "ExecuteTime": {
     "end_time": "2023-08-11T00:32:02.212303Z",
     "start_time": "2023-08-11T00:32:02.205714Z"
    }
   },
   "outputs": [
    {
     "data": {
      "text/plain": [
       "customer_id                    0\n",
       "gross_revenue                 27\n",
       "recency_days                  27\n",
       "total_orders                  27\n",
       "total_products_ordered        27\n",
       "total_quantity                27\n",
       "frequency                     27\n",
       "avg_basket_size_quantity      27\n",
       "avg_ticket                    27\n",
       "avg_basket_size_products      27\n",
       "avg_recency_days            1386\n",
       "qty_returns                    0\n",
       "dtype: int64"
      ]
     },
     "execution_count": 77,
     "metadata": {},
     "output_type": "execute_result"
    }
   ],
   "source": [
    "df_ref = pd.merge(df_ref, df_devolucoes, how='left', on='customer_id')\n",
    "df_ref.loc[df_ref['qty_returns'].isna(), 'qty_returns'] = 0\n",
    "\n",
    "df_ref.isna().sum()"
   ]
  },
  {
   "cell_type": "markdown",
   "metadata": {},
   "source": [
    "# EDA"
   ]
  },
  {
   "cell_type": "code",
   "execution_count": 79,
   "metadata": {
    "ExecuteTime": {
     "end_time": "2023-08-11T00:32:08.259223Z",
     "start_time": "2023-08-11T00:32:08.254136Z"
    }
   },
   "outputs": [
    {
     "data": {
      "text/plain": [
       "customer_id                 0\n",
       "gross_revenue               0\n",
       "recency_days                0\n",
       "total_orders                0\n",
       "total_products_ordered      0\n",
       "total_quantity              0\n",
       "frequency                   0\n",
       "avg_basket_size_quantity    0\n",
       "avg_ticket                  0\n",
       "avg_basket_size_products    0\n",
       "avg_recency_days            0\n",
       "qty_returns                 0\n",
       "dtype: int64"
      ]
     },
     "execution_count": 79,
     "metadata": {},
     "output_type": "execute_result"
    }
   ],
   "source": [
    "df3 = df_ref.dropna()\n",
    "df3.isna().sum()"
   ]
  },
  {
   "cell_type": "code",
   "execution_count": 52,
   "metadata": {
    "ExecuteTime": {
     "end_time": "2023-08-11T00:31:19.555868Z",
     "start_time": "2023-08-11T00:31:07.044347Z"
    }
   },
   "outputs": [
    {
     "data": {
      "application/vnd.jupyter.widget-view+json": {
       "model_id": "9e58705cbef0415c96689886ef04f0fa",
       "version_major": 2,
       "version_minor": 0
      },
      "text/plain": [
       "Summarize dataset:   0%|          | 0/5 [00:00<?, ?it/s]"
      ]
     },
     "metadata": {},
     "output_type": "display_data"
    },
    {
     "data": {
      "application/vnd.jupyter.widget-view+json": {
       "model_id": "9b30972ea5274c3b824118bb761caae4",
       "version_major": 2,
       "version_minor": 0
      },
      "text/plain": [
       "Generate report structure:   0%|          | 0/1 [00:00<?, ?it/s]"
      ]
     },
     "metadata": {},
     "output_type": "display_data"
    },
    {
     "data": {
      "application/vnd.jupyter.widget-view+json": {
       "model_id": "8d1cb27d042b4543be465d436cf12cd7",
       "version_major": 2,
       "version_minor": 0
      },
      "text/plain": [
       "Render HTML:   0%|          | 0/1 [00:00<?, ?it/s]"
      ]
     },
     "metadata": {},
     "output_type": "display_data"
    },
    {
     "data": {
      "application/vnd.jupyter.widget-view+json": {
       "model_id": "30238c29b92a4968a7ef1b95be4159c3",
       "version_major": 2,
       "version_minor": 0
      },
      "text/plain": [
       "Export report to file:   0%|          | 0/1 [00:00<?, ?it/s]"
      ]
     },
     "metadata": {},
     "output_type": "display_data"
    }
   ],
   "source": [
    "# data_profiling = ProfileReport(df3)\n",
    "# data_profiling.to_file('profile_report3.html')"
   ]
  },
  {
   "cell_type": "markdown",
   "metadata": {},
   "source": [
    "## ESTUDO DO ESPAÇO DE DADOS"
   ]
  },
  {
   "cell_type": "code",
   "execution_count": 110,
   "metadata": {
    "ExecuteTime": {
     "end_time": "2023-08-11T00:42:56.660334Z",
     "start_time": "2023-08-11T00:42:56.657037Z"
    }
   },
   "outputs": [
    {
     "data": {
      "text/plain": [
       "Index(['customer_id', 'gross_revenue', 'recency_days', 'total_orders',\n",
       "       'total_products_ordered', 'total_quantity', 'frequency',\n",
       "       'avg_basket_size_quantity', 'avg_ticket', 'avg_basket_size_products',\n",
       "       'avg_recency_days', 'qty_returns'],\n",
       "      dtype='object')"
      ]
     },
     "execution_count": 110,
     "metadata": {},
     "output_type": "execute_result"
    }
   ],
   "source": [
    "df3.columns"
   ]
  },
  {
   "cell_type": "code",
   "execution_count": 80,
   "metadata": {
    "ExecuteTime": {
     "end_time": "2023-08-11T00:32:11.257983Z",
     "start_time": "2023-08-11T00:32:11.254388Z"
    }
   },
   "outputs": [],
   "source": [
    "# dataset com as features selecionadas\n",
    "features_selected = ['customer_id', 'gross_revenue', 'recency_days', 'total_orders', 'frequency', 'qty_returns']\n",
    "df_data_space = df3[features_selected].drop(columns=['customer_id'], axis=1).copy()"
   ]
  },
  {
   "cell_type": "code",
   "execution_count": 108,
   "metadata": {
    "ExecuteTime": {
     "end_time": "2023-08-11T00:40:22.537647Z",
     "start_time": "2023-08-11T00:40:22.526742Z"
    }
   },
   "outputs": [],
   "source": [
    "mms = MinMaxScaler()\n",
    "\n",
    "df_data_space['gross_revenue'] = mms.fit_transform(df_data_space[['gross_revenue']])\n",
    "df_data_space['recency_days']  = mms.fit_transform(df_data_space[['recency_days']])\n",
    "df_data_space['total_orders']  = mms.fit_transform(df_data_space[['total_orders']])\n",
    "df_data_space['frequency']     = mms.fit_transform(df_data_space[['frequency']])\n",
    "df_data_space['qty_returns']   = mms.fit_transform(df_data_space[['qty_returns']])\n",
    "\n",
    "X = df_data_space.copy()"
   ]
  },
  {
   "cell_type": "code",
   "execution_count": 109,
   "metadata": {
    "ExecuteTime": {
     "end_time": "2023-08-11T00:40:23.722987Z",
     "start_time": "2023-08-11T00:40:23.718554Z"
    }
   },
   "outputs": [
    {
     "data": {
      "text/plain": [
       "(2968, 5)"
      ]
     },
     "execution_count": 109,
     "metadata": {},
     "output_type": "execute_result"
    }
   ],
   "source": [
    "X.shape"
   ]
  },
  {
   "cell_type": "markdown",
   "metadata": {},
   "source": [
    "### PCA"
   ]
  },
  {
   "cell_type": "code",
   "execution_count": 99,
   "metadata": {
    "ExecuteTime": {
     "end_time": "2023-08-11T00:34:50.325071Z",
     "start_time": "2023-08-11T00:34:50.258073Z"
    }
   },
   "outputs": [
    {
     "data": {
      "image/png": "[encoded data removed]",
      "text/plain": [
       "<Figure size 1200x800 with 1 Axes>"
      ]
     },
     "metadata": {},
     "output_type": "display_data"
    }
   ],
   "source": [
    "pca = PCA(n_components=X.shape[1])\n",
    "\n",
    "componentes_pca = pca.fit_transform(X)\n",
    "\n",
    "# plot com os componentes do PCA\n",
    "features = range(pca.n_components_)\n",
    "\n",
    "plt.figure(figsize=(12,8))\n",
    "plt.bar(features, pca.explained_variance_ratio_, color='black');\n",
    "\n",
    "# dataframe com componentes do PCA\n",
    "df_pca = pd.DataFrame(componentes_pca)"
   ]
  },
  {
   "cell_type": "code",
   "execution_count": 100,
   "metadata": {
    "ExecuteTime": {
     "end_time": "2023-08-11T00:35:23.783262Z",
     "start_time": "2023-08-11T00:35:23.695304Z"
    }
   },
   "outputs": [
    {
     "data": {
      "image/png": "[encoded data removed]",
      "text/plain": [
       "<Figure size 1200x800 with 1 Axes>"
      ]
     },
     "metadata": {},
     "output_type": "display_data"
    }
   ],
   "source": [
    "plt.figure(figsize=(12,8))\n",
    "sns.scatterplot(x=0, y=1, data=df_pca);"
   ]
  },
  {
   "cell_type": "markdown",
   "metadata": {},
   "source": [
    "### UMAP"
   ]
  },
  {
   "cell_type": "code",
   "execution_count": 101,
   "metadata": {
    "ExecuteTime": {
     "end_time": "2023-08-11T00:35:48.151699Z",
     "start_time": "2023-08-11T00:35:42.924791Z"
    }
   },
   "outputs": [
    {
     "data": {
      "image/png": "[encoded data removed]",
      "text/plain": [
       "<Figure size 1200x800 with 1 Axes>"
      ]
     },
     "metadata": {},
     "output_type": "display_data"
    }
   ],
   "source": [
    "reducer = umap.UMAP(random_state=42)\n",
    "embedding = reducer.fit_transform(X)\n",
    "\n",
    "# espaço de dados com UMAP\n",
    "df_umap = pd.DataFrame()\n",
    "df_umap['embedding_x'] = embedding[:, 0]\n",
    "df_umap['embedding_y'] = embedding[:, 1]\n",
    "\n",
    "# plot do resultado do UMAP\n",
    "plt.figure(figsize=(12,8))\n",
    "sns.scatterplot(x='embedding_x', y='embedding_y', data=df_umap);"
   ]
  },
  {
   "cell_type": "markdown",
   "metadata": {},
   "source": [
    "### t-SNE"
   ]
  },
  {
   "cell_type": "code",
   "execution_count": 104,
   "metadata": {
    "ExecuteTime": {
     "end_time": "2023-08-11T00:37:07.968294Z",
     "start_time": "2023-08-11T00:37:03.272893Z"
    }
   },
   "outputs": [
    {
     "data": {
      "image/png": "[encoded data removed]",
      "text/plain": [
       "<Figure size 1200x800 with 1 Axes>"
      ]
     },
     "metadata": {},
     "output_type": "display_data"
    }
   ],
   "source": [
    "reducer = TSNE(n_components=2, n_jobs=-1, random_state=42)\n",
    "embedding = reducer.fit_transform(X)\n",
    "\n",
    "# espaço de dados com TSNE\n",
    "df_tsne = pd.DataFrame()\n",
    "df_tsne['embedding_x'] = embedding[:, 0]\n",
    "df_tsne['embedding_y'] = embedding[:, 1]\n",
    "\n",
    "# plot do resultado do TSNE\n",
    "plt.figure(figsize=(12,8))\n",
    "sns.scatterplot(x='embedding_x', y='embedding_y', data=df_tsne);"
   ]
  },
  {
   "cell_type": "markdown",
   "metadata": {},
   "source": [
    "### TREE-BASED EMBEDDING"
   ]
  },
  {
   "cell_type": "code",
   "execution_count": 106,
   "metadata": {
    "ExecuteTime": {
     "end_time": "2023-08-11T00:37:28.093010Z",
     "start_time": "2023-08-11T00:37:27.639906Z"
    }
   },
   "outputs": [],
   "source": [
    "# training dataset\n",
    "X = df_data_space.drop(columns=['gross_revenue'], axis=1)\n",
    "y = df_data_space['gross_revenue']\n",
    "\n",
    "# model definition\n",
    "rf_model = RandomForestRegressor(n_estimators=100, random_state=42)\n",
    "\n",
    "# model training\n",
    "rf_model.fit(X, y)\n",
    "\n",
    "# Leaf \n",
    "df_leaf = pd.DataFrame(rf_model.apply( X ))"
   ]
  },
  {
   "cell_type": "code",
   "execution_count": 125,
   "metadata": {
    "ExecuteTime": {
     "end_time": "2023-08-11T01:34:29.011500Z",
     "start_time": "2023-08-11T01:34:24.501325Z"
    }
   },
   "outputs": [
    {
     "data": {
      "image/png": "[encoded data removed]",
      "text/plain": [
       "<Figure size 1200x800 with 1 Axes>"
      ]
     },
     "metadata": {},
     "output_type": "display_data"
    }
   ],
   "source": [
    "# Reduzer dimensionality\n",
    "reducer = umap.UMAP(random_state=42)\n",
    "embedding = reducer.fit_transform(df_leaf)\n",
    "\n",
    "# embedding\n",
    "df_tree = pd.DataFrame()\n",
    "df_tree['embedding_x'] = embedding[:, 0]\n",
    "df_tree['embedding_y'] = embedding[:, 1]\n",
    "\n",
    "# plot UMAP\n",
    "plt.figure(figsize=(12,8))\n",
    "sns.scatterplot(x='embedding_x', y='embedding_y', data=df_tree);"
   ]
  },
  {
   "cell_type": "markdown",
   "metadata": {},
   "source": [
    "# TESTE DOS DADOS"
   ]
  },
  {
   "cell_type": "code",
   "execution_count": 166,
   "metadata": {
    "ExecuteTime": {
     "end_time": "2023-08-11T02:03:23.365441Z",
     "start_time": "2023-08-11T02:03:23.361804Z"
    }
   },
   "outputs": [],
   "source": [
    "# Tree-Based Embedding\n",
    "df5 = df_tree.copy()\n",
    "\n",
    "# UMAP Embedding\n",
    "#df5 = df_umap.copy()\n",
    "\n",
    "# TSNE Embedding\n",
    "#df5 = df_tsne.copy()"
   ]
  },
  {
   "cell_type": "markdown",
   "metadata": {},
   "source": [
    "# PARÂMETROS DE CLUSTERS"
   ]
  },
  {
   "cell_type": "code",
   "execution_count": 167,
   "metadata": {
    "ExecuteTime": {
     "end_time": "2023-08-11T02:03:24.133566Z",
     "start_time": "2023-08-11T02:03:24.130360Z"
    }
   },
   "outputs": [],
   "source": [
    "X = df5.copy()"
   ]
  },
  {
   "cell_type": "code",
   "execution_count": 168,
   "metadata": {
    "ExecuteTime": {
     "end_time": "2023-08-11T02:03:24.569558Z",
     "start_time": "2023-08-11T02:03:24.564688Z"
    }
   },
   "outputs": [
    {
     "data": {
      "text/html": [
       "<div>\n",
       "<style scoped>\n",
       "    .dataframe tbody tr th:only-of-type {\n",
       "        vertical-align: middle;\n",
       "    }\n",
       "\n",
       "    .dataframe tbody tr th {\n",
       "        vertical-align: top;\n",
       "    }\n",
       "\n",
       "    .dataframe thead th {\n",
       "        text-align: right;\n",
       "    }\n",
       "</style>\n",
       "<table border=\"1\" class=\"dataframe\">\n",
       "  <thead>\n",
       "    <tr style=\"text-align: right;\">\n",
       "      <th></th>\n",
       "      <th>embedding_x</th>\n",
       "      <th>embedding_y</th>\n",
       "    </tr>\n",
       "  </thead>\n",
       "  <tbody>\n",
       "    <tr>\n",
       "      <th>0</th>\n",
       "      <td>21.192228</td>\n",
       "      <td>5.703211</td>\n",
       "    </tr>\n",
       "    <tr>\n",
       "      <th>1</th>\n",
       "      <td>17.933725</td>\n",
       "      <td>15.075303</td>\n",
       "    </tr>\n",
       "    <tr>\n",
       "      <th>2</th>\n",
       "      <td>17.715805</td>\n",
       "      <td>3.998596</td>\n",
       "    </tr>\n",
       "    <tr>\n",
       "      <th>3</th>\n",
       "      <td>3.515600</td>\n",
       "      <td>23.716904</td>\n",
       "    </tr>\n",
       "    <tr>\n",
       "      <th>4</th>\n",
       "      <td>11.484721</td>\n",
       "      <td>6.065127</td>\n",
       "    </tr>\n",
       "  </tbody>\n",
       "</table>\n",
       "</div>"
      ],
      "text/plain": [
       "   embedding_x  embedding_y\n",
       "0    21.192228     5.703211\n",
       "1    17.933725    15.075303\n",
       "2    17.715805     3.998596\n",
       "3     3.515600    23.716904\n",
       "4    11.484721     6.065127"
      ]
     },
     "execution_count": 168,
     "metadata": {},
     "output_type": "execute_result"
    }
   ],
   "source": [
    "X.head()"
   ]
  },
  {
   "cell_type": "code",
   "execution_count": 169,
   "metadata": {
    "ExecuteTime": {
     "end_time": "2023-08-11T02:03:25.048293Z",
     "start_time": "2023-08-11T02:03:25.043336Z"
    }
   },
   "outputs": [
    {
     "data": {
      "text/plain": [
       "array([ 2,  3,  4,  5,  6,  7,  8,  9, 10, 11, 12, 13, 14, 15, 16, 17, 18,\n",
       "       19, 20, 21, 22, 23, 24, 25])"
      ]
     },
     "execution_count": 169,
     "metadata": {},
     "output_type": "execute_result"
    }
   ],
   "source": [
    "clusters = np.arange(2, 26)\n",
    "clusters"
   ]
  },
  {
   "cell_type": "markdown",
   "metadata": {},
   "source": [
    "## KMEANS"
   ]
  },
  {
   "cell_type": "code",
   "execution_count": 170,
   "metadata": {
    "ExecuteTime": {
     "end_time": "2023-08-11T02:04:19.645031Z",
     "start_time": "2023-08-11T02:03:26.134456Z"
    }
   },
   "outputs": [],
   "source": [
    "kmeans_list = []\n",
    "for k in clusters:\n",
    "    # definição do modelo\n",
    "    kmeans_model = KMeans(n_clusters=k, n_init=100, random_state=42)\n",
    "\n",
    "    # treino do modelo\n",
    "    kmeans_model.fit(X)\n",
    "\n",
    "    # predição do modelo\n",
    "    labels = kmeans_model.predict(X)\n",
    "\n",
    "    # score do modelo\n",
    "    sil = silhouette_score(X, labels, metric='euclidean')\n",
    "    kmeans_list.append(sil)"
   ]
  },
  {
   "cell_type": "code",
   "execution_count": 171,
   "metadata": {
    "ExecuteTime": {
     "end_time": "2023-08-11T02:04:19.766865Z",
     "start_time": "2023-08-11T02:04:19.649880Z"
    }
   },
   "outputs": [
    {
     "data": {
      "image/png": "[encoded data removed]",
      "text/plain": [
       "<Figure size 1200x800 with 1 Axes>"
      ]
     },
     "metadata": {},
     "output_type": "display_data"
    }
   ],
   "source": [
    "plt.figure(figsize=(12,8))\n",
    "plt.plot(clusters, kmeans_list, linestyle='--', marker='o', color='black')\n",
    "plt.xlabel('K');\n",
    "plt.ylabel('Silhouette Score');\n",
    "plt.title('Silhouette Score x K');"
   ]
  },
  {
   "cell_type": "markdown",
   "metadata": {},
   "source": [
    "## GMM (Gaussian Mixture Model)"
   ]
  },
  {
   "cell_type": "code",
   "execution_count": 172,
   "metadata": {
    "ExecuteTime": {
     "end_time": "2023-08-11T02:04:39.176540Z",
     "start_time": "2023-08-11T02:04:19.768213Z"
    }
   },
   "outputs": [],
   "source": [
    "gmm_list = []\n",
    "for k in clusters:\n",
    "    # definição do modelo\n",
    "    gmm_model = GaussianMixture(n_components=k, n_init=10, random_state=42)\n",
    "\n",
    "    # treino do modelo\n",
    "    gmm_model.fit(X)\n",
    "\n",
    "    # predição do modelo\n",
    "    labels = gmm_model.predict(X)\n",
    "\n",
    "    # score do modelo\n",
    "    sil = silhouette_score(X, labels, metric='euclidean')\n",
    "    gmm_list.append(sil)"
   ]
  },
  {
   "cell_type": "code",
   "execution_count": 173,
   "metadata": {
    "ExecuteTime": {
     "end_time": "2023-08-11T02:04:39.318277Z",
     "start_time": "2023-08-11T02:04:39.178780Z"
    }
   },
   "outputs": [
    {
     "data": {
      "image/png": "[encoded data removed]",
      "text/plain": [
       "<Figure size 1200x800 with 1 Axes>"
      ]
     },
     "metadata": {},
     "output_type": "display_data"
    }
   ],
   "source": [
    "plt.figure(figsize=(12,8))\n",
    "plt.plot( clusters, gmm_list, linestyle='--', marker='o', color='black' )\n",
    "plt.xlabel( 'k');\n",
    "plt.ylabel( 'Silhouette Score');\n",
    "plt.title( 'Silhouette Score x K');"
   ]
  },
  {
   "cell_type": "markdown",
   "metadata": {},
   "source": [
    "## HIERARCHICAL CLUSTERING"
   ]
  },
  {
   "cell_type": "code",
   "execution_count": 174,
   "metadata": {
    "ExecuteTime": {
     "end_time": "2023-08-11T02:04:39.406793Z",
     "start_time": "2023-08-11T02:04:39.319134Z"
    }
   },
   "outputs": [],
   "source": [
    "# definição do modelo\n",
    "hc_model = linkage(X, 'ward')"
   ]
  },
  {
   "cell_type": "markdown",
   "metadata": {},
   "source": [
    "### HIERARCHICAL CLUSTERING SILHOUETTE SCORE"
   ]
  },
  {
   "cell_type": "code",
   "execution_count": 175,
   "metadata": {
    "ExecuteTime": {
     "end_time": "2023-08-11T02:04:43.948703Z",
     "start_time": "2023-08-11T02:04:39.408010Z"
    }
   },
   "outputs": [],
   "source": [
    "hc_list = []\n",
    "for k in clusters:\n",
    "    # model definition & training\n",
    "    hc_model = linkage( X, 'ward' )\n",
    "\n",
    "    # model predict\n",
    "    labels = fcluster( hc_model, k, criterion='maxclust' )\n",
    "\n",
    "    # metrics\n",
    "    sil = silhouette_score( X, labels, metric='euclidean' )\n",
    "    hc_list.append( sil )"
   ]
  },
  {
   "cell_type": "code",
   "execution_count": 176,
   "metadata": {
    "ExecuteTime": {
     "end_time": "2023-08-11T02:04:44.057452Z",
     "start_time": "2023-08-11T02:04:43.950593Z"
    }
   },
   "outputs": [
    {
     "data": {
      "image/png": "[encoded data removed]",
      "text/plain": [
       "<Figure size 1200x800 with 1 Axes>"
      ]
     },
     "metadata": {},
     "output_type": "display_data"
    }
   ],
   "source": [
    "plt.figure(figsize=(12,8))\n",
    "plt.plot( clusters,  hc_list, linestyle='--', marker='o', color='black' );"
   ]
  },
  {
   "cell_type": "code",
   "execution_count": 177,
   "metadata": {
    "ExecuteTime": {
     "end_time": "2023-08-11T02:04:44.069481Z",
     "start_time": "2023-08-11T02:04:44.058821Z"
    },
    "cell_style": "center"
   },
   "outputs": [
    {
     "data": {
      "text/html": [
       "<style type=\"text/css\">\n",
       "#T_acbff_row0_col19, #T_acbff_row1_col23, #T_acbff_row2_col20 {\n",
       "  background-color: lightblue;\n",
       "}\n",
       "</style>\n",
       "<table id=\"T_acbff\">\n",
       "  <thead>\n",
       "    <tr>\n",
       "      <th class=\"blank level0\" >&nbsp;</th>\n",
       "      <th id=\"T_acbff_level0_col0\" class=\"col_heading level0 col0\" >2</th>\n",
       "      <th id=\"T_acbff_level0_col1\" class=\"col_heading level0 col1\" >3</th>\n",
       "      <th id=\"T_acbff_level0_col2\" class=\"col_heading level0 col2\" >4</th>\n",
       "      <th id=\"T_acbff_level0_col3\" class=\"col_heading level0 col3\" >5</th>\n",
       "      <th id=\"T_acbff_level0_col4\" class=\"col_heading level0 col4\" >6</th>\n",
       "      <th id=\"T_acbff_level0_col5\" class=\"col_heading level0 col5\" >7</th>\n",
       "      <th id=\"T_acbff_level0_col6\" class=\"col_heading level0 col6\" >8</th>\n",
       "      <th id=\"T_acbff_level0_col7\" class=\"col_heading level0 col7\" >9</th>\n",
       "      <th id=\"T_acbff_level0_col8\" class=\"col_heading level0 col8\" >10</th>\n",
       "      <th id=\"T_acbff_level0_col9\" class=\"col_heading level0 col9\" >11</th>\n",
       "      <th id=\"T_acbff_level0_col10\" class=\"col_heading level0 col10\" >12</th>\n",
       "      <th id=\"T_acbff_level0_col11\" class=\"col_heading level0 col11\" >13</th>\n",
       "      <th id=\"T_acbff_level0_col12\" class=\"col_heading level0 col12\" >14</th>\n",
       "      <th id=\"T_acbff_level0_col13\" class=\"col_heading level0 col13\" >15</th>\n",
       "      <th id=\"T_acbff_level0_col14\" class=\"col_heading level0 col14\" >16</th>\n",
       "      <th id=\"T_acbff_level0_col15\" class=\"col_heading level0 col15\" >17</th>\n",
       "      <th id=\"T_acbff_level0_col16\" class=\"col_heading level0 col16\" >18</th>\n",
       "      <th id=\"T_acbff_level0_col17\" class=\"col_heading level0 col17\" >19</th>\n",
       "      <th id=\"T_acbff_level0_col18\" class=\"col_heading level0 col18\" >20</th>\n",
       "      <th id=\"T_acbff_level0_col19\" class=\"col_heading level0 col19\" >21</th>\n",
       "      <th id=\"T_acbff_level0_col20\" class=\"col_heading level0 col20\" >22</th>\n",
       "      <th id=\"T_acbff_level0_col21\" class=\"col_heading level0 col21\" >23</th>\n",
       "      <th id=\"T_acbff_level0_col22\" class=\"col_heading level0 col22\" >24</th>\n",
       "      <th id=\"T_acbff_level0_col23\" class=\"col_heading level0 col23\" >25</th>\n",
       "    </tr>\n",
       "  </thead>\n",
       "  <tbody>\n",
       "    <tr>\n",
       "      <th id=\"T_acbff_level0_row0\" class=\"row_heading level0 row0\" >KMeans</th>\n",
       "      <td id=\"T_acbff_row0_col0\" class=\"data row0 col0\" >0.410555</td>\n",
       "      <td id=\"T_acbff_row0_col1\" class=\"data row0 col1\" >0.408354</td>\n",
       "      <td id=\"T_acbff_row0_col2\" class=\"data row0 col2\" >0.446964</td>\n",
       "      <td id=\"T_acbff_row0_col3\" class=\"data row0 col3\" >0.484299</td>\n",
       "      <td id=\"T_acbff_row0_col4\" class=\"data row0 col4\" >0.559405</td>\n",
       "      <td id=\"T_acbff_row0_col5\" class=\"data row0 col5\" >0.564196</td>\n",
       "      <td id=\"T_acbff_row0_col6\" class=\"data row0 col6\" >0.597877</td>\n",
       "      <td id=\"T_acbff_row0_col7\" class=\"data row0 col7\" >0.575458</td>\n",
       "      <td id=\"T_acbff_row0_col8\" class=\"data row0 col8\" >0.576577</td>\n",
       "      <td id=\"T_acbff_row0_col9\" class=\"data row0 col9\" >0.595366</td>\n",
       "      <td id=\"T_acbff_row0_col10\" class=\"data row0 col10\" >0.602001</td>\n",
       "      <td id=\"T_acbff_row0_col11\" class=\"data row0 col11\" >0.608973</td>\n",
       "      <td id=\"T_acbff_row0_col12\" class=\"data row0 col12\" >0.612550</td>\n",
       "      <td id=\"T_acbff_row0_col13\" class=\"data row0 col13\" >0.599285</td>\n",
       "      <td id=\"T_acbff_row0_col14\" class=\"data row0 col14\" >0.626425</td>\n",
       "      <td id=\"T_acbff_row0_col15\" class=\"data row0 col15\" >0.641738</td>\n",
       "      <td id=\"T_acbff_row0_col16\" class=\"data row0 col16\" >0.644711</td>\n",
       "      <td id=\"T_acbff_row0_col17\" class=\"data row0 col17\" >0.646617</td>\n",
       "      <td id=\"T_acbff_row0_col18\" class=\"data row0 col18\" >0.658152</td>\n",
       "      <td id=\"T_acbff_row0_col19\" class=\"data row0 col19\" >0.674634</td>\n",
       "      <td id=\"T_acbff_row0_col20\" class=\"data row0 col20\" >0.671493</td>\n",
       "      <td id=\"T_acbff_row0_col21\" class=\"data row0 col21\" >0.661305</td>\n",
       "      <td id=\"T_acbff_row0_col22\" class=\"data row0 col22\" >0.655889</td>\n",
       "      <td id=\"T_acbff_row0_col23\" class=\"data row0 col23\" >0.656671</td>\n",
       "    </tr>\n",
       "    <tr>\n",
       "      <th id=\"T_acbff_level0_row1\" class=\"row_heading level0 row1\" >GMM</th>\n",
       "      <td id=\"T_acbff_row1_col0\" class=\"data row1 col0\" >0.393752</td>\n",
       "      <td id=\"T_acbff_row1_col1\" class=\"data row1 col1\" >0.311384</td>\n",
       "      <td id=\"T_acbff_row1_col2\" class=\"data row1 col2\" >0.352065</td>\n",
       "      <td id=\"T_acbff_row1_col3\" class=\"data row1 col3\" >0.381000</td>\n",
       "      <td id=\"T_acbff_row1_col4\" class=\"data row1 col4\" >0.555619</td>\n",
       "      <td id=\"T_acbff_row1_col5\" class=\"data row1 col5\" >0.542863</td>\n",
       "      <td id=\"T_acbff_row1_col6\" class=\"data row1 col6\" >0.506731</td>\n",
       "      <td id=\"T_acbff_row1_col7\" class=\"data row1 col7\" >0.560224</td>\n",
       "      <td id=\"T_acbff_row1_col8\" class=\"data row1 col8\" >0.543297</td>\n",
       "      <td id=\"T_acbff_row1_col9\" class=\"data row1 col9\" >0.566201</td>\n",
       "      <td id=\"T_acbff_row1_col10\" class=\"data row1 col10\" >0.597921</td>\n",
       "      <td id=\"T_acbff_row1_col11\" class=\"data row1 col11\" >0.546139</td>\n",
       "      <td id=\"T_acbff_row1_col12\" class=\"data row1 col12\" >0.620896</td>\n",
       "      <td id=\"T_acbff_row1_col13\" class=\"data row1 col13\" >0.619130</td>\n",
       "      <td id=\"T_acbff_row1_col14\" class=\"data row1 col14\" >0.632418</td>\n",
       "      <td id=\"T_acbff_row1_col15\" class=\"data row1 col15\" >0.607064</td>\n",
       "      <td id=\"T_acbff_row1_col16\" class=\"data row1 col16\" >0.604917</td>\n",
       "      <td id=\"T_acbff_row1_col17\" class=\"data row1 col17\" >0.634982</td>\n",
       "      <td id=\"T_acbff_row1_col18\" class=\"data row1 col18\" >0.635884</td>\n",
       "      <td id=\"T_acbff_row1_col19\" class=\"data row1 col19\" >0.609765</td>\n",
       "      <td id=\"T_acbff_row1_col20\" class=\"data row1 col20\" >0.645807</td>\n",
       "      <td id=\"T_acbff_row1_col21\" class=\"data row1 col21\" >0.636477</td>\n",
       "      <td id=\"T_acbff_row1_col22\" class=\"data row1 col22\" >0.601065</td>\n",
       "      <td id=\"T_acbff_row1_col23\" class=\"data row1 col23\" >0.651481</td>\n",
       "    </tr>\n",
       "    <tr>\n",
       "      <th id=\"T_acbff_level0_row2\" class=\"row_heading level0 row2\" >HC</th>\n",
       "      <td id=\"T_acbff_row2_col0\" class=\"data row2 col0\" >0.367617</td>\n",
       "      <td id=\"T_acbff_row2_col1\" class=\"data row2 col1\" >0.403504</td>\n",
       "      <td id=\"T_acbff_row2_col2\" class=\"data row2 col2\" >0.439443</td>\n",
       "      <td id=\"T_acbff_row2_col3\" class=\"data row2 col3\" >0.488025</td>\n",
       "      <td id=\"T_acbff_row2_col4\" class=\"data row2 col4\" >0.519196</td>\n",
       "      <td id=\"T_acbff_row2_col5\" class=\"data row2 col5\" >0.553946</td>\n",
       "      <td id=\"T_acbff_row2_col6\" class=\"data row2 col6\" >0.585147</td>\n",
       "      <td id=\"T_acbff_row2_col7\" class=\"data row2 col7\" >0.609247</td>\n",
       "      <td id=\"T_acbff_row2_col8\" class=\"data row2 col8\" >0.589867</td>\n",
       "      <td id=\"T_acbff_row2_col9\" class=\"data row2 col9\" >0.594455</td>\n",
       "      <td id=\"T_acbff_row2_col10\" class=\"data row2 col10\" >0.604232</td>\n",
       "      <td id=\"T_acbff_row2_col11\" class=\"data row2 col11\" >0.611633</td>\n",
       "      <td id=\"T_acbff_row2_col12\" class=\"data row2 col12\" >0.612980</td>\n",
       "      <td id=\"T_acbff_row2_col13\" class=\"data row2 col13\" >0.629370</td>\n",
       "      <td id=\"T_acbff_row2_col14\" class=\"data row2 col14\" >0.641629</td>\n",
       "      <td id=\"T_acbff_row2_col15\" class=\"data row2 col15\" >0.638084</td>\n",
       "      <td id=\"T_acbff_row2_col16\" class=\"data row2 col16\" >0.644567</td>\n",
       "      <td id=\"T_acbff_row2_col17\" class=\"data row2 col17\" >0.646287</td>\n",
       "      <td id=\"T_acbff_row2_col18\" class=\"data row2 col18\" >0.647354</td>\n",
       "      <td id=\"T_acbff_row2_col19\" class=\"data row2 col19\" >0.657792</td>\n",
       "      <td id=\"T_acbff_row2_col20\" class=\"data row2 col20\" >0.674271</td>\n",
       "      <td id=\"T_acbff_row2_col21\" class=\"data row2 col21\" >0.662431</td>\n",
       "      <td id=\"T_acbff_row2_col22\" class=\"data row2 col22\" >0.661991</td>\n",
       "      <td id=\"T_acbff_row2_col23\" class=\"data row2 col23\" >0.662667</td>\n",
       "    </tr>\n",
       "  </tbody>\n",
       "</table>\n"
      ],
      "text/plain": [
       "<pandas.io.formats.style.Styler at 0x7fce885afbd0>"
      ]
     },
     "execution_count": 177,
     "metadata": {},
     "output_type": "execute_result"
    }
   ],
   "source": [
    "## 7.5. Results - Tree Based Embedding\n",
    "\n",
    "df_results = pd.DataFrame( \n",
    "                         {'KMeans': kmeans_list, \n",
    "                          'GMM': gmm_list, \n",
    "                          'HC': hc_list}\n",
    "                     ).T\n",
    "\n",
    "df_results.columns = clusters\n",
    "df_results.style.highlight_max( color='lightblue', axis=1 )"
   ]
  },
  {
   "cell_type": "code",
   "execution_count": 153,
   "metadata": {
    "ExecuteTime": {
     "end_time": "2023-08-11T02:01:31.350846Z",
     "start_time": "2023-08-11T02:01:31.343487Z"
    },
    "cell_style": "center"
   },
   "outputs": [
    {
     "data": {
      "text/html": [
       "<style type=\"text/css\">\n",
       "#T_cc5fb_row0_col23, #T_cc5fb_row1_col18, #T_cc5fb_row2_col23 {\n",
       "  background-color: lightgreen;\n",
       "}\n",
       "</style>\n",
       "<table id=\"T_cc5fb\">\n",
       "  <thead>\n",
       "    <tr>\n",
       "      <th class=\"blank level0\" >&nbsp;</th>\n",
       "      <th id=\"T_cc5fb_level0_col0\" class=\"col_heading level0 col0\" >2</th>\n",
       "      <th id=\"T_cc5fb_level0_col1\" class=\"col_heading level0 col1\" >3</th>\n",
       "      <th id=\"T_cc5fb_level0_col2\" class=\"col_heading level0 col2\" >4</th>\n",
       "      <th id=\"T_cc5fb_level0_col3\" class=\"col_heading level0 col3\" >5</th>\n",
       "      <th id=\"T_cc5fb_level0_col4\" class=\"col_heading level0 col4\" >6</th>\n",
       "      <th id=\"T_cc5fb_level0_col5\" class=\"col_heading level0 col5\" >7</th>\n",
       "      <th id=\"T_cc5fb_level0_col6\" class=\"col_heading level0 col6\" >8</th>\n",
       "      <th id=\"T_cc5fb_level0_col7\" class=\"col_heading level0 col7\" >9</th>\n",
       "      <th id=\"T_cc5fb_level0_col8\" class=\"col_heading level0 col8\" >10</th>\n",
       "      <th id=\"T_cc5fb_level0_col9\" class=\"col_heading level0 col9\" >11</th>\n",
       "      <th id=\"T_cc5fb_level0_col10\" class=\"col_heading level0 col10\" >12</th>\n",
       "      <th id=\"T_cc5fb_level0_col11\" class=\"col_heading level0 col11\" >13</th>\n",
       "      <th id=\"T_cc5fb_level0_col12\" class=\"col_heading level0 col12\" >14</th>\n",
       "      <th id=\"T_cc5fb_level0_col13\" class=\"col_heading level0 col13\" >15</th>\n",
       "      <th id=\"T_cc5fb_level0_col14\" class=\"col_heading level0 col14\" >16</th>\n",
       "      <th id=\"T_cc5fb_level0_col15\" class=\"col_heading level0 col15\" >17</th>\n",
       "      <th id=\"T_cc5fb_level0_col16\" class=\"col_heading level0 col16\" >18</th>\n",
       "      <th id=\"T_cc5fb_level0_col17\" class=\"col_heading level0 col17\" >19</th>\n",
       "      <th id=\"T_cc5fb_level0_col18\" class=\"col_heading level0 col18\" >20</th>\n",
       "      <th id=\"T_cc5fb_level0_col19\" class=\"col_heading level0 col19\" >21</th>\n",
       "      <th id=\"T_cc5fb_level0_col20\" class=\"col_heading level0 col20\" >22</th>\n",
       "      <th id=\"T_cc5fb_level0_col21\" class=\"col_heading level0 col21\" >23</th>\n",
       "      <th id=\"T_cc5fb_level0_col22\" class=\"col_heading level0 col22\" >24</th>\n",
       "      <th id=\"T_cc5fb_level0_col23\" class=\"col_heading level0 col23\" >25</th>\n",
       "    </tr>\n",
       "  </thead>\n",
       "  <tbody>\n",
       "    <tr>\n",
       "      <th id=\"T_cc5fb_level0_row0\" class=\"row_heading level0 row0\" >KMeans</th>\n",
       "      <td id=\"T_cc5fb_row0_col0\" class=\"data row0 col0\" >0.472353</td>\n",
       "      <td id=\"T_cc5fb_row0_col1\" class=\"data row0 col1\" >0.508018</td>\n",
       "      <td id=\"T_cc5fb_row0_col2\" class=\"data row0 col2\" >0.500478</td>\n",
       "      <td id=\"T_cc5fb_row0_col3\" class=\"data row0 col3\" >0.489265</td>\n",
       "      <td id=\"T_cc5fb_row0_col4\" class=\"data row0 col4\" >0.478078</td>\n",
       "      <td id=\"T_cc5fb_row0_col5\" class=\"data row0 col5\" >0.489947</td>\n",
       "      <td id=\"T_cc5fb_row0_col6\" class=\"data row0 col6\" >0.490230</td>\n",
       "      <td id=\"T_cc5fb_row0_col7\" class=\"data row0 col7\" >0.500337</td>\n",
       "      <td id=\"T_cc5fb_row0_col8\" class=\"data row0 col8\" >0.527082</td>\n",
       "      <td id=\"T_cc5fb_row0_col9\" class=\"data row0 col9\" >0.525067</td>\n",
       "      <td id=\"T_cc5fb_row0_col10\" class=\"data row0 col10\" >0.525615</td>\n",
       "      <td id=\"T_cc5fb_row0_col11\" class=\"data row0 col11\" >0.528611</td>\n",
       "      <td id=\"T_cc5fb_row0_col12\" class=\"data row0 col12\" >0.532893</td>\n",
       "      <td id=\"T_cc5fb_row0_col13\" class=\"data row0 col13\" >0.547850</td>\n",
       "      <td id=\"T_cc5fb_row0_col14\" class=\"data row0 col14\" >0.556257</td>\n",
       "      <td id=\"T_cc5fb_row0_col15\" class=\"data row0 col15\" >0.562396</td>\n",
       "      <td id=\"T_cc5fb_row0_col16\" class=\"data row0 col16\" >0.563258</td>\n",
       "      <td id=\"T_cc5fb_row0_col17\" class=\"data row0 col17\" >0.568992</td>\n",
       "      <td id=\"T_cc5fb_row0_col18\" class=\"data row0 col18\" >0.573190</td>\n",
       "      <td id=\"T_cc5fb_row0_col19\" class=\"data row0 col19\" >0.569788</td>\n",
       "      <td id=\"T_cc5fb_row0_col20\" class=\"data row0 col20\" >0.570806</td>\n",
       "      <td id=\"T_cc5fb_row0_col21\" class=\"data row0 col21\" >0.577280</td>\n",
       "      <td id=\"T_cc5fb_row0_col22\" class=\"data row0 col22\" >0.575210</td>\n",
       "      <td id=\"T_cc5fb_row0_col23\" class=\"data row0 col23\" >0.585222</td>\n",
       "    </tr>\n",
       "    <tr>\n",
       "      <th id=\"T_cc5fb_level0_row1\" class=\"row_heading level0 row1\" >GMM</th>\n",
       "      <td id=\"T_cc5fb_row1_col0\" class=\"data row1 col0\" >0.473998</td>\n",
       "      <td id=\"T_cc5fb_row1_col1\" class=\"data row1 col1\" >0.448619</td>\n",
       "      <td id=\"T_cc5fb_row1_col2\" class=\"data row1 col2\" >0.417864</td>\n",
       "      <td id=\"T_cc5fb_row1_col3\" class=\"data row1 col3\" >0.256508</td>\n",
       "      <td id=\"T_cc5fb_row1_col4\" class=\"data row1 col4\" >0.333914</td>\n",
       "      <td id=\"T_cc5fb_row1_col5\" class=\"data row1 col5\" >0.423870</td>\n",
       "      <td id=\"T_cc5fb_row1_col6\" class=\"data row1 col6\" >0.433203</td>\n",
       "      <td id=\"T_cc5fb_row1_col7\" class=\"data row1 col7\" >0.371295</td>\n",
       "      <td id=\"T_cc5fb_row1_col8\" class=\"data row1 col8\" >0.475742</td>\n",
       "      <td id=\"T_cc5fb_row1_col9\" class=\"data row1 col9\" >0.499593</td>\n",
       "      <td id=\"T_cc5fb_row1_col10\" class=\"data row1 col10\" >0.485687</td>\n",
       "      <td id=\"T_cc5fb_row1_col11\" class=\"data row1 col11\" >0.506139</td>\n",
       "      <td id=\"T_cc5fb_row1_col12\" class=\"data row1 col12\" >0.513598</td>\n",
       "      <td id=\"T_cc5fb_row1_col13\" class=\"data row1 col13\" >0.504203</td>\n",
       "      <td id=\"T_cc5fb_row1_col14\" class=\"data row1 col14\" >0.477877</td>\n",
       "      <td id=\"T_cc5fb_row1_col15\" class=\"data row1 col15\" >0.524380</td>\n",
       "      <td id=\"T_cc5fb_row1_col16\" class=\"data row1 col16\" >0.526438</td>\n",
       "      <td id=\"T_cc5fb_row1_col17\" class=\"data row1 col17\" >0.502381</td>\n",
       "      <td id=\"T_cc5fb_row1_col18\" class=\"data row1 col18\" >0.529825</td>\n",
       "      <td id=\"T_cc5fb_row1_col19\" class=\"data row1 col19\" >0.492322</td>\n",
       "      <td id=\"T_cc5fb_row1_col20\" class=\"data row1 col20\" >0.448343</td>\n",
       "      <td id=\"T_cc5fb_row1_col21\" class=\"data row1 col21\" >0.496092</td>\n",
       "      <td id=\"T_cc5fb_row1_col22\" class=\"data row1 col22\" >0.474281</td>\n",
       "      <td id=\"T_cc5fb_row1_col23\" class=\"data row1 col23\" >0.499840</td>\n",
       "    </tr>\n",
       "    <tr>\n",
       "      <th id=\"T_cc5fb_level0_row2\" class=\"row_heading level0 row2\" >HC</th>\n",
       "      <td id=\"T_cc5fb_row2_col0\" class=\"data row2 col0\" >0.476228</td>\n",
       "      <td id=\"T_cc5fb_row2_col1\" class=\"data row2 col1\" >0.501210</td>\n",
       "      <td id=\"T_cc5fb_row2_col2\" class=\"data row2 col2\" >0.504321</td>\n",
       "      <td id=\"T_cc5fb_row2_col3\" class=\"data row2 col3\" >0.491024</td>\n",
       "      <td id=\"T_cc5fb_row2_col4\" class=\"data row2 col4\" >0.488471</td>\n",
       "      <td id=\"T_cc5fb_row2_col5\" class=\"data row2 col5\" >0.500408</td>\n",
       "      <td id=\"T_cc5fb_row2_col6\" class=\"data row2 col6\" >0.518543</td>\n",
       "      <td id=\"T_cc5fb_row2_col7\" class=\"data row2 col7\" >0.486144</td>\n",
       "      <td id=\"T_cc5fb_row2_col8\" class=\"data row2 col8\" >0.515663</td>\n",
       "      <td id=\"T_cc5fb_row2_col9\" class=\"data row2 col9\" >0.504904</td>\n",
       "      <td id=\"T_cc5fb_row2_col10\" class=\"data row2 col10\" >0.500942</td>\n",
       "      <td id=\"T_cc5fb_row2_col11\" class=\"data row2 col11\" >0.509101</td>\n",
       "      <td id=\"T_cc5fb_row2_col12\" class=\"data row2 col12\" >0.523456</td>\n",
       "      <td id=\"T_cc5fb_row2_col13\" class=\"data row2 col13\" >0.540311</td>\n",
       "      <td id=\"T_cc5fb_row2_col14\" class=\"data row2 col14\" >0.548634</td>\n",
       "      <td id=\"T_cc5fb_row2_col15\" class=\"data row2 col15\" >0.556415</td>\n",
       "      <td id=\"T_cc5fb_row2_col16\" class=\"data row2 col16\" >0.559015</td>\n",
       "      <td id=\"T_cc5fb_row2_col17\" class=\"data row2 col17\" >0.569760</td>\n",
       "      <td id=\"T_cc5fb_row2_col18\" class=\"data row2 col18\" >0.569146</td>\n",
       "      <td id=\"T_cc5fb_row2_col19\" class=\"data row2 col19\" >0.568821</td>\n",
       "      <td id=\"T_cc5fb_row2_col20\" class=\"data row2 col20\" >0.571221</td>\n",
       "      <td id=\"T_cc5fb_row2_col21\" class=\"data row2 col21\" >0.576009</td>\n",
       "      <td id=\"T_cc5fb_row2_col22\" class=\"data row2 col22\" >0.577893</td>\n",
       "      <td id=\"T_cc5fb_row2_col23\" class=\"data row2 col23\" >0.582254</td>\n",
       "    </tr>\n",
       "  </tbody>\n",
       "</table>\n"
      ],
      "text/plain": [
       "<pandas.io.formats.style.Styler at 0x7fce883fa8d0>"
      ]
     },
     "execution_count": 153,
     "metadata": {},
     "output_type": "execute_result"
    }
   ],
   "source": [
    "## 7.6. Results - UMAP Embedding\n",
    "\n",
    "df_results = pd.DataFrame( \n",
    "    {'KMeans': kmeans_list, \n",
    "     'GMM': gmm_list, \n",
    "     'HC': hc_list}\n",
    ").T\n",
    "\n",
    "df_results.columns = clusters\n",
    "df_results.style.highlight_max( color='lightgreen', axis=1 )"
   ]
  },
  {
   "cell_type": "code",
   "execution_count": 165,
   "metadata": {
    "ExecuteTime": {
     "end_time": "2023-08-11T02:03:03.415325Z",
     "start_time": "2023-08-11T02:03:03.406022Z"
    },
    "cell_style": "center"
   },
   "outputs": [
    {
     "data": {
      "text/html": [
       "<style type=\"text/css\">\n",
       "#T_d12f3_row0_col17, #T_d12f3_row1_col21, #T_d12f3_row2_col23 {\n",
       "  background-color: lightgreen;\n",
       "}\n",
       "</style>\n",
       "<table id=\"T_d12f3\">\n",
       "  <thead>\n",
       "    <tr>\n",
       "      <th class=\"blank level0\" >&nbsp;</th>\n",
       "      <th id=\"T_d12f3_level0_col0\" class=\"col_heading level0 col0\" >2</th>\n",
       "      <th id=\"T_d12f3_level0_col1\" class=\"col_heading level0 col1\" >3</th>\n",
       "      <th id=\"T_d12f3_level0_col2\" class=\"col_heading level0 col2\" >4</th>\n",
       "      <th id=\"T_d12f3_level0_col3\" class=\"col_heading level0 col3\" >5</th>\n",
       "      <th id=\"T_d12f3_level0_col4\" class=\"col_heading level0 col4\" >6</th>\n",
       "      <th id=\"T_d12f3_level0_col5\" class=\"col_heading level0 col5\" >7</th>\n",
       "      <th id=\"T_d12f3_level0_col6\" class=\"col_heading level0 col6\" >8</th>\n",
       "      <th id=\"T_d12f3_level0_col7\" class=\"col_heading level0 col7\" >9</th>\n",
       "      <th id=\"T_d12f3_level0_col8\" class=\"col_heading level0 col8\" >10</th>\n",
       "      <th id=\"T_d12f3_level0_col9\" class=\"col_heading level0 col9\" >11</th>\n",
       "      <th id=\"T_d12f3_level0_col10\" class=\"col_heading level0 col10\" >12</th>\n",
       "      <th id=\"T_d12f3_level0_col11\" class=\"col_heading level0 col11\" >13</th>\n",
       "      <th id=\"T_d12f3_level0_col12\" class=\"col_heading level0 col12\" >14</th>\n",
       "      <th id=\"T_d12f3_level0_col13\" class=\"col_heading level0 col13\" >15</th>\n",
       "      <th id=\"T_d12f3_level0_col14\" class=\"col_heading level0 col14\" >16</th>\n",
       "      <th id=\"T_d12f3_level0_col15\" class=\"col_heading level0 col15\" >17</th>\n",
       "      <th id=\"T_d12f3_level0_col16\" class=\"col_heading level0 col16\" >18</th>\n",
       "      <th id=\"T_d12f3_level0_col17\" class=\"col_heading level0 col17\" >19</th>\n",
       "      <th id=\"T_d12f3_level0_col18\" class=\"col_heading level0 col18\" >20</th>\n",
       "      <th id=\"T_d12f3_level0_col19\" class=\"col_heading level0 col19\" >21</th>\n",
       "      <th id=\"T_d12f3_level0_col20\" class=\"col_heading level0 col20\" >22</th>\n",
       "      <th id=\"T_d12f3_level0_col21\" class=\"col_heading level0 col21\" >23</th>\n",
       "      <th id=\"T_d12f3_level0_col22\" class=\"col_heading level0 col22\" >24</th>\n",
       "      <th id=\"T_d12f3_level0_col23\" class=\"col_heading level0 col23\" >25</th>\n",
       "    </tr>\n",
       "  </thead>\n",
       "  <tbody>\n",
       "    <tr>\n",
       "      <th id=\"T_d12f3_level0_row0\" class=\"row_heading level0 row0\" >KMeans</th>\n",
       "      <td id=\"T_d12f3_row0_col0\" class=\"data row0 col0\" >0.413319</td>\n",
       "      <td id=\"T_d12f3_row0_col1\" class=\"data row0 col1\" >0.420964</td>\n",
       "      <td id=\"T_d12f3_row0_col2\" class=\"data row0 col2\" >0.436310</td>\n",
       "      <td id=\"T_d12f3_row0_col3\" class=\"data row0 col3\" >0.427991</td>\n",
       "      <td id=\"T_d12f3_row0_col4\" class=\"data row0 col4\" >0.437461</td>\n",
       "      <td id=\"T_d12f3_row0_col5\" class=\"data row0 col5\" >0.441353</td>\n",
       "      <td id=\"T_d12f3_row0_col6\" class=\"data row0 col6\" >0.445933</td>\n",
       "      <td id=\"T_d12f3_row0_col7\" class=\"data row0 col7\" >0.454718</td>\n",
       "      <td id=\"T_d12f3_row0_col8\" class=\"data row0 col8\" >0.460549</td>\n",
       "      <td id=\"T_d12f3_row0_col9\" class=\"data row0 col9\" >0.466210</td>\n",
       "      <td id=\"T_d12f3_row0_col10\" class=\"data row0 col10\" >0.480327</td>\n",
       "      <td id=\"T_d12f3_row0_col11\" class=\"data row0 col11\" >0.497571</td>\n",
       "      <td id=\"T_d12f3_row0_col12\" class=\"data row0 col12\" >0.497245</td>\n",
       "      <td id=\"T_d12f3_row0_col13\" class=\"data row0 col13\" >0.512650</td>\n",
       "      <td id=\"T_d12f3_row0_col14\" class=\"data row0 col14\" >0.510652</td>\n",
       "      <td id=\"T_d12f3_row0_col15\" class=\"data row0 col15\" >0.529475</td>\n",
       "      <td id=\"T_d12f3_row0_col16\" class=\"data row0 col16\" >0.526080</td>\n",
       "      <td id=\"T_d12f3_row0_col17\" class=\"data row0 col17\" >0.529563</td>\n",
       "      <td id=\"T_d12f3_row0_col18\" class=\"data row0 col18\" >0.527645</td>\n",
       "      <td id=\"T_d12f3_row0_col19\" class=\"data row0 col19\" >0.525767</td>\n",
       "      <td id=\"T_d12f3_row0_col20\" class=\"data row0 col20\" >0.518317</td>\n",
       "      <td id=\"T_d12f3_row0_col21\" class=\"data row0 col21\" >0.511514</td>\n",
       "      <td id=\"T_d12f3_row0_col22\" class=\"data row0 col22\" >0.517356</td>\n",
       "      <td id=\"T_d12f3_row0_col23\" class=\"data row0 col23\" >0.519160</td>\n",
       "    </tr>\n",
       "    <tr>\n",
       "      <th id=\"T_d12f3_level0_row1\" class=\"row_heading level0 row1\" >GMM</th>\n",
       "      <td id=\"T_d12f3_row1_col0\" class=\"data row1 col0\" >0.413141</td>\n",
       "      <td id=\"T_d12f3_row1_col1\" class=\"data row1 col1\" >0.420425</td>\n",
       "      <td id=\"T_d12f3_row1_col2\" class=\"data row1 col2\" >0.296875</td>\n",
       "      <td id=\"T_d12f3_row1_col3\" class=\"data row1 col3\" >0.262042</td>\n",
       "      <td id=\"T_d12f3_row1_col4\" class=\"data row1 col4\" >0.290241</td>\n",
       "      <td id=\"T_d12f3_row1_col5\" class=\"data row1 col5\" >0.297742</td>\n",
       "      <td id=\"T_d12f3_row1_col6\" class=\"data row1 col6\" >0.290299</td>\n",
       "      <td id=\"T_d12f3_row1_col7\" class=\"data row1 col7\" >0.340499</td>\n",
       "      <td id=\"T_d12f3_row1_col8\" class=\"data row1 col8\" >0.345181</td>\n",
       "      <td id=\"T_d12f3_row1_col9\" class=\"data row1 col9\" >0.373914</td>\n",
       "      <td id=\"T_d12f3_row1_col10\" class=\"data row1 col10\" >0.396135</td>\n",
       "      <td id=\"T_d12f3_row1_col11\" class=\"data row1 col11\" >0.390413</td>\n",
       "      <td id=\"T_d12f3_row1_col12\" class=\"data row1 col12\" >0.396685</td>\n",
       "      <td id=\"T_d12f3_row1_col13\" class=\"data row1 col13\" >0.390000</td>\n",
       "      <td id=\"T_d12f3_row1_col14\" class=\"data row1 col14\" >0.419017</td>\n",
       "      <td id=\"T_d12f3_row1_col15\" class=\"data row1 col15\" >0.406022</td>\n",
       "      <td id=\"T_d12f3_row1_col16\" class=\"data row1 col16\" >0.414167</td>\n",
       "      <td id=\"T_d12f3_row1_col17\" class=\"data row1 col17\" >0.461522</td>\n",
       "      <td id=\"T_d12f3_row1_col18\" class=\"data row1 col18\" >0.462284</td>\n",
       "      <td id=\"T_d12f3_row1_col19\" class=\"data row1 col19\" >0.471216</td>\n",
       "      <td id=\"T_d12f3_row1_col20\" class=\"data row1 col20\" >0.497366</td>\n",
       "      <td id=\"T_d12f3_row1_col21\" class=\"data row1 col21\" >0.511660</td>\n",
       "      <td id=\"T_d12f3_row1_col22\" class=\"data row1 col22\" >0.471566</td>\n",
       "      <td id=\"T_d12f3_row1_col23\" class=\"data row1 col23\" >0.483054</td>\n",
       "    </tr>\n",
       "    <tr>\n",
       "      <th id=\"T_d12f3_level0_row2\" class=\"row_heading level0 row2\" >HC</th>\n",
       "      <td id=\"T_d12f3_row2_col0\" class=\"data row2 col0\" >0.409917</td>\n",
       "      <td id=\"T_d12f3_row2_col1\" class=\"data row2 col1\" >0.386894</td>\n",
       "      <td id=\"T_d12f3_row2_col2\" class=\"data row2 col2\" >0.398697</td>\n",
       "      <td id=\"T_d12f3_row2_col3\" class=\"data row2 col3\" >0.398924</td>\n",
       "      <td id=\"T_d12f3_row2_col4\" class=\"data row2 col4\" >0.396038</td>\n",
       "      <td id=\"T_d12f3_row2_col5\" class=\"data row2 col5\" >0.403487</td>\n",
       "      <td id=\"T_d12f3_row2_col6\" class=\"data row2 col6\" >0.416714</td>\n",
       "      <td id=\"T_d12f3_row2_col7\" class=\"data row2 col7\" >0.420005</td>\n",
       "      <td id=\"T_d12f3_row2_col8\" class=\"data row2 col8\" >0.433317</td>\n",
       "      <td id=\"T_d12f3_row2_col9\" class=\"data row2 col9\" >0.453781</td>\n",
       "      <td id=\"T_d12f3_row2_col10\" class=\"data row2 col10\" >0.464342</td>\n",
       "      <td id=\"T_d12f3_row2_col11\" class=\"data row2 col11\" >0.482568</td>\n",
       "      <td id=\"T_d12f3_row2_col12\" class=\"data row2 col12\" >0.478573</td>\n",
       "      <td id=\"T_d12f3_row2_col13\" class=\"data row2 col13\" >0.475150</td>\n",
       "      <td id=\"T_d12f3_row2_col14\" class=\"data row2 col14\" >0.482938</td>\n",
       "      <td id=\"T_d12f3_row2_col15\" class=\"data row2 col15\" >0.484158</td>\n",
       "      <td id=\"T_d12f3_row2_col16\" class=\"data row2 col16\" >0.485853</td>\n",
       "      <td id=\"T_d12f3_row2_col17\" class=\"data row2 col17\" >0.493626</td>\n",
       "      <td id=\"T_d12f3_row2_col18\" class=\"data row2 col18\" >0.497262</td>\n",
       "      <td id=\"T_d12f3_row2_col19\" class=\"data row2 col19\" >0.503945</td>\n",
       "      <td id=\"T_d12f3_row2_col20\" class=\"data row2 col20\" >0.500483</td>\n",
       "      <td id=\"T_d12f3_row2_col21\" class=\"data row2 col21\" >0.500601</td>\n",
       "      <td id=\"T_d12f3_row2_col22\" class=\"data row2 col22\" >0.507301</td>\n",
       "      <td id=\"T_d12f3_row2_col23\" class=\"data row2 col23\" >0.520360</td>\n",
       "    </tr>\n",
       "  </tbody>\n",
       "</table>\n"
      ],
      "text/plain": [
       "<pandas.io.formats.style.Styler at 0x7fce883f7b10>"
      ]
     },
     "execution_count": 165,
     "metadata": {},
     "output_type": "execute_result"
    }
   ],
   "source": [
    "## 7.7. Results - TSNE Embedding\n",
    "\n",
    "df_results = pd.DataFrame( \n",
    "    {'KMeans': kmeans_list, \n",
    "     'GMM': gmm_list, \n",
    "     'HC': hc_list}\n",
    ").T\n",
    "\n",
    "df_results.columns = clusters\n",
    "df_results.style.highlight_max( color='lightgreen', axis=1)"
   ]
  },
  {
   "cell_type": "markdown",
   "metadata": {},
   "source": [
    "## DBSCAN"
   ]
  },
  {
   "cell_type": "code",
   "execution_count": 254,
   "metadata": {
    "ExecuteTime": {
     "end_time": "2023-08-11T02:44:56.663898Z",
     "start_time": "2023-08-11T02:44:56.583546Z"
    }
   },
   "outputs": [
    {
     "name": "stdout",
     "output_type": "stream",
     "text": [
      "Silhouette Score: 0.6523125171661377\n",
      "Number of Clusters: 20\n"
     ]
    }
   ],
   "source": [
    "eps=2.00\n",
    "min_samples=20 \n",
    "\n",
    "# model definition\n",
    "dbscan_model = DBSCAN(eps=eps, min_samples=min_samples)\n",
    "\n",
    "# mode training & predict \n",
    "labels = dbscan_model.fit_predict(X)\n",
    "\n",
    "# how many unique labels we have\n",
    "unique_labels = np.unique(labels)\n",
    "num_unique_labels = len(unique_labels)\n",
    "\n",
    "sil = silhouette_score(X, labels, metric='euclidean')\n",
    "print(f'Silhouette Score: {sil}')\n",
    "print(f'Number of Clusters: {num_unique_labels}')"
   ]
  },
  {
   "cell_type": "code",
   "execution_count": 212,
   "metadata": {
    "ExecuteTime": {
     "end_time": "2023-08-11T02:38:21.774401Z",
     "start_time": "2023-08-11T02:38:21.763043Z"
    }
   },
   "outputs": [],
   "source": [
    "neighbors = NearestNeighbors(n_neighbors=min_samples).fit(X)\n",
    "distances, index = neighbors.kneighbors(X)"
   ]
  },
  {
   "cell_type": "code",
   "execution_count": 213,
   "metadata": {
    "ExecuteTime": {
     "end_time": "2023-08-11T02:38:22.322981Z",
     "start_time": "2023-08-11T02:38:22.246535Z"
    }
   },
   "outputs": [
    {
     "data": {
      "image/png": "[encoded data removed]",
      "text/plain": [
       "<Figure size 1200x800 with 1 Axes>"
      ]
     },
     "metadata": {},
     "output_type": "display_data"
    }
   ],
   "source": [
    "distances = np.sort(distances, axis=0)\n",
    "distances = distances[:,1]\n",
    "plt.figure(figsize=(12,8))\n",
    "plt.plot(distances);"
   ]
  },
  {
   "cell_type": "markdown",
   "metadata": {},
   "source": [
    "# TREINO DO MODELO"
   ]
  },
  {
   "cell_type": "markdown",
   "metadata": {},
   "source": [
    "## GMM - MODELO ESCOLHIDO"
   ]
  },
  {
   "cell_type": "code",
   "execution_count": 178,
   "metadata": {
    "ExecuteTime": {
     "end_time": "2023-08-11T02:06:18.181790Z",
     "start_time": "2023-08-11T02:06:16.538585Z"
    }
   },
   "outputs": [],
   "source": [
    "# model definition\n",
    "k = 10\n",
    "gmm_model = GaussianMixture(n_components=k, n_init=100, init_params='k-means++', max_iter=1000, random_state=42)\n",
    "\n",
    "# model training\n",
    "gmm_model.fit(X)\n",
    "\n",
    "# model predict\n",
    "labels = gmm_model.predict(X)"
   ]
  },
  {
   "cell_type": "markdown",
   "metadata": {},
   "source": [
    "## SCORE DO MODELO"
   ]
  },
  {
   "cell_type": "code",
   "execution_count": 179,
   "metadata": {
    "ExecuteTime": {
     "end_time": "2023-08-11T02:06:39.385808Z",
     "start_time": "2023-08-11T02:06:39.234416Z"
    }
   },
   "outputs": [
    {
     "name": "stdout",
     "output_type": "stream",
     "text": [
      "SS Results: 0.5694265961647034\n"
     ]
    }
   ],
   "source": [
    "# SS (Silhouette Score)\n",
    "print(f'SS Results: {silhouette_score(X, labels, metric=\"euclidean\")}')"
   ]
  },
  {
   "cell_type": "markdown",
   "metadata": {},
   "source": [
    "# ANÁLISE DOS CLUSTERS"
   ]
  },
  {
   "cell_type": "code",
   "execution_count": 183,
   "metadata": {
    "ExecuteTime": {
     "end_time": "2023-08-11T02:13:01.744802Z",
     "start_time": "2023-08-11T02:13:01.741930Z"
    }
   },
   "outputs": [],
   "source": [
    "df_cluster = X.copy()\n",
    "df_cluster['cluster'] = labels"
   ]
  },
  {
   "cell_type": "markdown",
   "metadata": {},
   "source": [
    "## 9.1. Visualization Inspection"
   ]
  },
  {
   "cell_type": "code",
   "execution_count": 191,
   "metadata": {
    "ExecuteTime": {
     "end_time": "2023-08-11T02:13:53.089367Z",
     "start_time": "2023-08-11T02:13:52.831533Z"
    }
   },
   "outputs": [
    {
     "data": {
      "image/png": "[encoded data removed]",
      "text/plain": [
       "<Figure size 1200x800 with 1 Axes>"
      ]
     },
     "metadata": {},
     "output_type": "display_data"
    }
   ],
   "source": [
    "plt.figure(figsize=(12,8))\n",
    "sns.scatterplot( x='embedding_x', y='embedding_y', hue='cluster', data=df_cluster, palette='Set1');"
   ]
  },
  {
   "cell_type": "markdown",
   "metadata": {},
   "source": [
    "## 9.4. Cluster Profile"
   ]
  },
  {
   "cell_type": "code",
   "execution_count": 196,
   "metadata": {
    "ExecuteTime": {
     "end_time": "2023-08-11T02:16:39.109621Z",
     "start_time": "2023-08-11T02:16:39.095269Z"
    }
   },
   "outputs": [
    {
     "data": {
      "text/html": [
       "<div>\n",
       "<style scoped>\n",
       "    .dataframe tbody tr th:only-of-type {\n",
       "        vertical-align: middle;\n",
       "    }\n",
       "\n",
       "    .dataframe tbody tr th {\n",
       "        vertical-align: top;\n",
       "    }\n",
       "\n",
       "    .dataframe thead th {\n",
       "        text-align: right;\n",
       "    }\n",
       "</style>\n",
       "<table border=\"1\" class=\"dataframe\">\n",
       "  <thead>\n",
       "    <tr style=\"text-align: right;\">\n",
       "      <th></th>\n",
       "      <th>customer_id</th>\n",
       "      <th>gross_revenue</th>\n",
       "      <th>recency_days</th>\n",
       "      <th>total_orders</th>\n",
       "      <th>total_products_ordered</th>\n",
       "      <th>total_quantity</th>\n",
       "      <th>frequency</th>\n",
       "      <th>avg_basket_size_quantity</th>\n",
       "      <th>avg_ticket</th>\n",
       "      <th>avg_basket_size_products</th>\n",
       "      <th>avg_recency_days</th>\n",
       "      <th>qty_returns</th>\n",
       "      <th>cluster</th>\n",
       "    </tr>\n",
       "  </thead>\n",
       "  <tbody>\n",
       "    <tr>\n",
       "      <th>0</th>\n",
       "      <td>17850</td>\n",
       "      <td>5391.21</td>\n",
       "      <td>372.0</td>\n",
       "      <td>34.0</td>\n",
       "      <td>297.0</td>\n",
       "      <td>1733.0</td>\n",
       "      <td>17.000000</td>\n",
       "      <td>50.970588</td>\n",
       "      <td>18.152222</td>\n",
       "      <td>0.617647</td>\n",
       "      <td>-35.500000</td>\n",
       "      <td>40.0</td>\n",
       "      <td>7</td>\n",
       "    </tr>\n",
       "    <tr>\n",
       "      <th>1</th>\n",
       "      <td>13047</td>\n",
       "      <td>3232.59</td>\n",
       "      <td>56.0</td>\n",
       "      <td>9.0</td>\n",
       "      <td>171.0</td>\n",
       "      <td>1390.0</td>\n",
       "      <td>0.028302</td>\n",
       "      <td>154.444444</td>\n",
       "      <td>18.904035</td>\n",
       "      <td>11.666667</td>\n",
       "      <td>-27.250000</td>\n",
       "      <td>35.0</td>\n",
       "      <td>5</td>\n",
       "    </tr>\n",
       "    <tr>\n",
       "      <th>2</th>\n",
       "      <td>12583</td>\n",
       "      <td>6705.38</td>\n",
       "      <td>2.0</td>\n",
       "      <td>15.0</td>\n",
       "      <td>232.0</td>\n",
       "      <td>5028.0</td>\n",
       "      <td>0.040323</td>\n",
       "      <td>335.200000</td>\n",
       "      <td>28.902500</td>\n",
       "      <td>7.600000</td>\n",
       "      <td>-23.187500</td>\n",
       "      <td>50.0</td>\n",
       "      <td>7</td>\n",
       "    </tr>\n",
       "    <tr>\n",
       "      <th>3</th>\n",
       "      <td>13748</td>\n",
       "      <td>948.25</td>\n",
       "      <td>95.0</td>\n",
       "      <td>5.0</td>\n",
       "      <td>28.0</td>\n",
       "      <td>439.0</td>\n",
       "      <td>0.017921</td>\n",
       "      <td>87.800000</td>\n",
       "      <td>33.866071</td>\n",
       "      <td>4.800000</td>\n",
       "      <td>-92.666667</td>\n",
       "      <td>0.0</td>\n",
       "      <td>9</td>\n",
       "    </tr>\n",
       "    <tr>\n",
       "      <th>4</th>\n",
       "      <td>15100</td>\n",
       "      <td>876.00</td>\n",
       "      <td>333.0</td>\n",
       "      <td>3.0</td>\n",
       "      <td>3.0</td>\n",
       "      <td>80.0</td>\n",
       "      <td>0.073171</td>\n",
       "      <td>26.666667</td>\n",
       "      <td>292.000000</td>\n",
       "      <td>0.333333</td>\n",
       "      <td>-8.600000</td>\n",
       "      <td>22.0</td>\n",
       "      <td>8</td>\n",
       "    </tr>\n",
       "  </tbody>\n",
       "</table>\n",
       "</div>"
      ],
      "text/plain": [
       "   customer_id  gross_revenue  recency_days  total_orders  \\\n",
       "0        17850        5391.21         372.0          34.0   \n",
       "1        13047        3232.59          56.0           9.0   \n",
       "2        12583        6705.38           2.0          15.0   \n",
       "3        13748         948.25          95.0           5.0   \n",
       "4        15100         876.00         333.0           3.0   \n",
       "\n",
       "   total_products_ordered  total_quantity  frequency  \\\n",
       "0                   297.0          1733.0  17.000000   \n",
       "1                   171.0          1390.0   0.028302   \n",
       "2                   232.0          5028.0   0.040323   \n",
       "3                    28.0           439.0   0.017921   \n",
       "4                     3.0            80.0   0.073171   \n",
       "\n",
       "   avg_basket_size_quantity  avg_ticket  avg_basket_size_products  \\\n",
       "0                 50.970588   18.152222                  0.617647   \n",
       "1                154.444444   18.904035                 11.666667   \n",
       "2                335.200000   28.902500                  7.600000   \n",
       "3                 87.800000   33.866071                  4.800000   \n",
       "4                 26.666667  292.000000                  0.333333   \n",
       "\n",
       "   avg_recency_days  qty_returns  cluster  \n",
       "0        -35.500000         40.0        7  \n",
       "1        -27.250000         35.0        5  \n",
       "2        -23.187500         50.0        7  \n",
       "3        -92.666667          0.0        9  \n",
       "4         -8.600000         22.0        8  "
      ]
     },
     "execution_count": 196,
     "metadata": {},
     "output_type": "execute_result"
    }
   ],
   "source": [
    "df_cluster = df3.copy()\n",
    "df_cluster['cluster'] = labels\n",
    "df_cluster.head()"
   ]
  },
  {
   "cell_type": "code",
   "execution_count": 197,
   "metadata": {
    "ExecuteTime": {
     "end_time": "2023-08-11T02:16:50.029691Z",
     "start_time": "2023-08-11T02:16:50.012111Z"
    }
   },
   "outputs": [],
   "source": [
    "# number of customer\n",
    "df_cluster_profile = df_cluster[['customer_id', 'cluster']].groupby('cluster').count().reset_index()\n",
    "df_cluster_profile['perc_customer'] = 100*(df_cluster_profile['customer_id']/df_cluster_profile['customer_id'].sum())\n",
    "\n",
    "# avg gross revenue\n",
    "df_avg_gross_revenue = df_cluster[['gross_revenue', 'cluster']].groupby('cluster').mean().reset_index()\n",
    "df_cluster_profile = pd.merge(df_cluster_profile, df_avg_gross_revenue, how='inner', on='cluster')\n",
    "\n",
    "# avg recency days\n",
    "df_avg_recency_days = df_cluster[['recency_days', 'cluster']].groupby('cluster').mean().reset_index()\n",
    "df_cluster_profile = pd.merge(df_cluster_profile, df_avg_recency_days, how='inner', on='cluster')\n",
    "\n",
    "# avg orders\n",
    "df_avg_orders = df_cluster[['total_orders', 'cluster']].groupby('cluster').mean().reset_index()\n",
    "df_cluster_profile = pd.merge(df_cluster_profile, df_avg_orders, how='inner', on='cluster')\n",
    "\n",
    "# avg frequency\n",
    "df_avg_frequency = df_cluster[['frequency', 'cluster']].groupby('cluster').mean().reset_index()\n",
    "df_cluster_profile = pd.merge(df_cluster_profile, df_avg_frequency, how='inner', on='cluster')\n",
    "\n",
    "# avg quantity of returns\n",
    "df_avg_qty_returns = df_cluster[['qty_returns', 'cluster']].groupby('cluster').mean().reset_index()\n",
    "df_cluster_profile = pd.merge(df_cluster_profile, df_avg_qty_returns, how='inner', on='cluster')"
   ]
  },
  {
   "cell_type": "code",
   "execution_count": 198,
   "metadata": {
    "ExecuteTime": {
     "end_time": "2023-08-11T02:16:56.248485Z",
     "start_time": "2023-08-11T02:16:56.238899Z"
    }
   },
   "outputs": [
    {
     "data": {
      "text/html": [
       "<div>\n",
       "<style scoped>\n",
       "    .dataframe tbody tr th:only-of-type {\n",
       "        vertical-align: middle;\n",
       "    }\n",
       "\n",
       "    .dataframe tbody tr th {\n",
       "        vertical-align: top;\n",
       "    }\n",
       "\n",
       "    .dataframe thead th {\n",
       "        text-align: right;\n",
       "    }\n",
       "</style>\n",
       "<table border=\"1\" class=\"dataframe\">\n",
       "  <thead>\n",
       "    <tr style=\"text-align: right;\">\n",
       "      <th></th>\n",
       "      <th>cluster</th>\n",
       "      <th>customer_id</th>\n",
       "      <th>perc_customer</th>\n",
       "      <th>gross_revenue</th>\n",
       "      <th>recency_days</th>\n",
       "      <th>total_orders</th>\n",
       "      <th>frequency</th>\n",
       "      <th>qty_returns</th>\n",
       "    </tr>\n",
       "  </thead>\n",
       "  <tbody>\n",
       "    <tr>\n",
       "      <th>7</th>\n",
       "      <td>7</td>\n",
       "      <td>251</td>\n",
       "      <td>8.456873</td>\n",
       "      <td>15857.935976</td>\n",
       "      <td>11.884462</td>\n",
       "      <td>24.266932</td>\n",
       "      <td>0.138825</td>\n",
       "      <td>218.402390</td>\n",
       "    </tr>\n",
       "    <tr>\n",
       "      <th>0</th>\n",
       "      <td>0</td>\n",
       "      <td>114</td>\n",
       "      <td>3.840970</td>\n",
       "      <td>3887.399035</td>\n",
       "      <td>30.008772</td>\n",
       "      <td>9.877193</td>\n",
       "      <td>0.036473</td>\n",
       "      <td>26.842105</td>\n",
       "    </tr>\n",
       "    <tr>\n",
       "      <th>5</th>\n",
       "      <td>5</td>\n",
       "      <td>439</td>\n",
       "      <td>14.791105</td>\n",
       "      <td>2924.007312</td>\n",
       "      <td>30.136674</td>\n",
       "      <td>7.544419</td>\n",
       "      <td>0.033854</td>\n",
       "      <td>57.749431</td>\n",
       "    </tr>\n",
       "    <tr>\n",
       "      <th>3</th>\n",
       "      <td>3</td>\n",
       "      <td>240</td>\n",
       "      <td>8.086253</td>\n",
       "      <td>1939.963250</td>\n",
       "      <td>46.033333</td>\n",
       "      <td>5.166667</td>\n",
       "      <td>0.043094</td>\n",
       "      <td>14.612500</td>\n",
       "    </tr>\n",
       "    <tr>\n",
       "      <th>9</th>\n",
       "      <td>9</td>\n",
       "      <td>161</td>\n",
       "      <td>5.424528</td>\n",
       "      <td>1640.684472</td>\n",
       "      <td>40.062112</td>\n",
       "      <td>5.000000</td>\n",
       "      <td>0.026585</td>\n",
       "      <td>0.627329</td>\n",
       "    </tr>\n",
       "    <tr>\n",
       "      <th>2</th>\n",
       "      <td>2</td>\n",
       "      <td>291</td>\n",
       "      <td>9.804582</td>\n",
       "      <td>1346.534227</td>\n",
       "      <td>52.185567</td>\n",
       "      <td>4.000000</td>\n",
       "      <td>0.039128</td>\n",
       "      <td>0.525773</td>\n",
       "    </tr>\n",
       "    <tr>\n",
       "      <th>8</th>\n",
       "      <td>8</td>\n",
       "      <td>505</td>\n",
       "      <td>17.014825</td>\n",
       "      <td>1076.186931</td>\n",
       "      <td>70.235644</td>\n",
       "      <td>2.980198</td>\n",
       "      <td>0.041895</td>\n",
       "      <td>17.708911</td>\n",
       "    </tr>\n",
       "    <tr>\n",
       "      <th>6</th>\n",
       "      <td>6</td>\n",
       "      <td>311</td>\n",
       "      <td>10.478437</td>\n",
       "      <td>675.320675</td>\n",
       "      <td>145.273312</td>\n",
       "      <td>1.398714</td>\n",
       "      <td>0.633097</td>\n",
       "      <td>24.041801</td>\n",
       "    </tr>\n",
       "    <tr>\n",
       "      <th>1</th>\n",
       "      <td>1</td>\n",
       "      <td>271</td>\n",
       "      <td>9.130728</td>\n",
       "      <td>628.478007</td>\n",
       "      <td>134.752768</td>\n",
       "      <td>2.000000</td>\n",
       "      <td>0.122520</td>\n",
       "      <td>0.442804</td>\n",
       "    </tr>\n",
       "    <tr>\n",
       "      <th>4</th>\n",
       "      <td>4</td>\n",
       "      <td>385</td>\n",
       "      <td>12.971698</td>\n",
       "      <td>627.842909</td>\n",
       "      <td>55.545455</td>\n",
       "      <td>2.000000</td>\n",
       "      <td>0.017474</td>\n",
       "      <td>0.044156</td>\n",
       "    </tr>\n",
       "  </tbody>\n",
       "</table>\n",
       "</div>"
      ],
      "text/plain": [
       "   cluster  customer_id  perc_customer  gross_revenue  recency_days  \\\n",
       "7        7          251       8.456873   15857.935976     11.884462   \n",
       "0        0          114       3.840970    3887.399035     30.008772   \n",
       "5        5          439      14.791105    2924.007312     30.136674   \n",
       "3        3          240       8.086253    1939.963250     46.033333   \n",
       "9        9          161       5.424528    1640.684472     40.062112   \n",
       "2        2          291       9.804582    1346.534227     52.185567   \n",
       "8        8          505      17.014825    1076.186931     70.235644   \n",
       "6        6          311      10.478437     675.320675    145.273312   \n",
       "1        1          271       9.130728     628.478007    134.752768   \n",
       "4        4          385      12.971698     627.842909     55.545455   \n",
       "\n",
       "   total_orders  frequency  qty_returns  \n",
       "7     24.266932   0.138825   218.402390  \n",
       "0      9.877193   0.036473    26.842105  \n",
       "5      7.544419   0.033854    57.749431  \n",
       "3      5.166667   0.043094    14.612500  \n",
       "9      5.000000   0.026585     0.627329  \n",
       "2      4.000000   0.039128     0.525773  \n",
       "8      2.980198   0.041895    17.708911  \n",
       "6      1.398714   0.633097    24.041801  \n",
       "1      2.000000   0.122520     0.442804  \n",
       "4      2.000000   0.017474     0.044156  "
      ]
     },
     "execution_count": 198,
     "metadata": {},
     "output_type": "execute_result"
    }
   ],
   "source": [
    "df_cluster_profile.sort_values(by='gross_revenue', ascending=False)"
   ]
  },
  {
   "cell_type": "markdown",
   "metadata": {},
   "source": [
    "Clusters:\n",
    "- VIP (Highest Rank)\n",
    "- Platinum\n",
    "- Gold\n",
    "- Silver\n",
    "- Bronze\n",
    "- Elite\n",
    "- Preferred\n",
    "- Standard\n",
    "- Basic\n",
    "- Newcomer (Lowest Rank)"
   ]
  },
  {
   "cell_type": "markdown",
   "metadata": {},
   "source": [
    "# DEPLOY DO MODELO"
   ]
  },
  {
   "cell_type": "code",
   "execution_count": 199,
   "metadata": {
    "ExecuteTime": {
     "end_time": "2023-08-11T02:17:17.214937Z",
     "start_time": "2023-08-11T02:17:17.205128Z"
    }
   },
   "outputs": [
    {
     "data": {
      "text/html": [
       "<div>\n",
       "<style scoped>\n",
       "    .dataframe tbody tr th:only-of-type {\n",
       "        vertical-align: middle;\n",
       "    }\n",
       "\n",
       "    .dataframe tbody tr th {\n",
       "        vertical-align: top;\n",
       "    }\n",
       "\n",
       "    .dataframe thead th {\n",
       "        text-align: right;\n",
       "    }\n",
       "</style>\n",
       "<table border=\"1\" class=\"dataframe\">\n",
       "  <thead>\n",
       "    <tr style=\"text-align: right;\">\n",
       "      <th></th>\n",
       "      <th>customer_id</th>\n",
       "      <th>gross_revenue</th>\n",
       "      <th>recency_days</th>\n",
       "      <th>total_orders</th>\n",
       "      <th>total_products_ordered</th>\n",
       "      <th>total_quantity</th>\n",
       "      <th>frequency</th>\n",
       "      <th>avg_basket_size_quantity</th>\n",
       "      <th>avg_ticket</th>\n",
       "      <th>avg_basket_size_products</th>\n",
       "      <th>avg_recency_days</th>\n",
       "      <th>qty_returns</th>\n",
       "      <th>cluster</th>\n",
       "    </tr>\n",
       "  </thead>\n",
       "  <tbody>\n",
       "    <tr>\n",
       "      <th>0</th>\n",
       "      <td>17850</td>\n",
       "      <td>5391.21</td>\n",
       "      <td>372.0</td>\n",
       "      <td>34.0</td>\n",
       "      <td>297.0</td>\n",
       "      <td>1733.0</td>\n",
       "      <td>17.000000</td>\n",
       "      <td>50.970588</td>\n",
       "      <td>18.152222</td>\n",
       "      <td>0.617647</td>\n",
       "      <td>-35.500000</td>\n",
       "      <td>40.0</td>\n",
       "      <td>7</td>\n",
       "    </tr>\n",
       "    <tr>\n",
       "      <th>1</th>\n",
       "      <td>13047</td>\n",
       "      <td>3232.59</td>\n",
       "      <td>56.0</td>\n",
       "      <td>9.0</td>\n",
       "      <td>171.0</td>\n",
       "      <td>1390.0</td>\n",
       "      <td>0.028302</td>\n",
       "      <td>154.444444</td>\n",
       "      <td>18.904035</td>\n",
       "      <td>11.666667</td>\n",
       "      <td>-27.250000</td>\n",
       "      <td>35.0</td>\n",
       "      <td>5</td>\n",
       "    </tr>\n",
       "    <tr>\n",
       "      <th>2</th>\n",
       "      <td>12583</td>\n",
       "      <td>6705.38</td>\n",
       "      <td>2.0</td>\n",
       "      <td>15.0</td>\n",
       "      <td>232.0</td>\n",
       "      <td>5028.0</td>\n",
       "      <td>0.040323</td>\n",
       "      <td>335.200000</td>\n",
       "      <td>28.902500</td>\n",
       "      <td>7.600000</td>\n",
       "      <td>-23.187500</td>\n",
       "      <td>50.0</td>\n",
       "      <td>7</td>\n",
       "    </tr>\n",
       "    <tr>\n",
       "      <th>3</th>\n",
       "      <td>13748</td>\n",
       "      <td>948.25</td>\n",
       "      <td>95.0</td>\n",
       "      <td>5.0</td>\n",
       "      <td>28.0</td>\n",
       "      <td>439.0</td>\n",
       "      <td>0.017921</td>\n",
       "      <td>87.800000</td>\n",
       "      <td>33.866071</td>\n",
       "      <td>4.800000</td>\n",
       "      <td>-92.666667</td>\n",
       "      <td>0.0</td>\n",
       "      <td>9</td>\n",
       "    </tr>\n",
       "    <tr>\n",
       "      <th>4</th>\n",
       "      <td>15100</td>\n",
       "      <td>876.00</td>\n",
       "      <td>333.0</td>\n",
       "      <td>3.0</td>\n",
       "      <td>3.0</td>\n",
       "      <td>80.0</td>\n",
       "      <td>0.073171</td>\n",
       "      <td>26.666667</td>\n",
       "      <td>292.000000</td>\n",
       "      <td>0.333333</td>\n",
       "      <td>-8.600000</td>\n",
       "      <td>22.0</td>\n",
       "      <td>8</td>\n",
       "    </tr>\n",
       "  </tbody>\n",
       "</table>\n",
       "</div>"
      ],
      "text/plain": [
       "   customer_id  gross_revenue  recency_days  total_orders  \\\n",
       "0        17850        5391.21         372.0          34.0   \n",
       "1        13047        3232.59          56.0           9.0   \n",
       "2        12583        6705.38           2.0          15.0   \n",
       "3        13748         948.25          95.0           5.0   \n",
       "4        15100         876.00         333.0           3.0   \n",
       "\n",
       "   total_products_ordered  total_quantity  frequency  \\\n",
       "0                   297.0          1733.0  17.000000   \n",
       "1                   171.0          1390.0   0.028302   \n",
       "2                   232.0          5028.0   0.040323   \n",
       "3                    28.0           439.0   0.017921   \n",
       "4                     3.0            80.0   0.073171   \n",
       "\n",
       "   avg_basket_size_quantity  avg_ticket  avg_basket_size_products  \\\n",
       "0                 50.970588   18.152222                  0.617647   \n",
       "1                154.444444   18.904035                 11.666667   \n",
       "2                335.200000   28.902500                  7.600000   \n",
       "3                 87.800000   33.866071                  4.800000   \n",
       "4                 26.666667  292.000000                  0.333333   \n",
       "\n",
       "   avg_recency_days  qty_returns  cluster  \n",
       "0        -35.500000         40.0        7  \n",
       "1        -27.250000         35.0        5  \n",
       "2        -23.187500         50.0        7  \n",
       "3        -92.666667          0.0        9  \n",
       "4         -8.600000         22.0        8  "
      ]
     },
     "execution_count": 199,
     "metadata": {},
     "output_type": "execute_result"
    }
   ],
   "source": [
    "df_cluster.head()"
   ]
  },
  {
   "cell_type": "code",
   "execution_count": 200,
   "metadata": {
    "ExecuteTime": {
     "end_time": "2023-08-11T02:17:26.964303Z",
     "start_time": "2023-08-11T02:17:26.959225Z"
    }
   },
   "outputs": [
    {
     "data": {
      "text/plain": [
       "customer_id                   int64\n",
       "gross_revenue               float64\n",
       "recency_days                float64\n",
       "total_orders                float64\n",
       "total_products_ordered      float64\n",
       "total_quantity              float64\n",
       "frequency                   float64\n",
       "avg_basket_size_quantity    float64\n",
       "avg_ticket                  float64\n",
       "avg_basket_size_products    float64\n",
       "avg_recency_days            float64\n",
       "qty_returns                 float64\n",
       "cluster                       int64\n",
       "dtype: object"
      ]
     },
     "execution_count": 200,
     "metadata": {},
     "output_type": "execute_result"
    }
   ],
   "source": [
    "df_cluster.dtypes"
   ]
  }
 ],
 "metadata": {
  "kernelspec": {
   "display_name": "Python 3 (ipykernel)",
   "language": "python",
   "name": "python3"
  },
  "language_info": {
   "codemirror_mode": {
    "name": "ipython",
    "version": 3
   },
   "file_extension": ".py",
   "mimetype": "text/x-python",
   "name": "python",
   "nbconvert_exporter": "python",
   "pygments_lexer": "ipython3",
   "version": "3.11.3"
  },
  "toc": {
   "base_numbering": "0",
   "nav_menu": {},
   "number_sections": true,
   "sideBar": true,
   "skip_h1_title": false,
   "title_cell": "Table of Contents",
   "title_sidebar": "Contents",
   "toc_cell": false,
   "toc_position": {
    "height": "calc(100% - 180px)",
    "left": "10px",
    "top": "150px",
    "width": "377px"
   },
   "toc_section_display": true,
   "toc_window_display": true
  }
 },
 "nbformat": 4,
 "nbformat_minor": 4
}
