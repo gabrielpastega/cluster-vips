{
 "cells": [
  {
   "cell_type": "markdown",
   "id": "798a920e",
   "metadata": {},
   "source": [
    "# IMPORTS"
   ]
  },
  {
   "cell_type": "code",
   "execution_count": 11,
   "id": "72f311dc",
   "metadata": {
    "ExecuteTime": {
     "end_time": "2023-08-11T03:01:59.032434Z",
     "start_time": "2023-08-11T03:01:59.029087Z"
    }
   },
   "outputs": [],
   "source": [
    "import warnings\n",
    "warnings.simplefilter(\"ignore\")"
   ]
  },
  {
   "cell_type": "code",
   "execution_count": 12,
   "id": "44c6371b",
   "metadata": {
    "ExecuteTime": {
     "end_time": "2023-08-11T03:01:59.204908Z",
     "start_time": "2023-08-11T03:01:59.201934Z"
    }
   },
   "outputs": [],
   "source": [
    "import re\n",
    "import sqlite3\n",
    "import pickle\n",
    "import s3fs\n",
    "import os\n",
    "\n",
    "import pandas                as pd\n",
    "import numpy                 as np\n",
    "import umap.umap_            as umap\n",
    "import seaborn               as sns\n",
    "import matplotlib.pyplot     as plt\n",
    "\n",
    "from sklearn.ensemble        import RandomForestRegressor\n",
    "from sklearn.metrics         import silhouette_score, silhouette_samples\n",
    "from sklearn.mixture         import GaussianMixture\n",
    "\n",
    "from sqlalchemy import create_engine"
   ]
  },
  {
   "cell_type": "markdown",
   "id": "12791571",
   "metadata": {},
   "source": [
    "# LOADING DATA"
   ]
  },
  {
   "cell_type": "code",
   "execution_count": 15,
   "id": "c06d2afc",
   "metadata": {
    "ExecuteTime": {
     "end_time": "2023-08-11T03:02:05.761114Z",
     "start_time": "2023-08-11T03:02:05.443015Z"
    }
   },
   "outputs": [],
   "source": [
    "# loading the csv file and choosing the encoding\n",
    "df = pd.read_csv('data/Ecommerce.csv', encoding='cp437')\n",
    "\n",
    "# remove the empty column\n",
    "df = df.drop(columns=['Unnamed: 8'], axis=1)"
   ]
  },
  {
   "cell_type": "markdown",
   "id": "31940633",
   "metadata": {},
   "source": [
    "## LOADING THE AWS S3 KEYS"
   ]
  },
  {
   "cell_type": "code",
   "execution_count": 16,
   "id": "7c39d3d8",
   "metadata": {
    "ExecuteTime": {
     "end_time": "2023-08-11T03:02:05.994213Z",
     "start_time": "2023-08-11T03:02:05.991330Z"
    }
   },
   "outputs": [],
   "source": [
    "# loading the S3 keys\n",
    "AWS_ACCESS_KEY_ID = os.environ.get('AWS_ACCESS_KEY_ID_VIPS')\n",
    "AWS_SECRET_ACCESS_KEY = os.environ.get('AWS_SECRET_ACCESS_KEY_VIPS')\n",
    "\n",
    "# building a object to access the S3 bucket\n",
    "fs = s3fs.S3FileSystem(anon=False, key=AWS_ACCESS_KEY_ID, secret=AWS_SECRET_ACCESS_KEY)"
   ]
  },
  {
   "cell_type": "markdown",
   "id": "a9bf5a4c",
   "metadata": {},
   "source": [
    "## RENAME COLUMNS"
   ]
  },
  {
   "cell_type": "code",
   "execution_count": 17,
   "id": "afb79ed8",
   "metadata": {
    "ExecuteTime": {
     "end_time": "2023-08-11T03:02:06.055472Z",
     "start_time": "2023-08-11T03:02:06.052778Z"
    }
   },
   "outputs": [
    {
     "data": {
      "text/plain": [
       "Index(['InvoiceNo', 'StockCode', 'Description', 'Quantity', 'InvoiceDate',\n",
       "       'UnitPrice', 'CustomerID', 'Country'],\n",
       "      dtype='object')"
      ]
     },
     "execution_count": 17,
     "metadata": {},
     "output_type": "execute_result"
    }
   ],
   "source": [
    "# checking the columns name\n",
    "df.columns"
   ]
  },
  {
   "cell_type": "code",
   "execution_count": 18,
   "id": "b81c49e0",
   "metadata": {
    "ExecuteTime": {
     "end_time": "2023-08-11T03:02:06.088751Z",
     "start_time": "2023-08-11T03:02:06.086441Z"
    }
   },
   "outputs": [],
   "source": [
    "# renaming the columns names\n",
    "cols_new = ['invoice_no', 'stock_code', 'description', 'quantity', 'invoice_date',\n",
    "       'unit_price', 'customer_id', 'country']\n",
    "df.columns = cols_new"
   ]
  },
  {
   "cell_type": "markdown",
   "id": "01ca4b34",
   "metadata": {},
   "source": [
    "## DATASET DIMENSION"
   ]
  },
  {
   "cell_type": "code",
   "execution_count": 19,
   "id": "eed1a14d",
   "metadata": {
    "ExecuteTime": {
     "end_time": "2023-08-11T03:02:06.146656Z",
     "start_time": "2023-08-11T03:02:06.144066Z"
    }
   },
   "outputs": [
    {
     "name": "stdout",
     "output_type": "stream",
     "text": [
      "The dataset has 541909 rows and 8 columns\n"
     ]
    }
   ],
   "source": [
    "print(f'The dataset has {df.shape[0]} rows and {df.shape[1]} columns')"
   ]
  },
  {
   "cell_type": "markdown",
   "id": "4a2dd199",
   "metadata": {},
   "source": [
    "## DATA SUMMARY"
   ]
  },
  {
   "cell_type": "code",
   "execution_count": 20,
   "id": "c36c920e",
   "metadata": {
    "ExecuteTime": {
     "end_time": "2023-08-11T03:02:06.285534Z",
     "start_time": "2023-08-11T03:02:06.209960Z"
    }
   },
   "outputs": [
    {
     "name": "stdout",
     "output_type": "stream",
     "text": [
      "<class 'pandas.core.frame.DataFrame'>\n",
      "RangeIndex: 541909 entries, 0 to 541908\n",
      "Data columns (total 8 columns):\n",
      " #   Column        Non-Null Count   Dtype  \n",
      "---  ------        --------------   -----  \n",
      " 0   invoice_no    541909 non-null  object \n",
      " 1   stock_code    541909 non-null  object \n",
      " 2   description   540455 non-null  object \n",
      " 3   quantity      541909 non-null  int64  \n",
      " 4   invoice_date  541909 non-null  object \n",
      " 5   unit_price    541909 non-null  float64\n",
      " 6   customer_id   406829 non-null  float64\n",
      " 7   country       541909 non-null  object \n",
      "dtypes: float64(2), int64(1), object(5)\n",
      "memory usage: 33.1+ MB\n"
     ]
    }
   ],
   "source": [
    "df.info()"
   ]
  },
  {
   "cell_type": "markdown",
   "id": "3bafac4c",
   "metadata": {},
   "source": [
    "## CHECKING MISSING DATA"
   ]
  },
  {
   "cell_type": "code",
   "execution_count": 21,
   "id": "f87ec637",
   "metadata": {
    "ExecuteTime": {
     "end_time": "2023-08-11T03:02:06.366139Z",
     "start_time": "2023-08-11T03:02:06.286913Z"
    }
   },
   "outputs": [
    {
     "data": {
      "text/plain": [
       "invoice_no           0\n",
       "stock_code           0\n",
       "description       1454\n",
       "quantity             0\n",
       "invoice_date         0\n",
       "unit_price           0\n",
       "customer_id     135080\n",
       "country              0\n",
       "dtype: int64"
      ]
     },
     "execution_count": 21,
     "metadata": {},
     "output_type": "execute_result"
    }
   ],
   "source": [
    "# sum of the missing data by feature\n",
    "df.isnull().sum()"
   ]
  },
  {
   "cell_type": "code",
   "execution_count": 22,
   "id": "e432c7f8",
   "metadata": {
    "ExecuteTime": {
     "end_time": "2023-08-11T03:02:06.439105Z",
     "start_time": "2023-08-11T03:02:06.367333Z"
    }
   },
   "outputs": [
    {
     "data": {
      "text/plain": [
       "customer_id     24.93%\n",
       "description      0.27%\n",
       "invoice_no       0.00%\n",
       "stock_code       0.00%\n",
       "quantity         0.00%\n",
       "invoice_date     0.00%\n",
       "unit_price       0.00%\n",
       "country          0.00%\n",
       "dtype: object"
      ]
     },
     "execution_count": 22,
     "metadata": {},
     "output_type": "execute_result"
    }
   ],
   "source": [
    "# percentage of missing data\n",
    "percentage_na = ((df.isnull().sum().sort_values(ascending=False) / len(df)) * 100).map('{:.2f}%'.format)\n",
    "percentage_na"
   ]
  },
  {
   "cell_type": "markdown",
   "id": "32809c7e",
   "metadata": {},
   "source": [
    "## MISSING DATA ANALYSIS"
   ]
  },
  {
   "cell_type": "code",
   "execution_count": 23,
   "id": "53fe1fa8",
   "metadata": {
    "ExecuteTime": {
     "end_time": "2023-08-11T03:02:06.459984Z",
     "start_time": "2023-08-11T03:02:06.440001Z"
    }
   },
   "outputs": [],
   "source": [
    "# criando dataframes para comparação de customer_id\n",
    "df_missing = df.loc[df['customer_id'].isna(), :]\n",
    "df_not_missing = df.loc[~df['customer_id'].isna(), :]"
   ]
  },
  {
   "cell_type": "code",
   "execution_count": 24,
   "id": "6805a95c",
   "metadata": {
    "ExecuteTime": {
     "end_time": "2023-08-11T03:02:06.465952Z",
     "start_time": "2023-08-11T03:02:06.462258Z"
    }
   },
   "outputs": [
    {
     "name": "stdout",
     "output_type": "stream",
     "text": [
      "Quantity of customer_id missing: 135080\n",
      "Quantity of customer_id not missing: 406829\n"
     ]
    }
   ],
   "source": [
    "print(f'Quantity of customer_id missing: {df_missing.shape[0]}')\n",
    "print(f'Quantity of customer_id not missing: {df_not_missing.shape[0]}')"
   ]
  },
  {
   "cell_type": "code",
   "execution_count": 25,
   "id": "d2f4d84b",
   "metadata": {
    "ExecuteTime": {
     "end_time": "2023-08-11T03:02:06.488316Z",
     "start_time": "2023-08-11T03:02:06.467335Z"
    }
   },
   "outputs": [
    {
     "data": {
      "text/plain": [
       "invoice_no\n",
       "False    406829\n",
       "Name: count, dtype: int64"
      ]
     },
     "execution_count": 25,
     "metadata": {},
     "output_type": "execute_result"
    }
   ],
   "source": [
    "# criando lista com o invoice_no dos dados faltantes\n",
    "invoice_no_missing = df_missing['invoice_no'].drop_duplicates().tolist()\n",
    "\n",
    "# verificando se há invoice_no correspondentes aos dados sem customer_id\n",
    "df_not_missing['invoice_no'].isin(invoice_no_missing).value_counts()"
   ]
  },
  {
   "cell_type": "code",
   "execution_count": 26,
   "id": "9a1cbf75",
   "metadata": {
    "ExecuteTime": {
     "end_time": "2023-08-11T03:02:06.593186Z",
     "start_time": "2023-08-11T03:02:06.489610Z"
    }
   },
   "outputs": [],
   "source": [
    "df = df.dropna()"
   ]
  },
  {
   "cell_type": "code",
   "execution_count": 27,
   "id": "54383755",
   "metadata": {
    "ExecuteTime": {
     "end_time": "2023-08-11T03:02:06.651641Z",
     "start_time": "2023-08-11T03:02:06.594817Z"
    }
   },
   "outputs": [
    {
     "data": {
      "text/plain": [
       "invoice_no      0\n",
       "stock_code      0\n",
       "description     0\n",
       "quantity        0\n",
       "invoice_date    0\n",
       "unit_price      0\n",
       "customer_id     0\n",
       "country         0\n",
       "dtype: int64"
      ]
     },
     "execution_count": 27,
     "metadata": {},
     "output_type": "execute_result"
    }
   ],
   "source": [
    "df.isna().sum()"
   ]
  },
  {
   "cell_type": "markdown",
   "id": "4da22b20",
   "metadata": {},
   "source": [
    "## CHANGING DATA TYPES"
   ]
  },
  {
   "cell_type": "code",
   "execution_count": 28,
   "id": "cdc0402d",
   "metadata": {
    "ExecuteTime": {
     "end_time": "2023-08-11T03:02:06.677927Z",
     "start_time": "2023-08-11T03:02:06.653171Z"
    }
   },
   "outputs": [],
   "source": [
    "# invoice_date from object to datetime\n",
    "df['invoice_date'] = pd.to_datetime(df['invoice_date'], format='%d-%b-%y')\n",
    "\n",
    "# customer_id from float64 to int64\n",
    "df['customer_id'] = df['customer_id'].astype(int)"
   ]
  },
  {
   "cell_type": "code",
   "execution_count": 29,
   "id": "57f74ec2",
   "metadata": {
    "ExecuteTime": {
     "end_time": "2023-08-11T03:02:06.683108Z",
     "start_time": "2023-08-11T03:02:06.679282Z"
    }
   },
   "outputs": [
    {
     "data": {
      "text/plain": [
       "invoice_no              object\n",
       "stock_code              object\n",
       "description             object\n",
       "quantity                 int64\n",
       "invoice_date    datetime64[ns]\n",
       "unit_price             float64\n",
       "customer_id              int64\n",
       "country                 object\n",
       "dtype: object"
      ]
     },
     "execution_count": 29,
     "metadata": {},
     "output_type": "execute_result"
    }
   ],
   "source": [
    "df.dtypes"
   ]
  },
  {
   "cell_type": "markdown",
   "id": "1b46ce38",
   "metadata": {},
   "source": [
    "# FILTERING VARIABLES"
   ]
  },
  {
   "cell_type": "code",
   "execution_count": 30,
   "id": "a7c121c2",
   "metadata": {
    "ExecuteTime": {
     "end_time": "2023-08-11T03:02:06.714801Z",
     "start_time": "2023-08-11T03:02:06.684318Z"
    }
   },
   "outputs": [],
   "source": [
    "df1 = df.copy()"
   ]
  },
  {
   "cell_type": "code",
   "execution_count": 31,
   "id": "49ed8c75",
   "metadata": {
    "ExecuteTime": {
     "end_time": "2023-08-11T03:02:06.813387Z",
     "start_time": "2023-08-11T03:02:06.716845Z"
    }
   },
   "outputs": [],
   "source": [
    "# numeric feature unit_price with values above 0.04\n",
    "df1 = df1.loc[df1['unit_price'] >= 0.04, :]\n",
    "\n",
    "# categorical feature stock_code remove values\n",
    "df1 = df1[~df1['stock_code'].isin(['POST', 'D', 'DOT', 'M', 'S', 'AMAZONFEE', 'm',\n",
    "'DCGSSBOY', 'DCGSSGIRL', 'PADS', 'B', 'CRUK'])]\n",
    "\n",
    "# categorical feature description completely remove\n",
    "df1 = df1.drop(columns='description', axis=1)\n",
    "\n",
    "# categorical feature country remove unspecified and non-country values\n",
    "df1 = df1[~df1['country'].isin(['European Community', 'Unspecified'])]\n",
    "\n",
    "# users with highly divergent results\n",
    "df1 = df1[~df1['customer_id'].isin([16446])]\n",
    "\n",
    "# numeric feature quantity split into 2 new dataframes\n",
    "df1_returns = df1.loc[df1['quantity'] < 0, :]\n",
    "df1_sales = df1.loc[df1['quantity'] > 0, :]"
   ]
  },
  {
   "cell_type": "markdown",
   "id": "390d3bfd",
   "metadata": {},
   "source": [
    "# FEATURE ENGINEERING"
   ]
  },
  {
   "cell_type": "code",
   "execution_count": 32,
   "id": "f6a95e79",
   "metadata": {
    "ExecuteTime": {
     "end_time": "2023-08-11T03:02:06.821801Z",
     "start_time": "2023-08-11T03:02:06.814640Z"
    }
   },
   "outputs": [],
   "source": [
    "df2 = df1.copy()"
   ]
  },
  {
   "cell_type": "code",
   "execution_count": 33,
   "id": "6661a83e",
   "metadata": {
    "ExecuteTime": {
     "end_time": "2023-08-11T03:02:06.833269Z",
     "start_time": "2023-08-11T03:02:06.822811Z"
    }
   },
   "outputs": [],
   "source": [
    "# reference table\n",
    "df_ref = df2.drop(['invoice_no', 'stock_code', 'quantity',  \n",
    "                   'invoice_date', 'unit_price', 'country'], axis=1).drop_duplicates(ignore_index=True)"
   ]
  },
  {
   "cell_type": "markdown",
   "id": "cd08e0dd",
   "metadata": {},
   "source": [
    "## GROSS REVENUE"
   ]
  },
  {
   "cell_type": "code",
   "execution_count": 34,
   "id": "9ca5738f",
   "metadata": {
    "ExecuteTime": {
     "end_time": "2023-08-11T03:02:06.838269Z",
     "start_time": "2023-08-11T03:02:06.834368Z"
    }
   },
   "outputs": [],
   "source": [
    "# gross_revenue -> quantity * unit_price = gross_revenue\n",
    "df1_sales.loc[:, 'gross_revenue'] = df1_sales.loc[:, 'quantity'] * df1_sales.loc[:, 'unit_price']"
   ]
  },
  {
   "cell_type": "code",
   "execution_count": 35,
   "id": "99bf11bf",
   "metadata": {
    "ExecuteTime": {
     "end_time": "2023-08-11T03:02:06.865710Z",
     "start_time": "2023-08-11T03:02:06.850874Z"
    }
   },
   "outputs": [
    {
     "data": {
      "text/plain": [
       "customer_id       0\n",
       "gross_revenue    27\n",
       "dtype: int64"
      ]
     },
     "execution_count": 35,
     "metadata": {},
     "output_type": "execute_result"
    }
   ],
   "source": [
    "# monetary value\n",
    "df_mv = df1_sales.loc[:, ['customer_id', 'gross_revenue']].groupby('customer_id').sum().reset_index()\n",
    "df_ref = pd.merge(df_ref, df_mv, on='customer_id', how='left')\n",
    "df_ref.isna().sum()"
   ]
  },
  {
   "cell_type": "markdown",
   "id": "8c41ffb8",
   "metadata": {},
   "source": [
    "## RECENCY"
   ]
  },
  {
   "cell_type": "code",
   "execution_count": 36,
   "id": "1bf4b63d",
   "metadata": {
    "ExecuteTime": {
     "end_time": "2023-08-11T03:02:06.925368Z",
     "start_time": "2023-08-11T03:02:06.910748Z"
    }
   },
   "outputs": [
    {
     "data": {
      "text/plain": [
       "customer_id       0\n",
       "gross_revenue    27\n",
       "recency_days     27\n",
       "dtype: int64"
      ]
     },
     "execution_count": 36,
     "metadata": {},
     "output_type": "execute_result"
    }
   ],
   "source": [
    "# recency - difference between the maximum date in the dataset and the customer's last purchase date\n",
    "df_recency = df1_sales[['customer_id', 'invoice_date']].groupby('customer_id').max().reset_index()\n",
    "df_recency['recency_days'] = (df2['invoice_date'].max() - df_recency['invoice_date']).dt.days\n",
    "df_recency = df_recency[['customer_id', 'recency_days']].copy()\n",
    "df_ref = pd.merge(df_ref, df_recency, on='customer_id', how='left')\n",
    "df_ref.isna().sum()"
   ]
  },
  {
   "cell_type": "markdown",
   "id": "26c97153",
   "metadata": {},
   "source": [
    "## TOTAL ORDERS"
   ]
  },
  {
   "cell_type": "code",
   "execution_count": 37,
   "id": "e69f168e",
   "metadata": {
    "ExecuteTime": {
     "end_time": "2023-08-11T03:02:07.005635Z",
     "start_time": "2023-08-11T03:02:06.974846Z"
    }
   },
   "outputs": [
    {
     "data": {
      "text/plain": [
       "customer_id       0\n",
       "gross_revenue    27\n",
       "recency_days     27\n",
       "total_orders     27\n",
       "dtype: int64"
      ]
     },
     "execution_count": 37,
     "metadata": {},
     "output_type": "execute_result"
    }
   ],
   "source": [
    "# total orders - the number of times the customer made a purchase within a specified time period\n",
    "df_quantity = df1_sales.loc[:, ['customer_id', 'invoice_no']].drop_duplicates().groupby('customer_id').count().reset_index().rename(columns={'invoice_no':'total_orders'})\n",
    "df_ref = pd.merge(df_ref, df_quantity, on='customer_id', how='left')\n",
    "df_ref.isna().sum()"
   ]
  },
  {
   "cell_type": "markdown",
   "id": "3e9ec5a4",
   "metadata": {},
   "source": [
    "## FREQUENCY"
   ]
  },
  {
   "cell_type": "code",
   "execution_count": 38,
   "id": "c44bbe4e",
   "metadata": {
    "ExecuteTime": {
     "end_time": "2023-08-11T03:02:07.349048Z",
     "start_time": "2023-08-11T03:02:07.035544Z"
    }
   },
   "outputs": [],
   "source": [
    "df_frequency_aux = (df1_sales[['customer_id', 'invoice_no', 'invoice_date']].drop_duplicates()\n",
    "                                                                      .groupby('customer_id')\n",
    "                                                                      .agg(max_ = ('invoice_date', 'max'),\n",
    "                                                                           min_ = ('invoice_date', 'min'),\n",
    "                                                                           days_= ('invoice_date', lambda x: ((x.max() - x.min()).days)+1),\n",
    "                                                                           buy_ = ('invoice_no', 'count'))).reset_index()\n"
   ]
  },
  {
   "cell_type": "code",
   "execution_count": 39,
   "id": "5e6e369c",
   "metadata": {
    "ExecuteTime": {
     "end_time": "2023-08-11T03:02:07.664520Z",
     "start_time": "2023-08-11T03:02:07.350110Z"
    }
   },
   "outputs": [],
   "source": [
    "df_frequency_aux = (df1_sales[['customer_id', 'invoice_no', 'invoice_date']].drop_duplicates()\n",
    "                                                                      .groupby('customer_id')\n",
    "                                                                      .agg(max_ = ('invoice_date', 'max'),\n",
    "                                                                           min_ = ('invoice_date', 'min'),\n",
    "                                                                           days_= ('invoice_date', lambda x: ((x.max() - x.min()).days)+1),\n",
    "                                                                           buy_ = ('invoice_no', 'count'))).reset_index()\n",
    "\n",
    "# frequency\n",
    "df_frequency_aux['frequency'] = df_frequency_aux[['buy_', 'days_']].apply(lambda x: x['buy_']/x['days_'] if x['days_'] != 0 else 0, axis=1)\n",
    "\n",
    "# merge\n",
    "df_ref = pd.merge(df_ref, df_frequency_aux[['customer_id', 'frequency']], on='customer_id', how='left')"
   ]
  },
  {
   "cell_type": "code",
   "execution_count": 40,
   "id": "584501b1",
   "metadata": {
    "ExecuteTime": {
     "end_time": "2023-08-11T03:02:07.670207Z",
     "start_time": "2023-08-11T03:02:07.665457Z"
    }
   },
   "outputs": [
    {
     "data": {
      "text/plain": [
       "customer_id       0\n",
       "gross_revenue    27\n",
       "recency_days     27\n",
       "total_orders     27\n",
       "frequency        27\n",
       "dtype: int64"
      ]
     },
     "execution_count": 40,
     "metadata": {},
     "output_type": "execute_result"
    }
   ],
   "source": [
    "df_ref.isna().sum()"
   ]
  },
  {
   "cell_type": "markdown",
   "id": "abacdcfd",
   "metadata": {},
   "source": [
    "## RETURNS QUANTITY"
   ]
  },
  {
   "cell_type": "code",
   "execution_count": 41,
   "id": "45d725a8",
   "metadata": {
    "ExecuteTime": {
     "end_time": "2023-08-11T03:02:07.711156Z",
     "start_time": "2023-08-11T03:02:07.671885Z"
    }
   },
   "outputs": [],
   "source": [
    "df_returns = df1_returns[['customer_id', 'quantity']].groupby('customer_id').sum().reset_index().rename(columns={'quantity':'qty_returns'})\n",
    "df_returns['qty_returns'] = df_returns['qty_returns'] * -1"
   ]
  },
  {
   "cell_type": "code",
   "execution_count": 42,
   "id": "1f5b1c12",
   "metadata": {
    "ExecuteTime": {
     "end_time": "2023-08-11T03:02:07.718330Z",
     "start_time": "2023-08-11T03:02:07.712602Z"
    }
   },
   "outputs": [
    {
     "data": {
      "text/plain": [
       "customer_id       0\n",
       "gross_revenue    27\n",
       "recency_days     27\n",
       "total_orders     27\n",
       "frequency        27\n",
       "qty_returns       0\n",
       "dtype: int64"
      ]
     },
     "execution_count": 42,
     "metadata": {},
     "output_type": "execute_result"
    }
   ],
   "source": [
    "df_ref = pd.merge(df_ref, df_returns, how='left', on='customer_id')\n",
    "df_ref.loc[df_ref['qty_returns'].isna(), 'qty_returns'] = 0\n",
    "\n",
    "df_ref.isna().sum()"
   ]
  },
  {
   "cell_type": "code",
   "execution_count": 43,
   "id": "f6f27599",
   "metadata": {
    "ExecuteTime": {
     "end_time": "2023-08-11T03:02:07.721214Z",
     "start_time": "2023-08-11T03:02:07.719115Z"
    },
    "code_folding": []
   },
   "outputs": [],
   "source": [
    "df_ref = df_ref.loc[df_ref['total_orders'] > 1, :] "
   ]
  },
  {
   "cell_type": "markdown",
   "id": "7811825f",
   "metadata": {},
   "source": [
    "# EDA"
   ]
  },
  {
   "cell_type": "code",
   "execution_count": 44,
   "id": "d1ccde26",
   "metadata": {
    "ExecuteTime": {
     "end_time": "2023-08-11T03:02:07.728134Z",
     "start_time": "2023-08-11T03:02:07.722891Z"
    }
   },
   "outputs": [
    {
     "data": {
      "text/plain": [
       "customer_id      0\n",
       "gross_revenue    0\n",
       "recency_days     0\n",
       "total_orders     0\n",
       "frequency        0\n",
       "qty_returns      0\n",
       "dtype: int64"
      ]
     },
     "execution_count": 44,
     "metadata": {},
     "output_type": "execute_result"
    }
   ],
   "source": [
    "df3 = df_ref.dropna()\n",
    "df3.isna().sum()"
   ]
  },
  {
   "cell_type": "markdown",
   "id": "f4dd8a64",
   "metadata": {},
   "source": [
    "## DATA SPACE STUDY"
   ]
  },
  {
   "cell_type": "code",
   "execution_count": 45,
   "id": "c83b0035",
   "metadata": {
    "ExecuteTime": {
     "end_time": "2023-08-11T03:02:07.731543Z",
     "start_time": "2023-08-11T03:02:07.728908Z"
    }
   },
   "outputs": [],
   "source": [
    "# dataset with the selected features\n",
    "features_selected = ['customer_id', 'gross_revenue', 'recency_days', 'total_orders', 'frequency', 'qty_returns']\n",
    "df_data_space = df3[features_selected].drop(columns=['customer_id'], axis=1).copy()"
   ]
  },
  {
   "cell_type": "markdown",
   "id": "8e9b4d13",
   "metadata": {},
   "source": [
    "### TREE-BASED EMBEDDING"
   ]
  },
  {
   "cell_type": "code",
   "execution_count": 46,
   "id": "4a3b1665",
   "metadata": {
    "ExecuteTime": {
     "end_time": "2023-08-11T03:02:12.368674Z",
     "start_time": "2023-08-11T03:02:07.732637Z"
    }
   },
   "outputs": [],
   "source": [
    "# training datasets\n",
    "X = df_data_space.drop(columns=['gross_revenue'])\n",
    "y = df_data_space['gross_revenue']\n",
    "\n",
    "# model\n",
    "rf_model = RandomForestRegressor(n_estimators=1000, random_state=42)\n",
    "\n",
    "# model training\n",
    "rf_model.fit(X, y)\n",
    "\n",
    "# saving the model as a pickle file\n",
    "#pickle.dump(rf_model, open('/home/gabriel/repos/cluster_vips/model/rf_model.pkl', 'wb'))\n",
    "\n",
    "# uploading to S3\n",
    "#pickle.dump(rf_model, fs.open('s3://cluster-vips-dataset/rf_model.pkl', 'wb'))\n",
    "\n",
    "# dataframe with leaf nodes\n",
    "df_leaf = pd.DataFrame(rf_model.apply(X))"
   ]
  },
  {
   "cell_type": "code",
   "execution_count": 47,
   "id": "c9e5d2a6",
   "metadata": {
    "ExecuteTime": {
     "end_time": "2023-08-11T03:02:20.407699Z",
     "start_time": "2023-08-11T03:02:12.370658Z"
    }
   },
   "outputs": [],
   "source": [
    "# reduce dimensionality\n",
    "reducer = umap.UMAP(random_state=42, n_neighbors=25, min_dist=0.1, n_components=2)\n",
    "embedding = reducer.fit_transform(df_leaf)\n",
    "\n",
    "# saving the dimensionality reducer as a pickle file\n",
    "#pickle.dump(reducer, open('/home/gabriel/repos/cluster_vips/model/umap_reducer.pkl', 'wb'))\n",
    "\n",
    "# uploading to S3\n",
    "#pickle.dump(reducer, fs.open('s3://cluster-vips-dataset/umap_reducer.pkl', 'wb'))\n",
    "\n",
    "# embedding\n",
    "df_tree = pd.DataFrame()\n",
    "df_tree['embedding_x'] = embedding[:, 0]\n",
    "df_tree['embedding_y'] = embedding[:, 1]"
   ]
  },
  {
   "cell_type": "markdown",
   "id": "eb400278",
   "metadata": {},
   "source": [
    "# MODEL TRAINING"
   ]
  },
  {
   "cell_type": "code",
   "execution_count": 48,
   "id": "5b4dbb4c",
   "metadata": {
    "ExecuteTime": {
     "end_time": "2023-08-11T03:02:20.411566Z",
     "start_time": "2023-08-11T03:02:20.409044Z"
    }
   },
   "outputs": [],
   "source": [
    "X = df_tree.copy()"
   ]
  },
  {
   "cell_type": "code",
   "execution_count": 49,
   "id": "8bed6ed6",
   "metadata": {
    "ExecuteTime": {
     "end_time": "2023-08-11T03:02:20.415613Z",
     "start_time": "2023-08-11T03:02:20.413180Z"
    }
   },
   "outputs": [],
   "source": [
    "clusters = np.arange(2, 26)"
   ]
  },
  {
   "cell_type": "markdown",
   "id": "e2c26790",
   "metadata": {},
   "source": [
    "## MODEL DEFINITION"
   ]
  },
  {
   "cell_type": "code",
   "execution_count": 50,
   "id": "47a3830b",
   "metadata": {
    "ExecuteTime": {
     "end_time": "2023-08-11T03:02:22.040428Z",
     "start_time": "2023-08-11T03:02:20.417736Z"
    }
   },
   "outputs": [],
   "source": [
    "# model definition\n",
    "k = 10\n",
    "gmm_model = GaussianMixture(n_components=k, n_init=100, init_params='k-means++', max_iter=1000, random_state=42)\n",
    "\n",
    "# model training\n",
    "gmm_model.fit(X)\n",
    "\n",
    "# saving the gmm model as a pickle file\n",
    "#pickle.dump(gmm_model, open('/home/gabriel/repos/cluster_vips/model/gmm_model.pkl', 'wb'))\n",
    "\n",
    "# uploading to S3\n",
    "#pickle.dump(gmm_model, fs.open('s3://cluster-vips-dataset/gmm_model.pkl', 'wb'))\n",
    "\n",
    "# clustering\n",
    "labels = gmm_model.predict(X)"
   ]
  },
  {
   "cell_type": "markdown",
   "id": "2315f160",
   "metadata": {},
   "source": [
    "## CLUSTER VALIDATION"
   ]
  },
  {
   "cell_type": "code",
   "execution_count": 51,
   "id": "90939de3",
   "metadata": {
    "ExecuteTime": {
     "end_time": "2023-08-11T03:02:22.341826Z",
     "start_time": "2023-08-11T03:02:22.042943Z"
    }
   },
   "outputs": [
    {
     "name": "stdout",
     "output_type": "stream",
     "text": [
      "SS Results: 0.6231642961502075\n"
     ]
    }
   ],
   "source": [
    "# SS (Silhouette Score)\n",
    "print(f'SS Results: {silhouette_score(X, labels, metric=\"euclidean\")}')"
   ]
  },
  {
   "cell_type": "markdown",
   "id": "4c1d1f75",
   "metadata": {},
   "source": [
    "# ANALYSIS"
   ]
  },
  {
   "cell_type": "code",
   "execution_count": 52,
   "id": "178b8831",
   "metadata": {
    "ExecuteTime": {
     "end_time": "2023-08-11T03:02:22.345959Z",
     "start_time": "2023-08-11T03:02:22.343291Z"
    }
   },
   "outputs": [],
   "source": [
    "df_cluster = df3.copy()"
   ]
  },
  {
   "cell_type": "code",
   "execution_count": 53,
   "id": "77486c1e",
   "metadata": {
    "ExecuteTime": {
     "end_time": "2023-08-11T03:02:22.355690Z",
     "start_time": "2023-08-11T03:02:22.347267Z"
    }
   },
   "outputs": [
    {
     "data": {
      "text/html": [
       "<div>\n",
       "<style scoped>\n",
       "    .dataframe tbody tr th:only-of-type {\n",
       "        vertical-align: middle;\n",
       "    }\n",
       "\n",
       "    .dataframe tbody tr th {\n",
       "        vertical-align: top;\n",
       "    }\n",
       "\n",
       "    .dataframe thead th {\n",
       "        text-align: right;\n",
       "    }\n",
       "</style>\n",
       "<table border=\"1\" class=\"dataframe\">\n",
       "  <thead>\n",
       "    <tr style=\"text-align: right;\">\n",
       "      <th></th>\n",
       "      <th>customer_id</th>\n",
       "      <th>gross_revenue</th>\n",
       "      <th>recency_days</th>\n",
       "      <th>total_orders</th>\n",
       "      <th>frequency</th>\n",
       "      <th>qty_returns</th>\n",
       "      <th>cluster</th>\n",
       "    </tr>\n",
       "  </thead>\n",
       "  <tbody>\n",
       "    <tr>\n",
       "      <th>0</th>\n",
       "      <td>17850</td>\n",
       "      <td>5391.21</td>\n",
       "      <td>372.0</td>\n",
       "      <td>34.0</td>\n",
       "      <td>17.000000</td>\n",
       "      <td>40.0</td>\n",
       "      <td>2</td>\n",
       "    </tr>\n",
       "    <tr>\n",
       "      <th>1</th>\n",
       "      <td>13047</td>\n",
       "      <td>3232.59</td>\n",
       "      <td>56.0</td>\n",
       "      <td>9.0</td>\n",
       "      <td>0.028302</td>\n",
       "      <td>35.0</td>\n",
       "      <td>5</td>\n",
       "    </tr>\n",
       "    <tr>\n",
       "      <th>2</th>\n",
       "      <td>12583</td>\n",
       "      <td>6705.38</td>\n",
       "      <td>2.0</td>\n",
       "      <td>15.0</td>\n",
       "      <td>0.040323</td>\n",
       "      <td>50.0</td>\n",
       "      <td>2</td>\n",
       "    </tr>\n",
       "    <tr>\n",
       "      <th>3</th>\n",
       "      <td>13748</td>\n",
       "      <td>948.25</td>\n",
       "      <td>95.0</td>\n",
       "      <td>5.0</td>\n",
       "      <td>0.017921</td>\n",
       "      <td>0.0</td>\n",
       "      <td>6</td>\n",
       "    </tr>\n",
       "    <tr>\n",
       "      <th>4</th>\n",
       "      <td>15100</td>\n",
       "      <td>876.00</td>\n",
       "      <td>333.0</td>\n",
       "      <td>3.0</td>\n",
       "      <td>0.073171</td>\n",
       "      <td>22.0</td>\n",
       "      <td>3</td>\n",
       "    </tr>\n",
       "  </tbody>\n",
       "</table>\n",
       "</div>"
      ],
      "text/plain": [
       "   customer_id  gross_revenue  recency_days  total_orders  frequency  \\\n",
       "0        17850        5391.21         372.0          34.0  17.000000   \n",
       "1        13047        3232.59          56.0           9.0   0.028302   \n",
       "2        12583        6705.38           2.0          15.0   0.040323   \n",
       "3        13748         948.25          95.0           5.0   0.017921   \n",
       "4        15100         876.00         333.0           3.0   0.073171   \n",
       "\n",
       "   qty_returns  cluster  \n",
       "0         40.0        2  \n",
       "1         35.0        5  \n",
       "2         50.0        2  \n",
       "3          0.0        6  \n",
       "4         22.0        3  "
      ]
     },
     "execution_count": 53,
     "metadata": {},
     "output_type": "execute_result"
    }
   ],
   "source": [
    "df_cluster['cluster'] = labels\n",
    "df_cluster.head()"
   ]
  },
  {
   "cell_type": "markdown",
   "id": "ff98e5af",
   "metadata": {},
   "source": [
    "## CLUSTERING VISUAL INSPECTION"
   ]
  },
  {
   "cell_type": "code",
   "execution_count": 54,
   "id": "82280eb5",
   "metadata": {
    "ExecuteTime": {
     "end_time": "2023-08-11T03:02:22.363676Z",
     "start_time": "2023-08-11T03:02:22.356784Z"
    }
   },
   "outputs": [
    {
     "data": {
      "text/html": [
       "<div>\n",
       "<style scoped>\n",
       "    .dataframe tbody tr th:only-of-type {\n",
       "        vertical-align: middle;\n",
       "    }\n",
       "\n",
       "    .dataframe tbody tr th {\n",
       "        vertical-align: top;\n",
       "    }\n",
       "\n",
       "    .dataframe thead th {\n",
       "        text-align: right;\n",
       "    }\n",
       "</style>\n",
       "<table border=\"1\" class=\"dataframe\">\n",
       "  <thead>\n",
       "    <tr style=\"text-align: right;\">\n",
       "      <th></th>\n",
       "      <th>embedding_x</th>\n",
       "      <th>embedding_y</th>\n",
       "      <th>cluster</th>\n",
       "    </tr>\n",
       "  </thead>\n",
       "  <tbody>\n",
       "    <tr>\n",
       "      <th>0</th>\n",
       "      <td>3.491432</td>\n",
       "      <td>22.688183</td>\n",
       "      <td>2</td>\n",
       "    </tr>\n",
       "    <tr>\n",
       "      <th>1</th>\n",
       "      <td>-1.359769</td>\n",
       "      <td>10.505424</td>\n",
       "      <td>5</td>\n",
       "    </tr>\n",
       "    <tr>\n",
       "      <th>2</th>\n",
       "      <td>2.006280</td>\n",
       "      <td>19.783897</td>\n",
       "      <td>2</td>\n",
       "    </tr>\n",
       "    <tr>\n",
       "      <th>3</th>\n",
       "      <td>-4.024026</td>\n",
       "      <td>-2.139170</td>\n",
       "      <td>6</td>\n",
       "    </tr>\n",
       "    <tr>\n",
       "      <th>4</th>\n",
       "      <td>18.666782</td>\n",
       "      <td>-6.345514</td>\n",
       "      <td>3</td>\n",
       "    </tr>\n",
       "  </tbody>\n",
       "</table>\n",
       "</div>"
      ],
      "text/plain": [
       "   embedding_x  embedding_y  cluster\n",
       "0     3.491432    22.688183        2\n",
       "1    -1.359769    10.505424        5\n",
       "2     2.006280    19.783897        2\n",
       "3    -4.024026    -2.139170        6\n",
       "4    18.666782    -6.345514        3"
      ]
     },
     "execution_count": 54,
     "metadata": {},
     "output_type": "execute_result"
    }
   ],
   "source": [
    "df_7 = X.copy()\n",
    "df_7['cluster'] = labels\n",
    "df_7.head()"
   ]
  },
  {
   "cell_type": "code",
   "execution_count": 55,
   "id": "00702090",
   "metadata": {
    "ExecuteTime": {
     "end_time": "2023-08-11T03:02:22.744730Z",
     "start_time": "2023-08-11T03:02:22.365303Z"
    }
   },
   "outputs": [
    {
     "data": {
      "image/png": "[encoded data removed]",
      "text/plain": [
       "<Figure size 2500x1000 with 1 Axes>"
      ]
     },
     "metadata": {},
     "output_type": "display_data"
    }
   ],
   "source": [
    "plt.figure(figsize=(25,10))\n",
    "sns.scatterplot(x='embedding_x', y='embedding_y', hue='cluster', data=df_7, palette='Set1');"
   ]
  },
  {
   "cell_type": "markdown",
   "id": "800212f1",
   "metadata": {},
   "source": [
    "## CLUSTER PROFILE"
   ]
  },
  {
   "cell_type": "code",
   "execution_count": 56,
   "id": "f940519d",
   "metadata": {
    "ExecuteTime": {
     "end_time": "2023-08-11T03:02:22.765549Z",
     "start_time": "2023-08-11T03:02:22.747355Z"
    }
   },
   "outputs": [],
   "source": [
    "# number of customer\n",
    "df_cluster_profile = df_cluster[['customer_id', 'cluster']].groupby('cluster').count().reset_index()\n",
    "df_cluster_profile['perc_customer'] = 100*(df_cluster_profile['customer_id']/df_cluster_profile['customer_id'].sum())\n",
    "\n",
    "# avg gross revenue\n",
    "df_avg_gross_revenue = df_cluster[['gross_revenue', 'cluster']].groupby('cluster').mean().reset_index()\n",
    "df_cluster_profile = pd.merge(df_cluster_profile, df_avg_gross_revenue, how='inner', on='cluster')\n",
    "\n",
    "# avg recency days\n",
    "df_avg_recency_days = df_cluster[['recency_days', 'cluster']].groupby('cluster').mean().reset_index()\n",
    "df_cluster_profile = pd.merge(df_cluster_profile, df_avg_recency_days, how='inner', on='cluster')\n",
    "\n",
    "# avg orders\n",
    "df_avg_orders = df_cluster[['total_orders', 'cluster']].groupby('cluster').mean().reset_index()\n",
    "df_cluster_profile = pd.merge(df_cluster_profile, df_avg_orders, how='inner', on='cluster')\n",
    "\n",
    "# avg frequency\n",
    "df_avg_frequency = df_cluster[['frequency', 'cluster']].groupby('cluster').mean().reset_index()\n",
    "df_cluster_profile = pd.merge(df_cluster_profile, df_avg_frequency, how='inner', on='cluster')\n",
    "\n",
    "# avg quantity of returns\n",
    "df_avg_qty_returns = df_cluster[['qty_returns', 'cluster']].groupby('cluster').mean().reset_index()\n",
    "df_cluster_profile = pd.merge(df_cluster_profile, df_avg_qty_returns, how='inner', on='cluster')"
   ]
  },
  {
   "cell_type": "code",
   "execution_count": 57,
   "id": "e18837c2",
   "metadata": {
    "ExecuteTime": {
     "end_time": "2023-08-11T03:02:22.833854Z",
     "start_time": "2023-08-11T03:02:22.766865Z"
    }
   },
   "outputs": [
    {
     "data": {
      "text/html": [
       "<div>\n",
       "<style scoped>\n",
       "    .dataframe tbody tr th:only-of-type {\n",
       "        vertical-align: middle;\n",
       "    }\n",
       "\n",
       "    .dataframe tbody tr th {\n",
       "        vertical-align: top;\n",
       "    }\n",
       "\n",
       "    .dataframe thead th {\n",
       "        text-align: right;\n",
       "    }\n",
       "</style>\n",
       "<table border=\"1\" class=\"dataframe\">\n",
       "  <thead>\n",
       "    <tr style=\"text-align: right;\">\n",
       "      <th></th>\n",
       "      <th>cluster</th>\n",
       "      <th>customer_id</th>\n",
       "      <th>perc_customer</th>\n",
       "      <th>gross_revenue</th>\n",
       "      <th>recency_days</th>\n",
       "      <th>total_orders</th>\n",
       "      <th>frequency</th>\n",
       "      <th>qty_returns</th>\n",
       "    </tr>\n",
       "  </thead>\n",
       "  <tbody>\n",
       "    <tr>\n",
       "      <th>2</th>\n",
       "      <td>2</td>\n",
       "      <td>251</td>\n",
       "      <td>8.888102</td>\n",
       "      <td>15857.935976</td>\n",
       "      <td>11.884462</td>\n",
       "      <td>24.266932</td>\n",
       "      <td>0.138825</td>\n",
       "      <td>218.402390</td>\n",
       "    </tr>\n",
       "    <tr>\n",
       "      <th>5</th>\n",
       "      <td>5</td>\n",
       "      <td>481</td>\n",
       "      <td>17.032578</td>\n",
       "      <td>3303.880437</td>\n",
       "      <td>27.586279</td>\n",
       "      <td>8.480249</td>\n",
       "      <td>0.041839</td>\n",
       "      <td>53.012474</td>\n",
       "    </tr>\n",
       "    <tr>\n",
       "      <th>0</th>\n",
       "      <td>0</td>\n",
       "      <td>140</td>\n",
       "      <td>4.957507</td>\n",
       "      <td>2031.789571</td>\n",
       "      <td>41.400000</td>\n",
       "      <td>5.985714</td>\n",
       "      <td>0.061290</td>\n",
       "      <td>2.400000</td>\n",
       "    </tr>\n",
       "    <tr>\n",
       "      <th>6</th>\n",
       "      <td>6</td>\n",
       "      <td>238</td>\n",
       "      <td>8.427762</td>\n",
       "      <td>1946.825462</td>\n",
       "      <td>42.983193</td>\n",
       "      <td>4.966387</td>\n",
       "      <td>0.076367</td>\n",
       "      <td>12.915966</td>\n",
       "    </tr>\n",
       "    <tr>\n",
       "      <th>7</th>\n",
       "      <td>7</td>\n",
       "      <td>100</td>\n",
       "      <td>3.541076</td>\n",
       "      <td>1740.114400</td>\n",
       "      <td>52.940000</td>\n",
       "      <td>4.000000</td>\n",
       "      <td>0.027619</td>\n",
       "      <td>31.830000</td>\n",
       "    </tr>\n",
       "    <tr>\n",
       "      <th>4</th>\n",
       "      <td>4</td>\n",
       "      <td>294</td>\n",
       "      <td>10.410765</td>\n",
       "      <td>1350.988299</td>\n",
       "      <td>54.190476</td>\n",
       "      <td>3.979592</td>\n",
       "      <td>0.038939</td>\n",
       "      <td>7.581633</td>\n",
       "    </tr>\n",
       "    <tr>\n",
       "      <th>3</th>\n",
       "      <td>3</td>\n",
       "      <td>498</td>\n",
       "      <td>17.634561</td>\n",
       "      <td>1067.999237</td>\n",
       "      <td>68.598394</td>\n",
       "      <td>3.000000</td>\n",
       "      <td>0.035532</td>\n",
       "      <td>8.269076</td>\n",
       "    </tr>\n",
       "    <tr>\n",
       "      <th>9</th>\n",
       "      <td>9</td>\n",
       "      <td>49</td>\n",
       "      <td>1.735127</td>\n",
       "      <td>948.983878</td>\n",
       "      <td>123.755102</td>\n",
       "      <td>2.000000</td>\n",
       "      <td>0.138263</td>\n",
       "      <td>64.693878</td>\n",
       "    </tr>\n",
       "    <tr>\n",
       "      <th>1</th>\n",
       "      <td>1</td>\n",
       "      <td>630</td>\n",
       "      <td>22.308782</td>\n",
       "      <td>652.809317</td>\n",
       "      <td>100.579365</td>\n",
       "      <td>2.000000</td>\n",
       "      <td>0.197325</td>\n",
       "      <td>1.174603</td>\n",
       "    </tr>\n",
       "    <tr>\n",
       "      <th>8</th>\n",
       "      <td>8</td>\n",
       "      <td>143</td>\n",
       "      <td>5.063739</td>\n",
       "      <td>615.029650</td>\n",
       "      <td>48.916084</td>\n",
       "      <td>2.000000</td>\n",
       "      <td>0.007932</td>\n",
       "      <td>0.020979</td>\n",
       "    </tr>\n",
       "  </tbody>\n",
       "</table>\n",
       "</div>"
      ],
      "text/plain": [
       "   cluster  customer_id  perc_customer  gross_revenue  recency_days  \\\n",
       "2        2          251       8.888102   15857.935976     11.884462   \n",
       "5        5          481      17.032578    3303.880437     27.586279   \n",
       "0        0          140       4.957507    2031.789571     41.400000   \n",
       "6        6          238       8.427762    1946.825462     42.983193   \n",
       "7        7          100       3.541076    1740.114400     52.940000   \n",
       "4        4          294      10.410765    1350.988299     54.190476   \n",
       "3        3          498      17.634561    1067.999237     68.598394   \n",
       "9        9           49       1.735127     948.983878    123.755102   \n",
       "1        1          630      22.308782     652.809317    100.579365   \n",
       "8        8          143       5.063739     615.029650     48.916084   \n",
       "\n",
       "   total_orders  frequency  qty_returns  \n",
       "2     24.266932   0.138825   218.402390  \n",
       "5      8.480249   0.041839    53.012474  \n",
       "0      5.985714   0.061290     2.400000  \n",
       "6      4.966387   0.076367    12.915966  \n",
       "7      4.000000   0.027619    31.830000  \n",
       "4      3.979592   0.038939     7.581633  \n",
       "3      3.000000   0.035532     8.269076  \n",
       "9      2.000000   0.138263    64.693878  \n",
       "1      2.000000   0.197325     1.174603  \n",
       "8      2.000000   0.007932     0.020979  "
      ]
     },
     "execution_count": 57,
     "metadata": {},
     "output_type": "execute_result"
    }
   ],
   "source": [
    "df_cluster_profile.sort_values(by='gross_revenue', ascending=False)"
   ]
  },
  {
   "cell_type": "markdown",
   "id": "13039c4f",
   "metadata": {},
   "source": [
    "Clusters:\n",
    "- VIP (Highest Rank)\n",
    "- Platinum\n",
    "- Gold\n",
    "- Silver\n",
    "- Bronze\n",
    "- Elite\n",
    "- Preferred\n",
    "- Standard\n",
    "- Basic\n",
    "- Newcomer (Lowest Rank)"
   ]
  },
  {
   "cell_type": "markdown",
   "id": "79cedcf8",
   "metadata": {},
   "source": [
    "# DEPLOY"
   ]
  },
  {
   "cell_type": "code",
   "execution_count": 58,
   "id": "0fd3f537",
   "metadata": {
    "ExecuteTime": {
     "end_time": "2023-08-11T03:02:22.840977Z",
     "start_time": "2023-08-11T03:02:22.834898Z"
    }
   },
   "outputs": [
    {
     "data": {
      "text/html": [
       "<div>\n",
       "<style scoped>\n",
       "    .dataframe tbody tr th:only-of-type {\n",
       "        vertical-align: middle;\n",
       "    }\n",
       "\n",
       "    .dataframe tbody tr th {\n",
       "        vertical-align: top;\n",
       "    }\n",
       "\n",
       "    .dataframe thead th {\n",
       "        text-align: right;\n",
       "    }\n",
       "</style>\n",
       "<table border=\"1\" class=\"dataframe\">\n",
       "  <thead>\n",
       "    <tr style=\"text-align: right;\">\n",
       "      <th></th>\n",
       "      <th>customer_id</th>\n",
       "      <th>gross_revenue</th>\n",
       "      <th>recency_days</th>\n",
       "      <th>total_orders</th>\n",
       "      <th>frequency</th>\n",
       "      <th>qty_returns</th>\n",
       "      <th>cluster</th>\n",
       "    </tr>\n",
       "  </thead>\n",
       "  <tbody>\n",
       "    <tr>\n",
       "      <th>0</th>\n",
       "      <td>17850</td>\n",
       "      <td>5391.21</td>\n",
       "      <td>372.0</td>\n",
       "      <td>34.0</td>\n",
       "      <td>17.000000</td>\n",
       "      <td>40.0</td>\n",
       "      <td>2</td>\n",
       "    </tr>\n",
       "    <tr>\n",
       "      <th>1</th>\n",
       "      <td>13047</td>\n",
       "      <td>3232.59</td>\n",
       "      <td>56.0</td>\n",
       "      <td>9.0</td>\n",
       "      <td>0.028302</td>\n",
       "      <td>35.0</td>\n",
       "      <td>5</td>\n",
       "    </tr>\n",
       "    <tr>\n",
       "      <th>2</th>\n",
       "      <td>12583</td>\n",
       "      <td>6705.38</td>\n",
       "      <td>2.0</td>\n",
       "      <td>15.0</td>\n",
       "      <td>0.040323</td>\n",
       "      <td>50.0</td>\n",
       "      <td>2</td>\n",
       "    </tr>\n",
       "    <tr>\n",
       "      <th>3</th>\n",
       "      <td>13748</td>\n",
       "      <td>948.25</td>\n",
       "      <td>95.0</td>\n",
       "      <td>5.0</td>\n",
       "      <td>0.017921</td>\n",
       "      <td>0.0</td>\n",
       "      <td>6</td>\n",
       "    </tr>\n",
       "    <tr>\n",
       "      <th>4</th>\n",
       "      <td>15100</td>\n",
       "      <td>876.00</td>\n",
       "      <td>333.0</td>\n",
       "      <td>3.0</td>\n",
       "      <td>0.073171</td>\n",
       "      <td>22.0</td>\n",
       "      <td>3</td>\n",
       "    </tr>\n",
       "  </tbody>\n",
       "</table>\n",
       "</div>"
      ],
      "text/plain": [
       "   customer_id  gross_revenue  recency_days  total_orders  frequency  \\\n",
       "0        17850        5391.21         372.0          34.0  17.000000   \n",
       "1        13047        3232.59          56.0           9.0   0.028302   \n",
       "2        12583        6705.38           2.0          15.0   0.040323   \n",
       "3        13748         948.25          95.0           5.0   0.017921   \n",
       "4        15100         876.00         333.0           3.0   0.073171   \n",
       "\n",
       "   qty_returns  cluster  \n",
       "0         40.0        2  \n",
       "1         35.0        5  \n",
       "2         50.0        2  \n",
       "3          0.0        6  \n",
       "4         22.0        3  "
      ]
     },
     "execution_count": 58,
     "metadata": {},
     "output_type": "execute_result"
    }
   ],
   "source": [
    "df_cluster.head()"
   ]
  },
  {
   "cell_type": "code",
   "execution_count": 59,
   "id": "d09238ec",
   "metadata": {
    "ExecuteTime": {
     "end_time": "2023-08-11T03:02:22.848266Z",
     "start_time": "2023-08-11T03:02:22.842556Z"
    }
   },
   "outputs": [
    {
     "data": {
      "text/plain": [
       "customer_id        int64\n",
       "gross_revenue    float64\n",
       "recency_days     float64\n",
       "total_orders     float64\n",
       "frequency        float64\n",
       "qty_returns      float64\n",
       "cluster            int64\n",
       "dtype: object"
      ]
     },
     "execution_count": 59,
     "metadata": {},
     "output_type": "execute_result"
    }
   ],
   "source": [
    "df_cluster.dtypes"
   ]
  },
  {
   "cell_type": "markdown",
   "id": "2ecf9708",
   "metadata": {},
   "source": [
    "## UPLOADING IT TO A SQLITE DATABASE"
   ]
  },
  {
   "cell_type": "code",
   "execution_count": 60,
   "id": "f6c020cb",
   "metadata": {
    "ExecuteTime": {
     "end_time": "2023-08-11T03:02:22.858759Z",
     "start_time": "2023-08-11T03:02:22.851811Z"
    }
   },
   "outputs": [],
   "source": [
    "df_cluster['recency_days'] = df_cluster['recency_days'].astype(int)\n",
    "df_cluster['total_orders'] = df_cluster['total_orders'].astype(int)\n",
    "df_cluster['qty_returns'] = df_cluster['qty_returns'].astype(int)"
   ]
  },
  {
   "cell_type": "code",
   "execution_count": 61,
   "id": "dbf1dcac",
   "metadata": {
    "ExecuteTime": {
     "end_time": "2023-08-11T03:02:22.864138Z",
     "start_time": "2023-08-11T03:02:22.860803Z"
    }
   },
   "outputs": [],
   "source": [
    "# # creating tables\n",
    "# query_create_table_vip = \"\"\"\n",
    "#     CREATE TABLE vips (\n",
    "#         customer_id      INTEGER,\n",
    "#         gross_revenue    REAL,\n",
    "#         recency_days     INTEGER,\n",
    "#         total_orders     INTEGER,\n",
    "#         frequency        REAL,\n",
    "#         qty_returns      INTEGER,\n",
    "#         cluster          INTEGER     \n",
    "#     )\n",
    "# \"\"\"\n",
    "\n",
    "# conn = sqlite3.connect('vip_clients_db.sqlite')\n",
    "# conn.execute(query_create_table_vip)\n",
    "# conn.commit()\n",
    "# conn.close()\n",
    "\n",
    "# # inserting into a database\n",
    "# conn = create_engine('sqlite:///vip_clients_db.sqlite')\n",
    "# df_cluster.to_sql('vips', con=conn, if_exists='append', index=False)"
   ]
  },
  {
   "cell_type": "code",
   "execution_count": 62,
   "id": "04138a8a",
   "metadata": {
    "ExecuteTime": {
     "end_time": "2023-08-11T03:02:22.868250Z",
     "start_time": "2023-08-11T03:02:22.865731Z"
    }
   },
   "outputs": [],
   "source": [
    "# # consulting the database\n",
    "# query = \"\"\"\n",
    "#     SELECT * FROM vips\n",
    "# \"\"\"\n",
    "\n",
    "# df = pd.read_sql_query(query, conn)"
   ]
  },
  {
   "cell_type": "code",
   "execution_count": null,
   "id": "f04dc5f3",
   "metadata": {},
   "outputs": [],
   "source": []
  },
  {
   "cell_type": "code",
   "execution_count": null,
   "id": "f3ee9ed7",
   "metadata": {},
   "outputs": [],
   "source": []
  },
  {
   "cell_type": "code",
   "execution_count": null,
   "id": "edbfdd5d",
   "metadata": {},
   "outputs": [],
   "source": []
  },
  {
   "cell_type": "code",
   "execution_count": null,
   "id": "a4601417",
   "metadata": {},
   "outputs": [],
   "source": []
  }
 ],
 "metadata": {
  "kernelspec": {
   "display_name": "Python 3 (ipykernel)",
   "language": "python",
   "name": "python3"
  },
  "language_info": {
   "codemirror_mode": {
    "name": "ipython",
    "version": 3
   },
   "file_extension": ".py",
   "mimetype": "text/x-python",
   "name": "python",
   "nbconvert_exporter": "python",
   "pygments_lexer": "ipython3",
   "version": "3.11.3"
  },
  "toc": {
   "base_numbering": "0",
   "nav_menu": {},
   "number_sections": true,
   "sideBar": true,
   "skip_h1_title": false,
   "title_cell": "Table of Contents",
   "title_sidebar": "Contents",
   "toc_cell": false,
   "toc_position": {
    "height": "calc(100% - 180px)",
    "left": "10px",
    "top": "150px",
    "width": "327px"
   },
   "toc_section_display": true,
   "toc_window_display": true
  }
 },
 "nbformat": 4,
 "nbformat_minor": 5
}
